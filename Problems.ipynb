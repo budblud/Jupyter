{
 "cells": [
  {
   "cell_type": "code",
   "execution_count": 4,
   "id": "fedb47ed",
   "metadata": {},
   "outputs": [],
   "source": [
    "#sum of all the multiples of 3 or 5 below 1000\n",
    "def func(n):\n",
    "    \n",
    "    s = 0\n",
    "    \n",
    "    for x in range(n):\n",
    "        if x % 15 == 0:\n",
    "            s += x\n",
    "        elif x % 3 == 0 or x % 5 == 0:\n",
    "            s += x\n",
    "        else:\n",
    "            continue\n",
    "    return s"
   ]
  },
  {
   "cell_type": "code",
   "execution_count": 6,
   "id": "d9e838a1",
   "metadata": {},
   "outputs": [
    {
     "data": {
      "text/plain": [
       "233168"
      ]
     },
     "execution_count": 6,
     "metadata": {},
     "output_type": "execute_result"
    }
   ],
   "source": [
    "func(1000)"
   ]
  },
  {
   "cell_type": "code",
   "execution_count": 7,
   "id": "14b7e958",
   "metadata": {},
   "outputs": [],
   "source": [
    "#By considering the terms in the Fibonacci sequence whose values do not exceed four million,\n",
    "#find the sum of the even-valued terms.\n",
    "def new_func():\n",
    "    \n",
    "    s = 2\n",
    "    a = 1\n",
    "    b = 2\n",
    "\n",
    "    while b < 4000000:\n",
    "        \n",
    "        a,b = b, a+b\n",
    "        if (a+b)%2 == 0:\n",
    "            s += a+b\n",
    "    return s"
   ]
  },
  {
   "cell_type": "code",
   "execution_count": 8,
   "id": "04e63499",
   "metadata": {},
   "outputs": [
    {
     "data": {
      "text/plain": [
       "4613732"
      ]
     },
     "execution_count": 8,
     "metadata": {},
     "output_type": "execute_result"
    }
   ],
   "source": [
    "new_func()"
   ]
  },
  {
   "cell_type": "code",
   "execution_count": 12,
   "id": "9b59f104",
   "metadata": {},
   "outputs": [],
   "source": [
    "#What is the largest prime factor of the number 600851475143 ?\n",
    "def true_if_less_than_3factors(j):\n",
    "    \n",
    "    s = 0\n",
    "    for i in range(1, int(j**0.5)+1):\n",
    "        if j % i == 0:\n",
    "            s += 2\n",
    "            \n",
    "    if int(j**0.5)**2 == j:\n",
    "        s -= 1\n",
    "    \n",
    "    return s < 3\n",
    "\n",
    "\n",
    "def list_of_factors(n):\n",
    "    lst = []\n",
    "    for i in range(1, int(n**0.5)+1):\n",
    "        if n % i == 0:\n",
    "            lst.append(i)\n",
    "            lst.append(int(n/i))\n",
    "            lst.sort()\n",
    "    \n",
    "    return lst"
   ]
  },
  {
   "cell_type": "code",
   "execution_count": 13,
   "id": "7b653ab4",
   "metadata": {},
   "outputs": [
    {
     "name": "stdout",
     "output_type": "stream",
     "text": [
      "Please enter the number: 600851475143\n",
      "The biggest prime number is  6857\n"
     ]
    }
   ],
   "source": [
    "num = int(input('Please enter the number: '))\n",
    "\n",
    "result = list_of_factors(num)\n",
    "\n",
    "res = list(filter(true_if_less_than_3factors, result))\n",
    "\n",
    "print(\"The biggest prime number is \", res[-1])"
   ]
  },
  {
   "cell_type": "code",
   "execution_count": 4,
   "id": "c1907656",
   "metadata": {},
   "outputs": [],
   "source": [
    "#Primes below number\n",
    "def only_primes(n):\n",
    "    \n",
    "    s = 0\n",
    "    lst2 = [2]\n",
    "    for i in range(1,int(n+1)):\n",
    "        for j in range(1,n+1):\n",
    "            if i % j == 0:\n",
    "                s += 1\n",
    "        if s < 3:\n",
    "            lst2.append(i)\n",
    "        else:\n",
    "            s=0\n",
    "    lst2.sort()\n",
    "    print (lst2, ' ')"
   ]
  },
  {
   "cell_type": "code",
   "execution_count": 5,
   "id": "5e602283",
   "metadata": {},
   "outputs": [
    {
     "name": "stdout",
     "output_type": "stream",
     "text": [
      "[1, 2, 3, 5, 7, 11, 13, 17, 19, 23, 29, 31, 37, 41, 43, 47, 53, 59, 61, 67, 71, 73, 79, 83, 89, 97]  \n"
     ]
    }
   ],
   "source": [
    "only_primes(100)"
   ]
  },
  {
   "cell_type": "code",
   "execution_count": 2,
   "id": "5f2c5847",
   "metadata": {},
   "outputs": [],
   "source": [
    "import timeit"
   ]
  },
  {
   "cell_type": "code",
   "execution_count": 30,
   "id": "fea8032a",
   "metadata": {},
   "outputs": [],
   "source": [
    "stmt = '''\n",
    "only_primes(100)\n",
    "'''"
   ]
  },
  {
   "cell_type": "code",
   "execution_count": 31,
   "id": "863255ea",
   "metadata": {},
   "outputs": [],
   "source": [
    "setup = '''\n",
    "def only_primes(n):\n",
    "    \n",
    "    s = 0\n",
    "    lst2 = [2]\n",
    "    for i in range(1,int(n+1)):\n",
    "        for j in range(1,n+1):\n",
    "            if i % j == 0:\n",
    "                s += 1\n",
    "        if s < 3:\n",
    "            lst2.append(i)\n",
    "        else:\n",
    "            s=0\n",
    "    lst2.sort()\n",
    "    print (lst2, ' ')\n",
    "'''"
   ]
  },
  {
   "cell_type": "code",
   "execution_count": 32,
   "id": "a7c3143e",
   "metadata": {},
   "outputs": [
    {
     "name": "stdout",
     "output_type": "stream",
     "text": [
      "[1, 2, 3, 5, 7, 11, 13, 17, 19, 23, 29, 31, 37, 41, 43, 47, 53, 59, 61, 67, 71, 73, 79, 83, 89, 97]  \n",
      "[1, 2, 3, 5, 7, 11, 13, 17, 19, 23, 29, 31, 37, 41, 43, 47, 53, 59, 61, 67, 71, 73, 79, 83, 89, 97]  \n",
      "[1, 2, 3, 5, 7, 11, 13, 17, 19, 23, 29, 31, 37, 41, 43, 47, 53, 59, 61, 67, 71, 73, 79, 83, 89, 97]  \n",
      "[1, 2, 3, 5, 7, 11, 13, 17, 19, 23, 29, 31, 37, 41, 43, 47, 53, 59, 61, 67, 71, 73, 79, 83, 89, 97]  \n",
      "[1, 2, 3, 5, 7, 11, 13, 17, 19, 23, 29, 31, 37, 41, 43, 47, 53, 59, 61, 67, 71, 73, 79, 83, 89, 97]  \n",
      "[1, 2, 3, 5, 7, 11, 13, 17, 19, 23, 29, 31, 37, 41, 43, 47, 53, 59, 61, 67, 71, 73, 79, 83, 89, 97]  \n",
      "[1, 2, 3, 5, 7, 11, 13, 17, 19, 23, 29, 31, 37, 41, 43, 47, 53, 59, 61, 67, 71, 73, 79, 83, 89, 97]  \n",
      "[1, 2, 3, 5, 7, 11, 13, 17, 19, 23, 29, 31, 37, 41, 43, 47, 53, 59, 61, 67, 71, 73, 79, 83, 89, 97]  \n",
      "[1, 2, 3, 5, 7, 11, 13, 17, 19, 23, 29, 31, 37, 41, 43, 47, 53, 59, 61, 67, 71, 73, 79, 83, 89, 97]  \n",
      "[1, 2, 3, 5, 7, 11, 13, 17, 19, 23, 29, 31, 37, 41, 43, 47, 53, 59, 61, 67, 71, 73, 79, 83, 89, 97]  \n"
     ]
    },
    {
     "data": {
      "text/plain": [
       "0.01693962500030466"
      ]
     },
     "execution_count": 32,
     "metadata": {},
     "output_type": "execute_result"
    }
   ],
   "source": [
    "timeit.timeit(stmt,setup, number = 10)"
   ]
  },
  {
   "cell_type": "code",
   "execution_count": null,
   "id": "0c2b999b",
   "metadata": {},
   "outputs": [],
   "source": []
  },
  {
   "cell_type": "code",
   "execution_count": 44,
   "id": "e3fbf29c",
   "metadata": {},
   "outputs": [],
   "source": [
    "import re\n",
    "#Find the largest palindrome made from the product of two 3-digit numbers.\n",
    "def palindrom():\n",
    "    \n",
    "    lst = []\n",
    "    for i in range(900, 1000):\n",
    "        for j in range(900, 1000):\n",
    "            if str(i * j) == str(i * j)[::-1]:\n",
    "                lst.append(i*j)\n",
    "                \n",
    "    return lst[-1]"
   ]
  },
  {
   "cell_type": "code",
   "execution_count": 45,
   "id": "87b2a5a2",
   "metadata": {},
   "outputs": [
    {
     "data": {
      "text/plain": [
       "906609"
      ]
     },
     "execution_count": 45,
     "metadata": {},
     "output_type": "execute_result"
    }
   ],
   "source": [
    "palindrom()"
   ]
  },
  {
   "cell_type": "code",
   "execution_count": 178,
   "id": "f886240d",
   "metadata": {},
   "outputs": [],
   "source": [
    "#What is the smallest positive number \n",
    "#that is evenly divisible by all of the numbers from 1 to 20?\n",
    "def smallest_positive():\n",
    "    \n",
    "    '''lst = []\n",
    "    s = -1\n",
    "    for i in range(20,1,-1):\n",
    "        lst.append([i])\n",
    "        s += 1\n",
    "        for j in range(2,21):\n",
    "            k = True\n",
    "            while k:\n",
    "                if i % j == 0:\n",
    "                    lst[s].append(j)\n",
    "                    i = i/j\n",
    "                    \n",
    "                else:\n",
    "                    k = False\n",
    "\n",
    "    for g in lst[::-1]:\n",
    "        g.pop(0)\n",
    "    return lst[::-1]'''\n",
    "    \n",
    "    a = int(input())\n",
    "    b = int(input())\n",
    "    \n",
    "    if a>b:\n",
    "        while a != b:\n",
    "            a,b = b, a-b\n",
    "    else:\n",
    "        while a != b:\n",
    "            b,a = a, b-a\n",
    "    return b\n",
    "        "
   ]
  },
  {
   "cell_type": "code",
   "execution_count": 179,
   "id": "4badb50a",
   "metadata": {},
   "outputs": [
    {
     "name": "stdout",
     "output_type": "stream",
     "text": [
      "20\n",
      "70\n"
     ]
    },
    {
     "ename": "KeyboardInterrupt",
     "evalue": "",
     "output_type": "error",
     "traceback": [
      "\u001b[0;31m---------------------------------------------------------------------------\u001b[0m",
      "\u001b[0;31mKeyboardInterrupt\u001b[0m                         Traceback (most recent call last)",
      "\u001b[0;32m<ipython-input-179-49e2af486c8b>\u001b[0m in \u001b[0;36m<module>\u001b[0;34m\u001b[0m\n\u001b[0;32m----> 1\u001b[0;31m \u001b[0msmallest_positive\u001b[0m\u001b[0;34m(\u001b[0m\u001b[0;34m)\u001b[0m\u001b[0;34m\u001b[0m\u001b[0;34m\u001b[0m\u001b[0m\n\u001b[0m",
      "\u001b[0;32m<ipython-input-178-9d318eca6770>\u001b[0m in \u001b[0;36msmallest_positive\u001b[0;34m()\u001b[0m\n\u001b[1;32m     30\u001b[0m     \u001b[0;32melse\u001b[0m\u001b[0;34m:\u001b[0m\u001b[0;34m\u001b[0m\u001b[0;34m\u001b[0m\u001b[0m\n\u001b[1;32m     31\u001b[0m         \u001b[0;32mwhile\u001b[0m \u001b[0ma\u001b[0m \u001b[0;34m!=\u001b[0m \u001b[0mb\u001b[0m\u001b[0;34m:\u001b[0m\u001b[0;34m\u001b[0m\u001b[0;34m\u001b[0m\u001b[0m\n\u001b[0;32m---> 32\u001b[0;31m             \u001b[0mb\u001b[0m\u001b[0;34m,\u001b[0m\u001b[0ma\u001b[0m \u001b[0;34m=\u001b[0m \u001b[0ma\u001b[0m\u001b[0;34m,\u001b[0m \u001b[0mb\u001b[0m\u001b[0;34m-\u001b[0m\u001b[0ma\u001b[0m\u001b[0;34m\u001b[0m\u001b[0;34m\u001b[0m\u001b[0m\n\u001b[0m\u001b[1;32m     33\u001b[0m     \u001b[0;32mreturn\u001b[0m \u001b[0mb\u001b[0m\u001b[0;34m\u001b[0m\u001b[0;34m\u001b[0m\u001b[0m\n\u001b[1;32m     34\u001b[0m \u001b[0;34m\u001b[0m\u001b[0m\n",
      "\u001b[0;31mKeyboardInterrupt\u001b[0m: "
     ]
    }
   ],
   "source": [
    "smallest_positive()"
   ]
  },
  {
   "cell_type": "code",
   "execution_count": 107,
   "id": "c7f0d26f",
   "metadata": {},
   "outputs": [],
   "source": [
    "lst = list(range(2,21))"
   ]
  },
  {
   "cell_type": "code",
   "execution_count": 116,
   "id": "952fc578",
   "metadata": {},
   "outputs": [],
   "source": [
    "lst.clear()"
   ]
  },
  {
   "cell_type": "code",
   "execution_count": 167,
   "id": "5bdc7042",
   "metadata": {},
   "outputs": [],
   "source": [
    "lst = [(1,2,3),(4,5,6), (6,7,8)]"
   ]
  },
  {
   "cell_type": "code",
   "execution_count": 156,
   "id": "d646bf88",
   "metadata": {},
   "outputs": [
    {
     "data": {
      "text/plain": [
       "3"
      ]
     },
     "execution_count": 156,
     "metadata": {},
     "output_type": "execute_result"
    }
   ],
   "source": [
    "lst."
   ]
  },
  {
   "cell_type": "code",
   "execution_count": null,
   "id": "38c6d80c",
   "metadata": {},
   "outputs": [],
   "source": []
  }
 ],
 "metadata": {
  "kernelspec": {
   "display_name": "Python 3",
   "language": "python",
   "name": "python3"
  },
  "language_info": {
   "codemirror_mode": {
    "name": "ipython",
    "version": 3
   },
   "file_extension": ".py",
   "mimetype": "text/x-python",
   "name": "python",
   "nbconvert_exporter": "python",
   "pygments_lexer": "ipython3",
   "version": "3.8.8"
  }
 },
 "nbformat": 4,
 "nbformat_minor": 5
}
