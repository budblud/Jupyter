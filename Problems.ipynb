{
 "cells": [
  {
   "cell_type": "code",
   "execution_count": 4,
   "id": "fedb47ed",
   "metadata": {},
   "outputs": [],
   "source": [
    "#sum of all the multiples of 3 or 5 below 1000\n",
    "def func(n):\n",
    "    \n",
    "    s = 0\n",
    "    \n",
    "    for x in range(n):\n",
    "        if x % 15 == 0:\n",
    "            s += x\n",
    "        elif x % 3 == 0 or x % 5 == 0:\n",
    "            s += x\n",
    "        else:\n",
    "            continue\n",
    "    return s"
   ]
  },
  {
   "cell_type": "code",
   "execution_count": 6,
   "id": "d9e838a1",
   "metadata": {},
   "outputs": [
    {
     "data": {
      "text/plain": [
       "233168"
      ]
     },
     "execution_count": 6,
     "metadata": {},
     "output_type": "execute_result"
    }
   ],
   "source": [
    "func(1000)"
   ]
  },
  {
   "cell_type": "code",
   "execution_count": 7,
   "id": "14b7e958",
   "metadata": {},
   "outputs": [],
   "source": [
    "#By considering the terms in the Fibonacci sequence whose values do not exceed four million,\n",
    "#find the sum of the even-valued terms.\n",
    "def new_func():\n",
    "    \n",
    "    s = 2\n",
    "    a = 1\n",
    "    b = 2\n",
    "\n",
    "    while b < 4000000:\n",
    "        \n",
    "        a,b = b, a+b\n",
    "        if (a+b)%2 == 0:\n",
    "            s += a+b\n",
    "    return s"
   ]
  },
  {
   "cell_type": "code",
   "execution_count": 8,
   "id": "04e63499",
   "metadata": {},
   "outputs": [
    {
     "data": {
      "text/plain": [
       "4613732"
      ]
     },
     "execution_count": 8,
     "metadata": {},
     "output_type": "execute_result"
    }
   ],
   "source": [
    "new_func()"
   ]
  },
  {
   "cell_type": "code",
   "execution_count": 12,
   "id": "9b59f104",
   "metadata": {},
   "outputs": [],
   "source": [
    "#What is the largest prime factor of the number 600851475143 ?\n",
    "def true_if_less_than_3factors(j):\n",
    "    \n",
    "    s = 0\n",
    "    for i in range(1, int(j**0.5)+1):\n",
    "        if j % i == 0:\n",
    "            s += 2\n",
    "            \n",
    "    if int(j**0.5)**2 == j:\n",
    "        s -= 1\n",
    "    \n",
    "    return s < 3\n",
    "\n",
    "\n",
    "def list_of_factors(n):\n",
    "    lst = []\n",
    "    for i in range(1, int(n**0.5)+1):\n",
    "        if n % i == 0:\n",
    "            lst.append(i)\n",
    "            lst.append(int(n/i))\n",
    "            lst.sort()\n",
    "    \n",
    "    return lst"
   ]
  },
  {
   "cell_type": "code",
   "execution_count": 13,
   "id": "7b653ab4",
   "metadata": {},
   "outputs": [
    {
     "name": "stdout",
     "output_type": "stream",
     "text": [
      "Please enter the number: 600851475143\n",
      "The biggest prime number is  6857\n"
     ]
    }
   ],
   "source": [
    "num = int(input('Please enter the number: '))\n",
    "\n",
    "result = list_of_factors(num)\n",
    "\n",
    "res = list(filter(true_if_less_than_3factors, result))\n",
    "\n",
    "print(\"The biggest prime number is \", res[-1])"
   ]
  },
  {
   "cell_type": "code",
   "execution_count": 4,
   "id": "c1907656",
   "metadata": {},
   "outputs": [],
   "source": [
    "#Primes below number\n",
    "def only_primes(n):\n",
    "    \n",
    "    s = 0\n",
    "    lst2 = [2]\n",
    "    for i in range(1,int(n+1)):\n",
    "        for j in range(1,n+1):\n",
    "            if i % j == 0:\n",
    "                s += 1\n",
    "        if s < 3:\n",
    "            lst2.append(i)\n",
    "        else:\n",
    "            s=0\n",
    "    lst2.sort()\n",
    "    print (lst2, ' ')"
   ]
  },
  {
   "cell_type": "code",
   "execution_count": 5,
   "id": "5e602283",
   "metadata": {},
   "outputs": [
    {
     "name": "stdout",
     "output_type": "stream",
     "text": [
      "[1, 2, 3, 5, 7, 11, 13, 17, 19, 23, 29, 31, 37, 41, 43, 47, 53, 59, 61, 67, 71, 73, 79, 83, 89, 97]  \n"
     ]
    }
   ],
   "source": [
    "only_primes(100)"
   ]
  },
  {
   "cell_type": "code",
   "execution_count": 2,
   "id": "5f2c5847",
   "metadata": {},
   "outputs": [],
   "source": [
    "import timeit"
   ]
  },
  {
   "cell_type": "code",
   "execution_count": 30,
   "id": "fea8032a",
   "metadata": {},
   "outputs": [],
   "source": [
    "stmt = '''\n",
    "only_primes(100)\n",
    "'''"
   ]
  },
  {
   "cell_type": "code",
   "execution_count": 31,
   "id": "863255ea",
   "metadata": {},
   "outputs": [],
   "source": [
    "setup = '''\n",
    "def only_primes(n):\n",
    "    \n",
    "    s = 0\n",
    "    lst2 = [2]\n",
    "    for i in range(1,int(n+1)):\n",
    "        for j in range(1,n+1):\n",
    "            if i % j == 0:\n",
    "                s += 1\n",
    "        if s < 3:\n",
    "            lst2.append(i)\n",
    "        else:\n",
    "            s=0\n",
    "    lst2.sort()\n",
    "    print (lst2, ' ')\n",
    "'''"
   ]
  },
  {
   "cell_type": "code",
   "execution_count": 32,
   "id": "a7c3143e",
   "metadata": {},
   "outputs": [
    {
     "name": "stdout",
     "output_type": "stream",
     "text": [
      "[1, 2, 3, 5, 7, 11, 13, 17, 19, 23, 29, 31, 37, 41, 43, 47, 53, 59, 61, 67, 71, 73, 79, 83, 89, 97]  \n",
      "[1, 2, 3, 5, 7, 11, 13, 17, 19, 23, 29, 31, 37, 41, 43, 47, 53, 59, 61, 67, 71, 73, 79, 83, 89, 97]  \n",
      "[1, 2, 3, 5, 7, 11, 13, 17, 19, 23, 29, 31, 37, 41, 43, 47, 53, 59, 61, 67, 71, 73, 79, 83, 89, 97]  \n",
      "[1, 2, 3, 5, 7, 11, 13, 17, 19, 23, 29, 31, 37, 41, 43, 47, 53, 59, 61, 67, 71, 73, 79, 83, 89, 97]  \n",
      "[1, 2, 3, 5, 7, 11, 13, 17, 19, 23, 29, 31, 37, 41, 43, 47, 53, 59, 61, 67, 71, 73, 79, 83, 89, 97]  \n",
      "[1, 2, 3, 5, 7, 11, 13, 17, 19, 23, 29, 31, 37, 41, 43, 47, 53, 59, 61, 67, 71, 73, 79, 83, 89, 97]  \n",
      "[1, 2, 3, 5, 7, 11, 13, 17, 19, 23, 29, 31, 37, 41, 43, 47, 53, 59, 61, 67, 71, 73, 79, 83, 89, 97]  \n",
      "[1, 2, 3, 5, 7, 11, 13, 17, 19, 23, 29, 31, 37, 41, 43, 47, 53, 59, 61, 67, 71, 73, 79, 83, 89, 97]  \n",
      "[1, 2, 3, 5, 7, 11, 13, 17, 19, 23, 29, 31, 37, 41, 43, 47, 53, 59, 61, 67, 71, 73, 79, 83, 89, 97]  \n",
      "[1, 2, 3, 5, 7, 11, 13, 17, 19, 23, 29, 31, 37, 41, 43, 47, 53, 59, 61, 67, 71, 73, 79, 83, 89, 97]  \n"
     ]
    },
    {
     "data": {
      "text/plain": [
       "0.01693962500030466"
      ]
     },
     "execution_count": 32,
     "metadata": {},
     "output_type": "execute_result"
    }
   ],
   "source": [
    "timeit.timeit(stmt,setup, number = 10)"
   ]
  },
  {
   "cell_type": "code",
   "execution_count": null,
   "id": "0c2b999b",
   "metadata": {},
   "outputs": [],
   "source": []
  },
  {
   "cell_type": "code",
   "execution_count": 44,
   "id": "e3fbf29c",
   "metadata": {},
   "outputs": [],
   "source": [
    "import re\n",
    "#Find the largest palindrome made from the product of two 3-digit numbers.\n",
    "def palindrom():\n",
    "    \n",
    "    lst = []\n",
    "    for i in range(900, 1000):\n",
    "        for j in range(900, 1000):\n",
    "            if str(i * j) == str(i * j)[::-1]:\n",
    "                lst.append(i*j)\n",
    "                \n",
    "    return lst[-1]"
   ]
  },
  {
   "cell_type": "code",
   "execution_count": 45,
   "id": "87b2a5a2",
   "metadata": {},
   "outputs": [
    {
     "data": {
      "text/plain": [
       "906609"
      ]
     },
     "execution_count": 45,
     "metadata": {},
     "output_type": "execute_result"
    }
   ],
   "source": [
    "palindrom()"
   ]
  },
  {
   "cell_type": "code",
   "execution_count": 178,
   "id": "f886240d",
   "metadata": {},
   "outputs": [],
   "source": [
    "#What is the smallest positive number \n",
    "#that is evenly divisible by all of the numbers from 1 to 20?\n",
    "def smallest_positive():\n",
    "    \n",
    "    '''lst = []\n",
    "    s = -1\n",
    "    for i in range(20,1,-1):\n",
    "        lst.append([i])\n",
    "        s += 1\n",
    "        for j in range(2,21):\n",
    "            k = True\n",
    "            while k:\n",
    "                if i % j == 0:\n",
    "                    lst[s].append(j)\n",
    "                    i = i/j\n",
    "                    \n",
    "                else:\n",
    "                    k = False\n",
    "\n",
    "    for g in lst[::-1]:\n",
    "        g.pop(0)\n",
    "    return lst[::-1]'''\n",
    "    \n",
    "    a = int(input())\n",
    "    b = int(input())\n",
    "    \n",
    "    if a>b:\n",
    "        while a != b:\n",
    "            a,b = b, a-b\n",
    "    else:\n",
    "        while a != b:\n",
    "            b,a = a, b-a\n",
    "    return b\n",
    "        "
   ]
  },
  {
   "cell_type": "code",
   "execution_count": 179,
   "id": "4badb50a",
   "metadata": {},
   "outputs": [
    {
     "name": "stdout",
     "output_type": "stream",
     "text": [
      "20\n",
      "70\n"
     ]
    },
    {
     "ename": "KeyboardInterrupt",
     "evalue": "",
     "output_type": "error",
     "traceback": [
      "\u001b[0;31m---------------------------------------------------------------------------\u001b[0m",
      "\u001b[0;31mKeyboardInterrupt\u001b[0m                         Traceback (most recent call last)",
      "\u001b[0;32m<ipython-input-179-49e2af486c8b>\u001b[0m in \u001b[0;36m<module>\u001b[0;34m\u001b[0m\n\u001b[0;32m----> 1\u001b[0;31m \u001b[0msmallest_positive\u001b[0m\u001b[0;34m(\u001b[0m\u001b[0;34m)\u001b[0m\u001b[0;34m\u001b[0m\u001b[0;34m\u001b[0m\u001b[0m\n\u001b[0m",
      "\u001b[0;32m<ipython-input-178-9d318eca6770>\u001b[0m in \u001b[0;36msmallest_positive\u001b[0;34m()\u001b[0m\n\u001b[1;32m     30\u001b[0m     \u001b[0;32melse\u001b[0m\u001b[0;34m:\u001b[0m\u001b[0;34m\u001b[0m\u001b[0;34m\u001b[0m\u001b[0m\n\u001b[1;32m     31\u001b[0m         \u001b[0;32mwhile\u001b[0m \u001b[0ma\u001b[0m \u001b[0;34m!=\u001b[0m \u001b[0mb\u001b[0m\u001b[0;34m:\u001b[0m\u001b[0;34m\u001b[0m\u001b[0;34m\u001b[0m\u001b[0m\n\u001b[0;32m---> 32\u001b[0;31m             \u001b[0mb\u001b[0m\u001b[0;34m,\u001b[0m\u001b[0ma\u001b[0m \u001b[0;34m=\u001b[0m \u001b[0ma\u001b[0m\u001b[0;34m,\u001b[0m \u001b[0mb\u001b[0m\u001b[0;34m-\u001b[0m\u001b[0ma\u001b[0m\u001b[0;34m\u001b[0m\u001b[0;34m\u001b[0m\u001b[0m\n\u001b[0m\u001b[1;32m     33\u001b[0m     \u001b[0;32mreturn\u001b[0m \u001b[0mb\u001b[0m\u001b[0;34m\u001b[0m\u001b[0;34m\u001b[0m\u001b[0m\n\u001b[1;32m     34\u001b[0m \u001b[0;34m\u001b[0m\u001b[0m\n",
      "\u001b[0;31mKeyboardInterrupt\u001b[0m: "
     ]
    }
   ],
   "source": [
    "smallest_positive()"
   ]
  },
  {
   "cell_type": "code",
   "execution_count": 107,
   "id": "c7f0d26f",
   "metadata": {},
   "outputs": [],
   "source": [
    "lst = list(range(2,21))"
   ]
  },
  {
   "cell_type": "code",
   "execution_count": 116,
   "id": "952fc578",
   "metadata": {},
   "outputs": [],
   "source": [
    "lst.clear()"
   ]
  },
  {
   "cell_type": "code",
   "execution_count": 167,
   "id": "5bdc7042",
   "metadata": {},
   "outputs": [],
   "source": [
    "lst = [(1,2,3),(4,5,6), (6,7,8)]"
   ]
  },
  {
   "cell_type": "code",
   "execution_count": 5,
   "id": "d646bf88",
   "metadata": {},
   "outputs": [],
   "source": [
    "def func(a,n = int):\n",
    "    if n == 0:\n",
    "        return 1\n",
    "    elif n % 2 == 1:\n",
    "        return func(a, n-1)*a\n",
    "    else:\n",
    "        return (a**2, n//2)"
   ]
  },
  {
   "cell_type": "code",
   "execution_count": 6,
   "id": "38c6d80c",
   "metadata": {},
   "outputs": [
    {
     "data": {
      "text/plain": [
       "(9, 1, 9, 1, 9, 1)"
      ]
     },
     "execution_count": 6,
     "metadata": {},
     "output_type": "execute_result"
    }
   ],
   "source": [
    "func(3,3)"
   ]
  },
  {
   "cell_type": "code",
   "execution_count": 14,
   "id": "6dcd5fd6",
   "metadata": {},
   "outputs": [
    {
     "name": "stdout",
     "output_type": "stream",
     "text": [
      "3\n",
      "1 2\n",
      "3\n",
      "-2 5\n",
      "3\n",
      "7 16\n",
      "23\n"
     ]
    }
   ],
   "source": [
    "N = int(input())\n",
    "\n",
    "for i in range(N):\n",
    "    a,b = map(int, input().split())\n",
    "    print(a+b)"
   ]
  },
  {
   "cell_type": "code",
   "execution_count": 13,
   "id": "d2f65a95",
   "metadata": {},
   "outputs": [
    {
     "name": "stdout",
     "output_type": "stream",
     "text": [
      "1 3 4 7 2 6\n"
     ]
    },
    {
     "data": {
      "text/plain": [
       "['1', '3', '4', '7', '2', '6']"
      ]
     },
     "execution_count": 13,
     "metadata": {},
     "output_type": "execute_result"
    }
   ],
   "source": [
    "input().split()"
   ]
  },
  {
   "cell_type": "code",
   "execution_count": 34,
   "id": "49d4b0d7",
   "metadata": {},
   "outputs": [
    {
     "name": "stdout",
     "output_type": "stream",
     "text": [
      "2 6\n",
      "16\n"
     ]
    }
   ],
   "source": [
    "a,b = map(int, input().split())\n",
    "s = (a + b) * 2\n",
    "print(s)"
   ]
  },
  {
   "cell_type": "code",
   "execution_count": 30,
   "id": "92b54656",
   "metadata": {},
   "outputs": [],
   "source": [
    "# print(f'{value:.numbers_after_period+f}') выводить число с желаемым количеством цифр после точки"
   ]
  },
  {
   "cell_type": "code",
   "execution_count": 32,
   "id": "1728a76a",
   "metadata": {},
   "outputs": [
    {
     "name": "stdout",
     "output_type": "stream",
     "text": [
      "1 2 3 4\n",
      "10.0000\n"
     ]
    }
   ],
   "source": [
    "a,b,c,d = map(float, input().split())\n",
    "s = a+b+c+d\n",
    "print(f'{s:.4f}')"
   ]
  },
  {
   "cell_type": "code",
   "execution_count": 43,
   "id": "3ea5814a",
   "metadata": {},
   "outputs": [
    {
     "name": "stdout",
     "output_type": "stream",
     "text": [
      "234\n",
      "234\n",
      "234\n",
      "0\n"
     ]
    }
   ],
   "source": [
    "a = float(input())\n",
    "if a%1 >= 0.5:\n",
    "    print(round(a//1 + 1))\n",
    "else:\n",
    "    print(round(a // 1))\n",
    "print(round(a//1))\n",
    "if a%1 == 0:\n",
    "    print(0)\n",
    "else:\n",
    "    print(round(a - a//1, 10))"
   ]
  },
  {
   "cell_type": "code",
   "execution_count": 22,
   "id": "074828a9",
   "metadata": {},
   "outputs": [
    {
     "name": "stdout",
     "output_type": "stream",
     "text": [
      "10 4\n",
      "6\n"
     ]
    }
   ],
   "source": [
    "x,y = map(int, input().split())\n",
    "print(x-y)"
   ]
  },
  {
   "cell_type": "code",
   "execution_count": 5,
   "id": "fbc63c5e",
   "metadata": {},
   "outputs": [
    {
     "data": {
      "text/plain": [
       "0"
      ]
     },
     "execution_count": 5,
     "metadata": {},
     "output_type": "execute_result"
    }
   ],
   "source": [
    "round(abs(s - round(s//1 + 1)))"
   ]
  },
  {
   "cell_type": "code",
   "execution_count": 31,
   "id": "0f51872c",
   "metadata": {},
   "outputs": [
    {
     "data": {
      "text/plain": [
       "0.399"
      ]
     },
     "execution_count": 31,
     "metadata": {},
     "output_type": "execute_result"
    }
   ],
   "source": [
    "round(0.399, 4)"
   ]
  },
  {
   "cell_type": "code",
   "execution_count": 29,
   "id": "a6e16845",
   "metadata": {},
   "outputs": [
    {
     "name": "stdout",
     "output_type": "stream",
     "text": [
      "12.958\n"
     ]
    },
    {
     "data": {
      "text/plain": [
       "24"
      ]
     },
     "execution_count": 29,
     "metadata": {},
     "output_type": "execute_result"
    }
   ],
   "source": [
    "x = float(input())\n",
    "print(round((x // 1) * 2))"
   ]
  },
  {
   "cell_type": "code",
   "execution_count": 45,
   "id": "298ec8be",
   "metadata": {},
   "outputs": [
    {
     "name": "stdout",
     "output_type": "stream",
     "text": [
      "12.1257 1000\n",
      "126\n"
     ]
    }
   ],
   "source": [
    "a,b = map(float, input().split())\n",
    "if a%1 == 0:\n",
    "    print(0)\n",
    "else:\n",
    "    c = round(a - a//1, 10) * b\n",
    "if c%1 >= 0.5:\n",
    "    print(round(c//1 + 1))\n",
    "else:\n",
    "    print(round(c // 1))"
   ]
  },
  {
   "cell_type": "code",
   "execution_count": 46,
   "id": "afee08ac",
   "metadata": {},
   "outputs": [
    {
     "name": "stdout",
     "output_type": "stream",
     "text": [
      "3 4 5 6\n",
      "18\n"
     ]
    }
   ],
   "source": [
    "a1, b1, a2, b2 = map(int, input().split())\n",
    "print(abs(a1*b1 - a2*b2))"
   ]
  },
  {
   "cell_type": "code",
   "execution_count": 53,
   "id": "717fc142",
   "metadata": {},
   "outputs": [
    {
     "name": "stdout",
     "output_type": "stream",
     "text": [
      "123\n",
      "3 2 1 "
     ]
    }
   ],
   "source": [
    "i = int(input())\n",
    "\n",
    "while i != 0:\n",
    "    print(i % 10, end = ' ')\n",
    "    i //= 10"
   ]
  },
  {
   "cell_type": "code",
   "execution_count": 56,
   "id": "0aeaecac",
   "metadata": {},
   "outputs": [
    {
     "name": "stdout",
     "output_type": "stream",
     "text": [
      "2 3\n",
      "2.50\n"
     ]
    }
   ],
   "source": [
    "x,y = map(int, input().split())\n",
    "print(f'{(x+y)/2:.2f}')"
   ]
  },
  {
   "cell_type": "code",
   "execution_count": 65,
   "id": "767c3cfc",
   "metadata": {},
   "outputs": [
    {
     "name": "stdout",
     "output_type": "stream",
     "text": [
      "203\n",
      "32\n"
     ]
    }
   ],
   "source": [
    "i = int(input())\n",
    "x = i // 100\n",
    "y = i % 100\n",
    "print(y,x, sep='')"
   ]
  },
  {
   "cell_type": "code",
   "execution_count": 88,
   "id": "be0ac34b",
   "metadata": {},
   "outputs": [
    {
     "name": "stdout",
     "output_type": "stream",
     "text": [
      "203\n",
      "032"
     ]
    }
   ],
   "source": [
    "i = input()\n",
    "l = [i[j] for j in range(len(i))]\n",
    "x = l.pop(0)\n",
    "l.append(x)\n",
    "for g in l:\n",
    "    print(g, end='')"
   ]
  },
  {
   "cell_type": "code",
   "execution_count": 89,
   "id": "17dfd51e",
   "metadata": {},
   "outputs": [
    {
     "name": "stdout",
     "output_type": "stream",
     "text": [
      "150\n",
      "2\n"
     ]
    }
   ],
   "source": [
    "x = int(input())\n",
    "print(x//60)"
   ]
  },
  {
   "cell_type": "code",
   "execution_count": 90,
   "id": "f02b3c1c",
   "metadata": {},
   "outputs": [
    {
     "name": "stdout",
     "output_type": "stream",
     "text": [
      "5 2\n",
      "1\n"
     ]
    }
   ],
   "source": [
    "x,y = map(int, input().split())\n",
    "print(x%y)"
   ]
  },
  {
   "cell_type": "code",
   "execution_count": 93,
   "id": "e12d9a93",
   "metadata": {},
   "outputs": [
    {
     "name": "stdout",
     "output_type": "stream",
     "text": [
      "2\n",
      "Yes\n"
     ]
    }
   ],
   "source": [
    "x = int(input())\n",
    "if x % 2 == 0:\n",
    "    print('Yes')\n",
    "else:\n",
    "    print('No')"
   ]
  },
  {
   "cell_type": "code",
   "execution_count": 95,
   "id": "3b864f96",
   "metadata": {},
   "outputs": [
    {
     "name": "stdout",
     "output_type": "stream",
     "text": [
      "2 3\n",
      "6\n"
     ]
    }
   ],
   "source": [
    "x,y = map(int, input().split())\n",
    "print(max(x,y)* 2)"
   ]
  },
  {
   "cell_type": "code",
   "execution_count": 97,
   "id": "064d92b0",
   "metadata": {},
   "outputs": [
    {
     "name": "stdout",
     "output_type": "stream",
     "text": [
      "10\n",
      "5\n"
     ]
    }
   ],
   "source": [
    "x = int(input())\n",
    "if x % 2 == 0:\n",
    "    print(round(x/2))\n",
    "else:\n",
    "    print(0)"
   ]
  },
  {
   "cell_type": "code",
   "execution_count": 102,
   "id": "2eca5249",
   "metadata": {},
   "outputs": [
    {
     "name": "stdout",
     "output_type": "stream",
     "text": [
      "3 2\n",
      "2 3 "
     ]
    }
   ],
   "source": [
    "x,y = input().split()\n",
    "l = []\n",
    "l.append(x)\n",
    "l.append(y)\n",
    "l.sort()\n",
    "for i in l:\n",
    "    print(i, end = ' ')"
   ]
  },
  {
   "cell_type": "code",
   "execution_count": 105,
   "id": "9e938c0b",
   "metadata": {},
   "outputs": [
    {
     "name": "stdout",
     "output_type": "stream",
     "text": [
      "12.5\n",
      "No\n"
     ]
    }
   ],
   "source": [
    "x = float(input())\n",
    "if x % 1 == 0:\n",
    "    print('Yes')\n",
    "else:\n",
    "    print('No')"
   ]
  },
  {
   "cell_type": "code",
   "execution_count": 107,
   "id": "74146497",
   "metadata": {},
   "outputs": [
    {
     "name": "stdout",
     "output_type": "stream",
     "text": [
      "1 2 3 4\n",
      "1 4\n"
     ]
    }
   ],
   "source": [
    "a,b,c,d = map(int,input().split())\n",
    "maximum = max(max(max(a,b),c),d)\n",
    "minimum = min(min(min(a,b),c),d)\n",
    "print(minimum, maximum)"
   ]
  },
  {
   "cell_type": "code",
   "execution_count": 108,
   "id": "e924ab32",
   "metadata": {},
   "outputs": [
    {
     "name": "stdout",
     "output_type": "stream",
     "text": [
      "-10 100\n"
     ]
    },
    {
     "ename": "TypeError",
     "evalue": "'<' not supported between instances of 'type' and 'int'",
     "output_type": "error",
     "traceback": [
      "\u001b[1;31m---------------------------------------------------------------------------\u001b[0m",
      "\u001b[1;31mTypeError\u001b[0m                                 Traceback (most recent call last)",
      "\u001b[1;32m<ipython-input-108-b541bd2561fa>\u001b[0m in \u001b[0;36m<module>\u001b[1;34m\u001b[0m\n\u001b[0;32m      1\u001b[0m \u001b[0mx\u001b[0m\u001b[1;33m,\u001b[0m\u001b[0my\u001b[0m \u001b[1;33m=\u001b[0m \u001b[1;33m(\u001b[0m\u001b[0mint\u001b[0m\u001b[1;33m,\u001b[0m\u001b[0minput\u001b[0m\u001b[1;33m(\u001b[0m\u001b[1;33m)\u001b[0m\u001b[1;33m.\u001b[0m\u001b[0msplit\u001b[0m\u001b[1;33m(\u001b[0m\u001b[1;33m)\u001b[0m\u001b[1;33m)\u001b[0m\u001b[1;33m\u001b[0m\u001b[1;33m\u001b[0m\u001b[0m\n\u001b[1;32m----> 2\u001b[1;33m \u001b[1;32mif\u001b[0m \u001b[0mx\u001b[0m \u001b[1;33m<\u001b[0m \u001b[1;36m0\u001b[0m \u001b[1;32mand\u001b[0m \u001b[0my\u001b[0m \u001b[1;33m>\u001b[0m \u001b[1;36m0\u001b[0m\u001b[1;33m:\u001b[0m\u001b[1;33m\u001b[0m\u001b[1;33m\u001b[0m\u001b[0m\n\u001b[0m\u001b[0;32m      3\u001b[0m     \u001b[0mprint\u001b[0m\u001b[1;33m(\u001b[0m\u001b[1;34m'Yes'\u001b[0m\u001b[1;33m)\u001b[0m\u001b[1;33m\u001b[0m\u001b[1;33m\u001b[0m\u001b[0m\n\u001b[0;32m      4\u001b[0m \u001b[1;32melse\u001b[0m\u001b[1;33m:\u001b[0m\u001b[1;33m\u001b[0m\u001b[1;33m\u001b[0m\u001b[0m\n\u001b[0;32m      5\u001b[0m     \u001b[0mprint\u001b[0m\u001b[1;33m(\u001b[0m\u001b[1;34m'No'\u001b[0m\u001b[1;33m)\u001b[0m\u001b[1;33m\u001b[0m\u001b[1;33m\u001b[0m\u001b[0m\n",
      "\u001b[1;31mTypeError\u001b[0m: '<' not supported between instances of 'type' and 'int'"
     ]
    }
   ],
   "source": [
    "x,y = map(int,input().split())\n",
    "if x < 0 and y > 0:\n",
    "    print('Yes')\n",
    "else:\n",
    "    print('No')"
   ]
  },
  {
   "cell_type": "code",
   "execution_count": 109,
   "id": "a919c917",
   "metadata": {},
   "outputs": [
    {
     "name": "stdout",
     "output_type": "stream",
     "text": [
      "2 -8\n",
      "4\n"
     ]
    }
   ],
   "source": [
    "x,y = map(int,input().split())\n",
    "if x > 0 and y > 0:\n",
    "    print(1)\n",
    "elif x > 0 and y < 0:\n",
    "    print(4)\n",
    "elif y > 0 and x < 0:\n",
    "    print(2)\n",
    "else:\n",
    "    print(3)"
   ]
  },
  {
   "cell_type": "code",
   "execution_count": 111,
   "id": "a1de29f3",
   "metadata": {},
   "outputs": [
    {
     "name": "stdout",
     "output_type": "stream",
     "text": [
      "1 4 5\n",
      "No\n"
     ]
    }
   ],
   "source": [
    "a,b,c = map(int, input().split())\n",
    "if a + b > c and b + c > a and c + a > b:\n",
    "    print('Yes')\n",
    "else:\n",
    "    print('No')"
   ]
  },
  {
   "cell_type": "code",
   "execution_count": 142,
   "id": "5a0f890b",
   "metadata": {},
   "outputs": [
    {
     "name": "stdout",
     "output_type": "stream",
     "text": [
      "0\n",
      "0\n"
     ]
    }
   ],
   "source": [
    "a = int(input())\n",
    "m = 0\n",
    "while a > 0:\n",
    "    m = max(m,a%10)\n",
    "    a //= 10\n",
    "print(m)"
   ]
  },
  {
   "cell_type": "code",
   "execution_count": 239,
   "id": "16ba8bc3",
   "metadata": {},
   "outputs": [],
   "source": [
    "def sum_or_difference(a):\n",
    "    l = []\n",
    "    s = 0\n",
    "    r = a\n",
    "    while r > 0:\n",
    "        l.append(r%10)\n",
    "        r //= 10\n",
    "    for num in l:\n",
    "        s += num\n",
    "    if a ** 2 != s ** 3:\n",
    "        f=0\n",
    "        for item in l:\n",
    "            f = abs(f-item)\n",
    "        return ','\n",
    "    else:\n",
    "        return 'True', a"
   ]
  },
  {
   "cell_type": "code",
   "execution_count": 240,
   "id": "0ea618bf",
   "metadata": {},
   "outputs": [
    {
     "data": {
      "text/plain": [
       "('True', 27)"
      ]
     },
     "execution_count": 240,
     "metadata": {},
     "output_type": "execute_result"
    }
   ],
   "source": [
    "sum_or_difference(27)"
   ]
  },
  {
   "cell_type": "code",
   "execution_count": 243,
   "id": "381657ea",
   "metadata": {},
   "outputs": [],
   "source": [
    "def test(func):\n",
    "    for i in range(10000000,100000000):\n",
    "        if func(i) == ('True', i):\n",
    "            print(i)"
   ]
  },
  {
   "cell_type": "code",
   "execution_count": 244,
   "id": "a86abeaa",
   "metadata": {},
   "outputs": [],
   "source": [
    "test(sum_or_difference)"
   ]
  },
  {
   "cell_type": "code",
   "execution_count": 260,
   "id": "48ffad8f",
   "metadata": {},
   "outputs": [
    {
     "name": "stdout",
     "output_type": "stream",
     "text": [
      "2\n",
      "8.333\n"
     ]
    }
   ],
   "source": [
    "x = float(input())\n",
    "if x == 1 or x == -1:\n",
    "    print('No')\n",
    "else:\n",
    "    a = x+1\n",
    "    b = x**2 + 4*x - 4\n",
    "    c = x**2 - 1\n",
    "    print(f'{(a*b+1)/c:.3f}')"
   ]
  },
  {
   "cell_type": "code",
   "execution_count": 254,
   "id": "69fef0c5",
   "metadata": {},
   "outputs": [],
   "source": [
    "def test(f):\n",
    "    for i in range(2,100):\n",
    "        print(f(i))\n",
    "    "
   ]
  },
  {
   "cell_type": "code",
   "execution_count": 255,
   "id": "a7a86e88",
   "metadata": {},
   "outputs": [
    {
     "name": "stdout",
     "output_type": "stream",
     "text": [
      "8.333\n",
      "None\n",
      "8.625\n",
      "None\n",
      "9.400\n",
      "None\n",
      "10.292\n",
      "None\n",
      "11.229\n",
      "None\n",
      "12.188\n",
      "None\n",
      "13.159\n",
      "None\n",
      "14.137\n",
      "None\n",
      "15.121\n",
      "None\n",
      "16.108\n",
      "None\n",
      "17.098\n",
      "None\n",
      "18.089\n",
      "None\n",
      "19.082\n",
      "None\n",
      "20.076\n",
      "None\n",
      "21.071\n",
      "None\n",
      "22.066\n",
      "None\n",
      "23.062\n",
      "None\n",
      "24.058\n",
      "None\n",
      "25.055\n",
      "None\n",
      "26.052\n",
      "None\n",
      "27.050\n",
      "None\n",
      "28.047\n",
      "None\n",
      "29.045\n",
      "None\n",
      "30.043\n",
      "None\n",
      "31.041\n",
      "None\n",
      "32.040\n",
      "None\n",
      "33.038\n",
      "None\n",
      "34.037\n",
      "None\n",
      "35.036\n",
      "None\n",
      "36.034\n",
      "None\n",
      "37.033\n",
      "None\n",
      "38.032\n",
      "None\n",
      "39.031\n",
      "None\n",
      "40.030\n",
      "None\n",
      "41.029\n",
      "None\n",
      "42.029\n",
      "None\n",
      "43.028\n",
      "None\n",
      "44.027\n",
      "None\n",
      "45.026\n",
      "None\n",
      "46.026\n",
      "None\n",
      "47.025\n",
      "None\n",
      "48.024\n",
      "None\n",
      "49.024\n",
      "None\n",
      "50.023\n",
      "None\n",
      "51.023\n",
      "None\n",
      "52.022\n",
      "None\n",
      "53.022\n",
      "None\n",
      "54.021\n",
      "None\n",
      "55.021\n",
      "None\n",
      "56.020\n",
      "None\n",
      "57.020\n",
      "None\n",
      "58.020\n",
      "None\n",
      "59.019\n",
      "None\n",
      "60.019\n",
      "None\n",
      "61.019\n",
      "None\n",
      "62.018\n",
      "None\n",
      "63.018\n",
      "None\n",
      "64.018\n",
      "None\n",
      "65.017\n",
      "None\n",
      "66.017\n",
      "None\n",
      "67.017\n",
      "None\n",
      "68.016\n",
      "None\n",
      "69.016\n",
      "None\n",
      "70.016\n",
      "None\n",
      "71.016\n",
      "None\n",
      "72.015\n",
      "None\n",
      "73.015\n",
      "None\n",
      "74.015\n",
      "None\n",
      "75.015\n",
      "None\n",
      "76.014\n",
      "None\n",
      "77.014\n",
      "None\n",
      "78.014\n",
      "None\n",
      "79.014\n",
      "None\n",
      "80.014\n",
      "None\n",
      "81.014\n",
      "None\n",
      "82.013\n",
      "None\n",
      "83.013\n",
      "None\n",
      "84.013\n",
      "None\n",
      "85.013\n",
      "None\n",
      "86.013\n",
      "None\n",
      "87.012\n",
      "None\n",
      "88.012\n",
      "None\n",
      "89.012\n",
      "None\n",
      "90.012\n",
      "None\n",
      "91.012\n",
      "None\n",
      "92.012\n",
      "None\n",
      "93.012\n",
      "None\n",
      "94.011\n",
      "None\n",
      "95.011\n",
      "None\n",
      "96.011\n",
      "None\n",
      "97.011\n",
      "None\n",
      "98.011\n",
      "None\n",
      "99.011\n",
      "None\n",
      "100.011\n",
      "None\n",
      "101.011\n",
      "None\n",
      "102.011\n",
      "None\n",
      "103.010\n",
      "None\n",
      "104.010\n",
      "None\n"
     ]
    }
   ],
   "source": [
    "test(funv)"
   ]
  },
  {
   "cell_type": "code",
   "execution_count": 262,
   "id": "54562840",
   "metadata": {},
   "outputs": [
    {
     "name": "stdout",
     "output_type": "stream",
     "text": [
      "21\n",
      "2\n"
     ]
    }
   ],
   "source": [
    "x = int(input())\n",
    "a = x %10\n",
    "b = x//10\n",
    "if a == 0:\n",
    "    print('No')\n",
    "else:\n",
    "    print(b//a)"
   ]
  },
  {
   "cell_type": "code",
   "execution_count": 265,
   "id": "fc333174",
   "metadata": {},
   "outputs": [
    {
     "name": "stdout",
     "output_type": "stream",
     "text": [
      "5 30 2 15\n",
      "5 30 15 "
     ]
    }
   ],
   "source": [
    "a,b,c,d = map(int, input().split())\n",
    "lst = []\n",
    "for item in a,b,c,d:\n",
    "    lst.append(item)\n",
    "for num in lst:\n",
    "    if num % 5 == 0:\n",
    "        print(num, end = ' ')"
   ]
  },
  {
   "cell_type": "code",
   "execution_count": 266,
   "id": "0aa6ebdc",
   "metadata": {},
   "outputs": [
    {
     "name": "stdout",
     "output_type": "stream",
     "text": [
      "3 1 1 2\n",
      "No\n"
     ]
    }
   ],
   "source": [
    "x1,y1,x2,y2 = map(int, input().split())\n",
    "if x1 == x2 or y1 == y2:\n",
    "    print('Yes')\n",
    "else:\n",
    "    print('No')"
   ]
  },
  {
   "cell_type": "code",
   "execution_count": 268,
   "id": "e35df0b0",
   "metadata": {},
   "outputs": [
    {
     "name": "stdout",
     "output_type": "stream",
     "text": [
      "2 5 1\n",
      "1 5\n"
     ]
    }
   ],
   "source": [
    "a,b,c = map(int, input().split())\n",
    "print(min(min(a,b),c), max(max(a,b),c))"
   ]
  },
  {
   "cell_type": "code",
   "execution_count": 270,
   "id": "2d66a845",
   "metadata": {},
   "outputs": [
    {
     "name": "stdout",
     "output_type": "stream",
     "text": [
      "1 2 3 4 5 6 7\n",
      "NO\n"
     ]
    }
   ],
   "source": [
    "a,b,c,d,e,f,g = map(int, input().split())\n",
    "if a>b>c>d>e>f>g:\n",
    "    print('YES')\n",
    "else:\n",
    "    print('NO')"
   ]
  },
  {
   "cell_type": "code",
   "execution_count": 278,
   "id": "fb67fa94",
   "metadata": {},
   "outputs": [
    {
     "data": {
      "text/plain": [
       "['abc']"
      ]
     },
     "execution_count": 278,
     "metadata": {},
     "output_type": "execute_result"
    }
   ],
   "source": [
    "'abc'.split()"
   ]
  },
  {
   "cell_type": "code",
   "execution_count": 279,
   "id": "54e2414d",
   "metadata": {},
   "outputs": [
    {
     "data": {
      "text/plain": [
       "'a'"
      ]
     },
     "execution_count": 279,
     "metadata": {},
     "output_type": "execute_result"
    }
   ],
   "source": [
    "'abc'[0]"
   ]
  },
  {
   "cell_type": "code",
   "execution_count": 282,
   "id": "6032127d",
   "metadata": {},
   "outputs": [],
   "source": [
    "lst = [1,2,3]\n",
    "l = ['a', 'b', 'c']"
   ]
  },
  {
   "cell_type": "code",
   "execution_count": null,
   "id": "df42e360",
   "metadata": {},
   "outputs": [],
   "source": [
    "n #количество людей\n",
    "k #количество остановок\n",
    "s #люди которые остались после катой остановки\n",
    "s = n\n",
    "for i in range(7):\n",
    "    s = s - n/2 - 1/2"
   ]
  },
  {
   "cell_type": "code",
   "execution_count": 300,
   "id": "fab58a3b",
   "metadata": {},
   "outputs": [
    {
     "name": "stdout",
     "output_type": "stream",
     "text": [
      "2\n",
      "1\n",
      "3\n",
      "1\n",
      "7\n"
     ]
    }
   ],
   "source": [
    "t = int(input())\n",
    "l = []\n",
    "for i in range(t):\n",
    "    k = int(input())\n",
    "    f = 0\n",
    "    for j in range(k):\n",
    "        n = 2*f + 1\n",
    "        f = n\n",
    "    l.append(f)\n",
    "for g in l:\n",
    "    print(g)\n",
    "        "
   ]
  },
  {
   "cell_type": "code",
   "execution_count": 309,
   "id": "5a3b9cf9",
   "metadata": {},
   "outputs": [
    {
     "name": "stdout",
     "output_type": "stream",
     "text": [
      "5\n",
      "1\n",
      "2\n",
      "3\n",
      "4\n",
      "5\n"
     ]
    }
   ],
   "source": [
    "n = int(input())\n",
    "lst = []\n",
    "for s in range(n-1):\n",
    "    k = int(input())\n",
    "    lst.append(k)\n",
    "lst.sort()\n",
    "lst2 = list(range(1,n+1))\n",
    "for i in lst2:\n",
    "    q = 0\n",
    "    for j in lst:\n",
    "        if i == j:\n",
    "            q+=1\n",
    "    if q == 0:\n",
    "        print(i)"
   ]
  },
  {
   "cell_type": "code",
   "execution_count": 347,
   "id": "a6cd9477",
   "metadata": {},
   "outputs": [],
   "source": [
    "def adding(l_i_s_t):\n",
    "    if len(l_i_s_t) == 1:\n",
    "        return l_i_s_t[0]\n",
    "    return l_i_s_t[0] + adding(l_i_s_t[1:])"
   ]
  },
  {
   "cell_type": "code",
   "execution_count": 351,
   "id": "571d2ad3",
   "metadata": {},
   "outputs": [
    {
     "data": {
      "text/plain": [
       "69"
      ]
     },
     "execution_count": 351,
     "metadata": {},
     "output_type": "execute_result"
    }
   ],
   "source": [
    "adding([1,2,3,4,6,7,8,32,5,1])"
   ]
  },
  {
   "cell_type": "code",
   "execution_count": 3,
   "id": "f548f0a7",
   "metadata": {},
   "outputs": [],
   "source": [
    "lst = [1, 2, [3,4], [5,6]]"
   ]
  },
  {
   "cell_type": "code",
   "execution_count": 1,
   "id": "cfc5066c",
   "metadata": {},
   "outputs": [],
   "source": [
    "def factorial(n):\n",
    "    \n",
    "    if n == 1:\n",
    "        return 1\n",
    "    return (n * factorial(n-1))\n",
    "        \n",
    "        "
   ]
  },
  {
   "cell_type": "code",
   "execution_count": 5,
   "id": "3770af4f",
   "metadata": {},
   "outputs": [
    {
     "data": {
      "text/plain": [
       "720"
      ]
     },
     "execution_count": 5,
     "metadata": {},
     "output_type": "execute_result"
    }
   ],
   "source": [
    "factorial(6)"
   ]
  },
  {
   "cell_type": "code",
   "execution_count": 10,
   "id": "f056a3e5",
   "metadata": {},
   "outputs": [],
   "source": [
    "def fibon(number_of_last):\n",
    "    \n",
    "    very_first = 1\n",
    "    second = 1\n",
    "    if number_of_last == 0:\n",
    "        return 1\n",
    "    very_first,second = second, second+very_first\n",
    "    fibon(number_of_last-1)\n",
    "    return second"
   ]
  },
  {
   "cell_type": "code",
   "execution_count": 12,
   "id": "6681f59f",
   "metadata": {},
   "outputs": [
    {
     "data": {
      "text/plain": [
       "2"
      ]
     },
     "execution_count": 12,
     "metadata": {},
     "output_type": "execute_result"
    }
   ],
   "source": [
    "fibon()"
   ]
  },
  {
   "cell_type": "code",
   "execution_count": 13,
   "id": "5e81aeda",
   "metadata": {},
   "outputs": [],
   "source": [
    "def sum_of_int(n):\n",
    "    \n",
    "    if n == 0:\n",
    "        return 0\n",
    "    return n%10 + sum_of_int(n//10)"
   ]
  },
  {
   "cell_type": "code",
   "execution_count": 15,
   "id": "dedf6378",
   "metadata": {},
   "outputs": [
    {
     "data": {
      "text/plain": [
       "9"
      ]
     },
     "execution_count": 15,
     "metadata": {},
     "output_type": "execute_result"
    }
   ],
   "source": [
    "sum_of_int(45)"
   ]
  },
  {
   "cell_type": "code",
   "execution_count": 16,
   "id": "9d21b8d8",
   "metadata": {},
   "outputs": [],
   "source": [
    "def another_sum(n):\n",
    "    \n",
    "    if n == 0:\n",
    "        return 0\n",
    "    return n + another_sum(n-2)"
   ]
  },
  {
   "cell_type": "code",
   "execution_count": 17,
   "id": "188c1b5f",
   "metadata": {},
   "outputs": [
    {
     "data": {
      "text/plain": [
       "12"
      ]
     },
     "execution_count": 17,
     "metadata": {},
     "output_type": "execute_result"
    }
   ],
   "source": [
    "another_sum(6)"
   ]
  },
  {
   "cell_type": "code",
   "execution_count": 18,
   "id": "034cd22b",
   "metadata": {},
   "outputs": [],
   "source": [
    "def power(n,m):\n",
    "    \n",
    "    if m == 0:\n",
    "        return 1\n",
    "    return n*power(n,m-1)"
   ]
  },
  {
   "cell_type": "code",
   "execution_count": 19,
   "id": "fda21db9",
   "metadata": {},
   "outputs": [
    {
     "data": {
      "text/plain": [
       "81"
      ]
     },
     "execution_count": 19,
     "metadata": {},
     "output_type": "execute_result"
    }
   ],
   "source": [
    "power(3,4)"
   ]
  },
  {
   "cell_type": "code",
   "execution_count": 66,
   "id": "0f53d359",
   "metadata": {},
   "outputs": [],
   "source": [
    "def gcd(n,m):\n",
    "    \n",
    "    if m == 0:\n",
    "        return n\n",
    "    return gcd(m,n%m)"
   ]
  },
  {
   "cell_type": "code",
   "execution_count": 67,
   "id": "1f72b59b",
   "metadata": {},
   "outputs": [
    {
     "data": {
      "text/plain": [
       "5"
      ]
     },
     "execution_count": 67,
     "metadata": {},
     "output_type": "execute_result"
    }
   ],
   "source": [
    "gcd(175,10)"
   ]
  },
  {
   "cell_type": "code",
   "execution_count": 34,
   "id": "a6c579e4",
   "metadata": {},
   "outputs": [],
   "source": [
    "from collections import Counter"
   ]
  },
  {
   "cell_type": "code",
   "execution_count": 40,
   "id": "c5d19749",
   "metadata": {},
   "outputs": [
    {
     "data": {
      "text/plain": [
       "Counter({'s': 2, 'd': 3, 'a': 2, 'g': 1, 'f': 1, 'v': 1})"
      ]
     },
     "execution_count": 40,
     "metadata": {},
     "output_type": "execute_result"
    }
   ],
   "source": [
    "Counter('sdasdgadfv')"
   ]
  },
  {
   "cell_type": "code",
   "execution_count": 56,
   "id": "f595d3ff",
   "metadata": {},
   "outputs": [
    {
     "name": "stdout",
     "output_type": "stream",
     "text": [
      "axax\n"
     ]
    }
   ],
   "source": [
    "s = 'axaaxaxaxaxax'\n",
    "if len(s) > 1:\n",
    "    r = s[0:2] + s[-2]+s[-1]\n",
    "    print(r)\n",
    "else:\n",
    "    print(\"Empty str\")"
   ]
  },
  {
   "cell_type": "code",
   "execution_count": 49,
   "id": "5a7efe0c",
   "metadata": {},
   "outputs": [
    {
     "data": {
      "text/plain": [
       "'l'"
      ]
     },
     "execution_count": 49,
     "metadata": {},
     "output_type": "execute_result"
    }
   ],
   "source": [
    "s[-2]"
   ]
  },
  {
   "cell_type": "code",
   "execution_count": 59,
   "id": "dd894b1e",
   "metadata": {},
   "outputs": [
    {
     "name": "stdout",
     "output_type": "stream",
     "text": [
      "e\n"
     ]
    }
   ],
   "source": [
    "s = 'sasple'\n",
    "for i in range(len(s)):\n",
    "    f = ''\n",
    "    if s[i] not in f:\n",
    "        f = f + s[i]\n",
    "    else:\n",
    "        f = f + '$'\n",
    "print(f)"
   ]
  },
  {
   "cell_type": "code",
   "execution_count": null,
   "id": "e12a85d0",
   "metadata": {},
   "outputs": [],
   "source": []
  },
  {
   "cell_type": "code",
   "execution_count": 71,
   "id": "d848b510",
   "metadata": {},
   "outputs": [
    {
     "ename": "SyntaxError",
     "evalue": "invalid syntax (<ipython-input-71-e26bd2e09c48>, line 1)",
     "output_type": "error",
     "traceback": [
      "\u001b[1;36m  File \u001b[1;32m\"<ipython-input-71-e26bd2e09c48>\"\u001b[1;36m, line \u001b[1;32m1\u001b[0m\n\u001b[1;33m    pip3 upgrate python\u001b[0m\n\u001b[1;37m         ^\u001b[0m\n\u001b[1;31mSyntaxError\u001b[0m\u001b[1;31m:\u001b[0m invalid syntax\n"
     ]
    }
   ],
   "source": []
  },
  {
   "cell_type": "code",
   "execution_count": null,
   "id": "8bf3e97a",
   "metadata": {},
   "outputs": [],
   "source": []
  }
 ],
 "metadata": {
  "kernelspec": {
   "display_name": "Python 3",
   "language": "python",
   "name": "python3"
  },
  "language_info": {
   "codemirror_mode": {
    "name": "ipython",
    "version": 3
   },
   "file_extension": ".py",
   "mimetype": "text/x-python",
   "name": "python",
   "nbconvert_exporter": "python",
   "pygments_lexer": "ipython3",
   "version": "3.8.8"
  }
 },
 "nbformat": 4,
 "nbformat_minor": 5
}
