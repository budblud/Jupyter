{
 "cells": [
  {
   "cell_type": "code",
   "execution_count": 4,
   "id": "fedb47ed",
   "metadata": {},
   "outputs": [],
   "source": [
    "#sum of all the multiples of 3 or 5 below 1000\n",
    "def func(n):\n",
    "    \n",
    "    s = 0\n",
    "    \n",
    "    for x in range(n):\n",
    "        if x % 15 == 0:\n",
    "            s += x\n",
    "        elif x % 3 == 0 or x % 5 == 0:\n",
    "            s += x\n",
    "        else:\n",
    "            continue\n",
    "    return s"
   ]
  },
  {
   "cell_type": "code",
   "execution_count": 6,
   "id": "d9e838a1",
   "metadata": {},
   "outputs": [
    {
     "data": {
      "text/plain": [
       "233168"
      ]
     },
     "execution_count": 6,
     "metadata": {},
     "output_type": "execute_result"
    }
   ],
   "source": [
    "func(1000)"
   ]
  },
  {
   "cell_type": "code",
   "execution_count": 7,
   "id": "14b7e958",
   "metadata": {},
   "outputs": [],
   "source": [
    "#By considering the terms in the Fibonacci sequence whose values do not exceed four million,\n",
    "#find the sum of the even-valued terms.\n",
    "def new_func():\n",
    "    \n",
    "    s = 2\n",
    "    a = 1\n",
    "    b = 2\n",
    "\n",
    "    while b < 4000000:\n",
    "        \n",
    "        a,b = b, a+b\n",
    "        if (a+b)%2 == 0:\n",
    "            s += a+b\n",
    "    return s"
   ]
  },
  {
   "cell_type": "code",
   "execution_count": 8,
   "id": "04e63499",
   "metadata": {},
   "outputs": [
    {
     "data": {
      "text/plain": [
       "4613732"
      ]
     },
     "execution_count": 8,
     "metadata": {},
     "output_type": "execute_result"
    }
   ],
   "source": [
    "new_func()"
   ]
  },
  {
   "cell_type": "code",
   "execution_count": 12,
   "id": "9b59f104",
   "metadata": {},
   "outputs": [],
   "source": [
    "#What is the largest prime factor of the number 600851475143 ?\n",
    "def true_if_less_than_3factors(j):\n",
    "    \n",
    "    s = 0\n",
    "    for i in range(1, int(j**0.5)+1):\n",
    "        if j % i == 0:\n",
    "            s += 2\n",
    "            \n",
    "    if int(j**0.5)**2 == j:\n",
    "        s -= 1\n",
    "    \n",
    "    return s < 3\n",
    "\n",
    "\n",
    "def list_of_factors(n):\n",
    "    lst = []\n",
    "    for i in range(1, int(n**0.5)+1):\n",
    "        if n % i == 0:\n",
    "            lst.append(i)\n",
    "            lst.append(int(n/i))\n",
    "            lst.sort()\n",
    "    \n",
    "    return lst"
   ]
  },
  {
   "cell_type": "code",
   "execution_count": 13,
   "id": "7b653ab4",
   "metadata": {},
   "outputs": [
    {
     "name": "stdout",
     "output_type": "stream",
     "text": [
      "Please enter the number: 600851475143\n",
      "The biggest prime number is  6857\n"
     ]
    }
   ],
   "source": [
    "num = int(input('Please enter the number: '))\n",
    "\n",
    "result = list_of_factors(num)\n",
    "\n",
    "res = list(filter(true_if_less_than_3factors, result))\n",
    "\n",
    "print(\"The biggest prime number is \", res[-1])"
   ]
  },
  {
   "cell_type": "code",
   "execution_count": 4,
   "id": "c1907656",
   "metadata": {},
   "outputs": [],
   "source": [
    "#Primes below number\n",
    "def only_primes(n):\n",
    "    \n",
    "    s = 0\n",
    "    lst2 = [2]\n",
    "    for i in range(1,int(n+1)):\n",
    "        for j in range(1,n+1):\n",
    "            if i % j == 0:\n",
    "                s += 1\n",
    "        if s < 3:\n",
    "            lst2.append(i)\n",
    "        else:\n",
    "            s=0\n",
    "    lst2.sort()\n",
    "    print (lst2, ' ')"
   ]
  },
  {
   "cell_type": "code",
   "execution_count": 5,
   "id": "5e602283",
   "metadata": {},
   "outputs": [
    {
     "name": "stdout",
     "output_type": "stream",
     "text": [
      "[1, 2, 3, 5, 7, 11, 13, 17, 19, 23, 29, 31, 37, 41, 43, 47, 53, 59, 61, 67, 71, 73, 79, 83, 89, 97]  \n"
     ]
    }
   ],
   "source": [
    "only_primes(100)"
   ]
  },
  {
   "cell_type": "code",
   "execution_count": 2,
   "id": "5f2c5847",
   "metadata": {},
   "outputs": [],
   "source": [
    "import timeit"
   ]
  },
  {
   "cell_type": "code",
   "execution_count": 30,
   "id": "fea8032a",
   "metadata": {},
   "outputs": [],
   "source": [
    "stmt = '''\n",
    "only_primes(100)\n",
    "'''"
   ]
  },
  {
   "cell_type": "code",
   "execution_count": 31,
   "id": "863255ea",
   "metadata": {},
   "outputs": [],
   "source": [
    "setup = '''\n",
    "def only_primes(n):\n",
    "    \n",
    "    s = 0\n",
    "    lst2 = [2]\n",
    "    for i in range(1,int(n+1)):\n",
    "        for j in range(1,n+1):\n",
    "            if i % j == 0:\n",
    "                s += 1\n",
    "        if s < 3:\n",
    "            lst2.append(i)\n",
    "        else:\n",
    "            s=0\n",
    "    lst2.sort()\n",
    "    print (lst2, ' ')\n",
    "'''"
   ]
  },
  {
   "cell_type": "code",
   "execution_count": 32,
   "id": "a7c3143e",
   "metadata": {},
   "outputs": [
    {
     "name": "stdout",
     "output_type": "stream",
     "text": [
      "[1, 2, 3, 5, 7, 11, 13, 17, 19, 23, 29, 31, 37, 41, 43, 47, 53, 59, 61, 67, 71, 73, 79, 83, 89, 97]  \n",
      "[1, 2, 3, 5, 7, 11, 13, 17, 19, 23, 29, 31, 37, 41, 43, 47, 53, 59, 61, 67, 71, 73, 79, 83, 89, 97]  \n",
      "[1, 2, 3, 5, 7, 11, 13, 17, 19, 23, 29, 31, 37, 41, 43, 47, 53, 59, 61, 67, 71, 73, 79, 83, 89, 97]  \n",
      "[1, 2, 3, 5, 7, 11, 13, 17, 19, 23, 29, 31, 37, 41, 43, 47, 53, 59, 61, 67, 71, 73, 79, 83, 89, 97]  \n",
      "[1, 2, 3, 5, 7, 11, 13, 17, 19, 23, 29, 31, 37, 41, 43, 47, 53, 59, 61, 67, 71, 73, 79, 83, 89, 97]  \n",
      "[1, 2, 3, 5, 7, 11, 13, 17, 19, 23, 29, 31, 37, 41, 43, 47, 53, 59, 61, 67, 71, 73, 79, 83, 89, 97]  \n",
      "[1, 2, 3, 5, 7, 11, 13, 17, 19, 23, 29, 31, 37, 41, 43, 47, 53, 59, 61, 67, 71, 73, 79, 83, 89, 97]  \n",
      "[1, 2, 3, 5, 7, 11, 13, 17, 19, 23, 29, 31, 37, 41, 43, 47, 53, 59, 61, 67, 71, 73, 79, 83, 89, 97]  \n",
      "[1, 2, 3, 5, 7, 11, 13, 17, 19, 23, 29, 31, 37, 41, 43, 47, 53, 59, 61, 67, 71, 73, 79, 83, 89, 97]  \n",
      "[1, 2, 3, 5, 7, 11, 13, 17, 19, 23, 29, 31, 37, 41, 43, 47, 53, 59, 61, 67, 71, 73, 79, 83, 89, 97]  \n"
     ]
    },
    {
     "data": {
      "text/plain": [
       "0.01693962500030466"
      ]
     },
     "execution_count": 32,
     "metadata": {},
     "output_type": "execute_result"
    }
   ],
   "source": [
    "timeit.timeit(stmt,setup, number = 10)"
   ]
  },
  {
   "cell_type": "code",
   "execution_count": null,
   "id": "0c2b999b",
   "metadata": {},
   "outputs": [],
   "source": []
  },
  {
   "cell_type": "code",
   "execution_count": 44,
   "id": "e3fbf29c",
   "metadata": {},
   "outputs": [],
   "source": [
    "import re\n",
    "#Find the largest palindrome made from the product of two 3-digit numbers.\n",
    "def palindrom():\n",
    "    \n",
    "    lst = []\n",
    "    for i in range(900, 1000):\n",
    "        for j in range(900, 1000):\n",
    "            if str(i * j) == str(i * j)[::-1]:\n",
    "                lst.append(i*j)\n",
    "                \n",
    "    return lst[-1]"
   ]
  },
  {
   "cell_type": "code",
   "execution_count": 45,
   "id": "87b2a5a2",
   "metadata": {},
   "outputs": [
    {
     "data": {
      "text/plain": [
       "906609"
      ]
     },
     "execution_count": 45,
     "metadata": {},
     "output_type": "execute_result"
    }
   ],
   "source": [
    "palindrom()"
   ]
  },
  {
   "cell_type": "code",
   "execution_count": 178,
   "id": "f886240d",
   "metadata": {},
   "outputs": [],
   "source": [
    "#What is the smallest positive number \n",
    "#that is evenly divisible by all of the numbers from 1 to 20?\n",
    "def smallest_positive():\n",
    "    \n",
    "    '''lst = []\n",
    "    s = -1\n",
    "    for i in range(20,1,-1):\n",
    "        lst.append([i])\n",
    "        s += 1\n",
    "        for j in range(2,21):\n",
    "            k = True\n",
    "            while k:\n",
    "                if i % j == 0:\n",
    "                    lst[s].append(j)\n",
    "                    i = i/j\n",
    "                    \n",
    "                else:\n",
    "                    k = False\n",
    "\n",
    "    for g in lst[::-1]:\n",
    "        g.pop(0)\n",
    "    return lst[::-1]'''\n",
    "    \n",
    "    a = int(input())\n",
    "    b = int(input())\n",
    "    \n",
    "    if a>b:\n",
    "        while a != b:\n",
    "            a,b = b, a-b\n",
    "    else:\n",
    "        while a != b:\n",
    "            b,a = a, b-a\n",
    "    return b\n",
    "        "
   ]
  },
  {
   "cell_type": "code",
   "execution_count": 179,
   "id": "4badb50a",
   "metadata": {},
   "outputs": [
    {
     "name": "stdout",
     "output_type": "stream",
     "text": [
      "20\n",
      "70\n"
     ]
    },
    {
     "ename": "KeyboardInterrupt",
     "evalue": "",
     "output_type": "error",
     "traceback": [
      "\u001b[0;31m---------------------------------------------------------------------------\u001b[0m",
      "\u001b[0;31mKeyboardInterrupt\u001b[0m                         Traceback (most recent call last)",
      "\u001b[0;32m<ipython-input-179-49e2af486c8b>\u001b[0m in \u001b[0;36m<module>\u001b[0;34m\u001b[0m\n\u001b[0;32m----> 1\u001b[0;31m \u001b[0msmallest_positive\u001b[0m\u001b[0;34m(\u001b[0m\u001b[0;34m)\u001b[0m\u001b[0;34m\u001b[0m\u001b[0;34m\u001b[0m\u001b[0m\n\u001b[0m",
      "\u001b[0;32m<ipython-input-178-9d318eca6770>\u001b[0m in \u001b[0;36msmallest_positive\u001b[0;34m()\u001b[0m\n\u001b[1;32m     30\u001b[0m     \u001b[0;32melse\u001b[0m\u001b[0;34m:\u001b[0m\u001b[0;34m\u001b[0m\u001b[0;34m\u001b[0m\u001b[0m\n\u001b[1;32m     31\u001b[0m         \u001b[0;32mwhile\u001b[0m \u001b[0ma\u001b[0m \u001b[0;34m!=\u001b[0m \u001b[0mb\u001b[0m\u001b[0;34m:\u001b[0m\u001b[0;34m\u001b[0m\u001b[0;34m\u001b[0m\u001b[0m\n\u001b[0;32m---> 32\u001b[0;31m             \u001b[0mb\u001b[0m\u001b[0;34m,\u001b[0m\u001b[0ma\u001b[0m \u001b[0;34m=\u001b[0m \u001b[0ma\u001b[0m\u001b[0;34m,\u001b[0m \u001b[0mb\u001b[0m\u001b[0;34m-\u001b[0m\u001b[0ma\u001b[0m\u001b[0;34m\u001b[0m\u001b[0;34m\u001b[0m\u001b[0m\n\u001b[0m\u001b[1;32m     33\u001b[0m     \u001b[0;32mreturn\u001b[0m \u001b[0mb\u001b[0m\u001b[0;34m\u001b[0m\u001b[0;34m\u001b[0m\u001b[0m\n\u001b[1;32m     34\u001b[0m \u001b[0;34m\u001b[0m\u001b[0m\n",
      "\u001b[0;31mKeyboardInterrupt\u001b[0m: "
     ]
    }
   ],
   "source": [
    "smallest_positive()"
   ]
  },
  {
   "cell_type": "code",
   "execution_count": 107,
   "id": "c7f0d26f",
   "metadata": {},
   "outputs": [],
   "source": [
    "lst = list(range(2,21))"
   ]
  },
  {
   "cell_type": "code",
   "execution_count": 116,
   "id": "952fc578",
   "metadata": {},
   "outputs": [],
   "source": [
    "lst.clear()"
   ]
  },
  {
   "cell_type": "code",
   "execution_count": 167,
   "id": "5bdc7042",
   "metadata": {},
   "outputs": [],
   "source": [
    "lst = [(1,2,3),(4,5,6), (6,7,8)]"
   ]
  },
  {
   "cell_type": "code",
   "execution_count": 5,
   "id": "d646bf88",
   "metadata": {},
   "outputs": [],
   "source": [
    "def func(a,n = int):\n",
    "    if n == 0:\n",
    "        return 1\n",
    "    elif n % 2 == 1:\n",
    "        return func(a, n-1)*a\n",
    "    else:\n",
    "        return (a**2, n//2)"
   ]
  },
  {
   "cell_type": "code",
   "execution_count": 6,
   "id": "38c6d80c",
   "metadata": {},
   "outputs": [
    {
     "data": {
      "text/plain": [
       "(9, 1, 9, 1, 9, 1)"
      ]
     },
     "execution_count": 6,
     "metadata": {},
     "output_type": "execute_result"
    }
   ],
   "source": [
    "func(3,3)"
   ]
  },
  {
   "cell_type": "code",
   "execution_count": 14,
   "id": "6dcd5fd6",
   "metadata": {},
   "outputs": [
    {
     "name": "stdout",
     "output_type": "stream",
     "text": [
      "3\n",
      "1 2\n",
      "3\n",
      "-2 5\n",
      "3\n",
      "7 16\n",
      "23\n"
     ]
    }
   ],
   "source": [
    "N = int(input())\n",
    "\n",
    "for i in range(N):\n",
    "    a,b = map(int, input().split())\n",
    "    print(a+b)"
   ]
  },
  {
   "cell_type": "code",
   "execution_count": 13,
   "id": "d2f65a95",
   "metadata": {},
   "outputs": [
    {
     "name": "stdout",
     "output_type": "stream",
     "text": [
      "1 3 4 7 2 6\n"
     ]
    },
    {
     "data": {
      "text/plain": [
       "['1', '3', '4', '7', '2', '6']"
      ]
     },
     "execution_count": 13,
     "metadata": {},
     "output_type": "execute_result"
    }
   ],
   "source": [
    "input().split()"
   ]
  },
  {
   "cell_type": "code",
   "execution_count": 34,
   "id": "49d4b0d7",
   "metadata": {},
   "outputs": [
    {
     "name": "stdout",
     "output_type": "stream",
     "text": [
      "2 6\n",
      "16\n"
     ]
    }
   ],
   "source": [
    "a,b = map(int, input().split())\n",
    "s = (a + b) * 2\n",
    "print(s)"
   ]
  },
  {
   "cell_type": "code",
   "execution_count": 30,
   "id": "92b54656",
   "metadata": {},
   "outputs": [],
   "source": [
    "# print(f'{value:.numbers_after_period+f}') выводить число с желаемым количеством цифр после точки"
   ]
  },
  {
   "cell_type": "code",
   "execution_count": 32,
   "id": "1728a76a",
   "metadata": {},
   "outputs": [
    {
     "name": "stdout",
     "output_type": "stream",
     "text": [
      "1 2 3 4\n",
      "10.0000\n"
     ]
    }
   ],
   "source": [
    "a,b,c,d = map(float, input().split())\n",
    "s = a+b+c+d\n",
    "print(f'{s:.4f}')"
   ]
  },
  {
   "cell_type": "code",
   "execution_count": 43,
   "id": "3ea5814a",
   "metadata": {},
   "outputs": [
    {
     "name": "stdout",
     "output_type": "stream",
     "text": [
      "234\n",
      "234\n",
      "234\n",
      "0\n"
     ]
    }
   ],
   "source": [
    "a = float(input())\n",
    "if a%1 >= 0.5:\n",
    "    print(round(a//1 + 1))\n",
    "else:\n",
    "    print(round(a // 1))\n",
    "print(round(a//1))\n",
    "if a%1 == 0:\n",
    "    print(0)\n",
    "else:\n",
    "    print(round(a - a//1, 10))"
   ]
  },
  {
   "cell_type": "code",
   "execution_count": 22,
   "id": "074828a9",
   "metadata": {},
   "outputs": [
    {
     "name": "stdout",
     "output_type": "stream",
     "text": [
      "10 4\n",
      "6\n"
     ]
    }
   ],
   "source": [
    "x,y = map(int, input().split())\n",
    "print(x-y)"
   ]
  },
  {
   "cell_type": "code",
   "execution_count": 5,
   "id": "fbc63c5e",
   "metadata": {},
   "outputs": [
    {
     "data": {
      "text/plain": [
       "0"
      ]
     },
     "execution_count": 5,
     "metadata": {},
     "output_type": "execute_result"
    }
   ],
   "source": [
    "round(abs(s - round(s//1 + 1)))"
   ]
  },
  {
   "cell_type": "code",
   "execution_count": 31,
   "id": "0f51872c",
   "metadata": {},
   "outputs": [
    {
     "data": {
      "text/plain": [
       "0.399"
      ]
     },
     "execution_count": 31,
     "metadata": {},
     "output_type": "execute_result"
    }
   ],
   "source": [
    "round(0.399, 4)"
   ]
  },
  {
   "cell_type": "code",
   "execution_count": 29,
   "id": "a6e16845",
   "metadata": {},
   "outputs": [
    {
     "name": "stdout",
     "output_type": "stream",
     "text": [
      "12.958\n"
     ]
    },
    {
     "data": {
      "text/plain": [
       "24"
      ]
     },
     "execution_count": 29,
     "metadata": {},
     "output_type": "execute_result"
    }
   ],
   "source": [
    "x = float(input())\n",
    "print(round((x // 1) * 2))"
   ]
  },
  {
   "cell_type": "code",
   "execution_count": 45,
   "id": "298ec8be",
   "metadata": {},
   "outputs": [
    {
     "name": "stdout",
     "output_type": "stream",
     "text": [
      "12.1257 1000\n",
      "126\n"
     ]
    }
   ],
   "source": [
    "a,b = map(float, input().split())\n",
    "if a%1 == 0:\n",
    "    print(0)\n",
    "else:\n",
    "    c = round(a - a//1, 10) * b\n",
    "if c%1 >= 0.5:\n",
    "    print(round(c//1 + 1))\n",
    "else:\n",
    "    print(round(c // 1))"
   ]
  },
  {
   "cell_type": "code",
   "execution_count": 46,
   "id": "afee08ac",
   "metadata": {},
   "outputs": [
    {
     "name": "stdout",
     "output_type": "stream",
     "text": [
      "3 4 5 6\n",
      "18\n"
     ]
    }
   ],
   "source": [
    "a1, b1, a2, b2 = map(int, input().split())\n",
    "print(abs(a1*b1 - a2*b2))"
   ]
  },
  {
   "cell_type": "code",
   "execution_count": 53,
   "id": "717fc142",
   "metadata": {},
   "outputs": [
    {
     "name": "stdout",
     "output_type": "stream",
     "text": [
      "123\n",
      "3 2 1 "
     ]
    }
   ],
   "source": [
    "i = int(input())\n",
    "\n",
    "while i != 0:\n",
    "    print(i % 10, end = ' ')\n",
    "    i //= 10"
   ]
  },
  {
   "cell_type": "code",
   "execution_count": 56,
   "id": "0aeaecac",
   "metadata": {},
   "outputs": [
    {
     "name": "stdout",
     "output_type": "stream",
     "text": [
      "2 3\n",
      "2.50\n"
     ]
    }
   ],
   "source": [
    "x,y = map(int, input().split())\n",
    "print(f'{(x+y)/2:.2f}')"
   ]
  },
  {
   "cell_type": "code",
   "execution_count": 65,
   "id": "767c3cfc",
   "metadata": {},
   "outputs": [
    {
     "name": "stdout",
     "output_type": "stream",
     "text": [
      "203\n",
      "32\n"
     ]
    }
   ],
   "source": [
    "i = int(input())\n",
    "x = i // 100\n",
    "y = i % 100\n",
    "print(y,x, sep='')"
   ]
  },
  {
   "cell_type": "code",
   "execution_count": 88,
   "id": "be0ac34b",
   "metadata": {},
   "outputs": [
    {
     "name": "stdout",
     "output_type": "stream",
     "text": [
      "203\n",
      "032"
     ]
    }
   ],
   "source": [
    "i = input()\n",
    "l = [i[j] for j in range(len(i))]\n",
    "x = l.pop(0)\n",
    "l.append(x)\n",
    "for g in l:\n",
    "    print(g, end='')"
   ]
  },
  {
   "cell_type": "code",
   "execution_count": 89,
   "id": "17dfd51e",
   "metadata": {},
   "outputs": [
    {
     "name": "stdout",
     "output_type": "stream",
     "text": [
      "150\n",
      "2\n"
     ]
    }
   ],
   "source": [
    "x = int(input())\n",
    "print(x//60)"
   ]
  },
  {
   "cell_type": "code",
   "execution_count": 90,
   "id": "f02b3c1c",
   "metadata": {},
   "outputs": [
    {
     "name": "stdout",
     "output_type": "stream",
     "text": [
      "5 2\n",
      "1\n"
     ]
    }
   ],
   "source": [
    "x,y = map(int, input().split())\n",
    "print(x%y)"
   ]
  },
  {
   "cell_type": "code",
   "execution_count": 93,
   "id": "e12d9a93",
   "metadata": {},
   "outputs": [
    {
     "name": "stdout",
     "output_type": "stream",
     "text": [
      "2\n",
      "Yes\n"
     ]
    }
   ],
   "source": [
    "x = int(input())\n",
    "if x % 2 == 0:\n",
    "    print('Yes')\n",
    "else:\n",
    "    print('No')"
   ]
  },
  {
   "cell_type": "code",
   "execution_count": 95,
   "id": "3b864f96",
   "metadata": {},
   "outputs": [
    {
     "name": "stdout",
     "output_type": "stream",
     "text": [
      "2 3\n",
      "6\n"
     ]
    }
   ],
   "source": [
    "x,y = map(int, input().split())\n",
    "print(max(x,y)* 2)"
   ]
  },
  {
   "cell_type": "code",
   "execution_count": 97,
   "id": "064d92b0",
   "metadata": {},
   "outputs": [
    {
     "name": "stdout",
     "output_type": "stream",
     "text": [
      "10\n",
      "5\n"
     ]
    }
   ],
   "source": [
    "x = int(input())\n",
    "if x % 2 == 0:\n",
    "    print(round(x/2))\n",
    "else:\n",
    "    print(0)"
   ]
  },
  {
   "cell_type": "code",
   "execution_count": 102,
   "id": "2eca5249",
   "metadata": {},
   "outputs": [
    {
     "name": "stdout",
     "output_type": "stream",
     "text": [
      "3 2\n",
      "2 3 "
     ]
    }
   ],
   "source": [
    "x,y = input().split()\n",
    "l = []\n",
    "l.append(x)\n",
    "l.append(y)\n",
    "l.sort()\n",
    "for i in l:\n",
    "    print(i, end = ' ')"
   ]
  },
  {
   "cell_type": "code",
   "execution_count": 105,
   "id": "9e938c0b",
   "metadata": {},
   "outputs": [
    {
     "name": "stdout",
     "output_type": "stream",
     "text": [
      "12.5\n",
      "No\n"
     ]
    }
   ],
   "source": [
    "x = float(input())\n",
    "if x % 1 == 0:\n",
    "    print('Yes')\n",
    "else:\n",
    "    print('No')"
   ]
  },
  {
   "cell_type": "code",
   "execution_count": 107,
   "id": "74146497",
   "metadata": {},
   "outputs": [
    {
     "name": "stdout",
     "output_type": "stream",
     "text": [
      "1 2 3 4\n",
      "1 4\n"
     ]
    }
   ],
   "source": [
    "a,b,c,d = map(int,input().split())\n",
    "maximum = max(max(max(a,b),c),d)\n",
    "minimum = min(min(min(a,b),c),d)\n",
    "print(minimum, maximum)"
   ]
  },
  {
   "cell_type": "code",
   "execution_count": 108,
   "id": "e924ab32",
   "metadata": {},
   "outputs": [
    {
     "name": "stdout",
     "output_type": "stream",
     "text": [
      "-10 100\n"
     ]
    },
    {
     "ename": "TypeError",
     "evalue": "'<' not supported between instances of 'type' and 'int'",
     "output_type": "error",
     "traceback": [
      "\u001b[1;31m---------------------------------------------------------------------------\u001b[0m",
      "\u001b[1;31mTypeError\u001b[0m                                 Traceback (most recent call last)",
      "\u001b[1;32m<ipython-input-108-b541bd2561fa>\u001b[0m in \u001b[0;36m<module>\u001b[1;34m\u001b[0m\n\u001b[0;32m      1\u001b[0m \u001b[0mx\u001b[0m\u001b[1;33m,\u001b[0m\u001b[0my\u001b[0m \u001b[1;33m=\u001b[0m \u001b[1;33m(\u001b[0m\u001b[0mint\u001b[0m\u001b[1;33m,\u001b[0m\u001b[0minput\u001b[0m\u001b[1;33m(\u001b[0m\u001b[1;33m)\u001b[0m\u001b[1;33m.\u001b[0m\u001b[0msplit\u001b[0m\u001b[1;33m(\u001b[0m\u001b[1;33m)\u001b[0m\u001b[1;33m)\u001b[0m\u001b[1;33m\u001b[0m\u001b[1;33m\u001b[0m\u001b[0m\n\u001b[1;32m----> 2\u001b[1;33m \u001b[1;32mif\u001b[0m \u001b[0mx\u001b[0m \u001b[1;33m<\u001b[0m \u001b[1;36m0\u001b[0m \u001b[1;32mand\u001b[0m \u001b[0my\u001b[0m \u001b[1;33m>\u001b[0m \u001b[1;36m0\u001b[0m\u001b[1;33m:\u001b[0m\u001b[1;33m\u001b[0m\u001b[1;33m\u001b[0m\u001b[0m\n\u001b[0m\u001b[0;32m      3\u001b[0m     \u001b[0mprint\u001b[0m\u001b[1;33m(\u001b[0m\u001b[1;34m'Yes'\u001b[0m\u001b[1;33m)\u001b[0m\u001b[1;33m\u001b[0m\u001b[1;33m\u001b[0m\u001b[0m\n\u001b[0;32m      4\u001b[0m \u001b[1;32melse\u001b[0m\u001b[1;33m:\u001b[0m\u001b[1;33m\u001b[0m\u001b[1;33m\u001b[0m\u001b[0m\n\u001b[0;32m      5\u001b[0m     \u001b[0mprint\u001b[0m\u001b[1;33m(\u001b[0m\u001b[1;34m'No'\u001b[0m\u001b[1;33m)\u001b[0m\u001b[1;33m\u001b[0m\u001b[1;33m\u001b[0m\u001b[0m\n",
      "\u001b[1;31mTypeError\u001b[0m: '<' not supported between instances of 'type' and 'int'"
     ]
    }
   ],
   "source": [
    "x,y = map(int,input().split())\n",
    "if x < 0 and y > 0:\n",
    "    print('Yes')\n",
    "else:\n",
    "    print('No')"
   ]
  },
  {
   "cell_type": "code",
   "execution_count": 109,
   "id": "a919c917",
   "metadata": {},
   "outputs": [
    {
     "name": "stdout",
     "output_type": "stream",
     "text": [
      "2 -8\n",
      "4\n"
     ]
    }
   ],
   "source": [
    "x,y = map(int,input().split())\n",
    "if x > 0 and y > 0:\n",
    "    print(1)\n",
    "elif x > 0 and y < 0:\n",
    "    print(4)\n",
    "elif y > 0 and x < 0:\n",
    "    print(2)\n",
    "else:\n",
    "    print(3)"
   ]
  },
  {
   "cell_type": "code",
   "execution_count": 111,
   "id": "a1de29f3",
   "metadata": {},
   "outputs": [
    {
     "name": "stdout",
     "output_type": "stream",
     "text": [
      "1 4 5\n",
      "No\n"
     ]
    }
   ],
   "source": [
    "a,b,c = map(int, input().split())\n",
    "if a + b > c and b + c > a and c + a > b:\n",
    "    print('Yes')\n",
    "else:\n",
    "    print('No')"
   ]
  },
  {
   "cell_type": "code",
   "execution_count": 142,
   "id": "5a0f890b",
   "metadata": {},
   "outputs": [
    {
     "name": "stdout",
     "output_type": "stream",
     "text": [
      "0\n",
      "0\n"
     ]
    }
   ],
   "source": [
    "a = int(input())\n",
    "m = 0\n",
    "while a > 0:\n",
    "    m = max(m,a%10)\n",
    "    a //= 10\n",
    "print(m)"
   ]
  },
  {
   "cell_type": "code",
   "execution_count": 239,
   "id": "16ba8bc3",
   "metadata": {},
   "outputs": [],
   "source": [
    "def sum_or_difference(a):\n",
    "    l = []\n",
    "    s = 0\n",
    "    r = a\n",
    "    while r > 0:\n",
    "        l.append(r%10)\n",
    "        r //= 10\n",
    "    for num in l:\n",
    "        s += num\n",
    "    if a ** 2 != s ** 3:\n",
    "        f=0\n",
    "        for item in l:\n",
    "            f = abs(f-item)\n",
    "        return ','\n",
    "    else:\n",
    "        return 'True', a"
   ]
  },
  {
   "cell_type": "code",
   "execution_count": 240,
   "id": "0ea618bf",
   "metadata": {},
   "outputs": [
    {
     "data": {
      "text/plain": [
       "('True', 27)"
      ]
     },
     "execution_count": 240,
     "metadata": {},
     "output_type": "execute_result"
    }
   ],
   "source": [
    "sum_or_difference(27)"
   ]
  },
  {
   "cell_type": "code",
   "execution_count": 243,
   "id": "381657ea",
   "metadata": {},
   "outputs": [],
   "source": [
    "def test(func):\n",
    "    for i in range(10000000,100000000):\n",
    "        if func(i) == ('True', i):\n",
    "            print(i)"
   ]
  },
  {
   "cell_type": "code",
   "execution_count": 244,
   "id": "a86abeaa",
   "metadata": {},
   "outputs": [],
   "source": [
    "test(sum_or_difference)"
   ]
  },
  {
   "cell_type": "code",
   "execution_count": 260,
   "id": "48ffad8f",
   "metadata": {},
   "outputs": [
    {
     "name": "stdout",
     "output_type": "stream",
     "text": [
      "2\n",
      "8.333\n"
     ]
    }
   ],
   "source": [
    "x = float(input())\n",
    "if x == 1 or x == -1:\n",
    "    print('No')\n",
    "else:\n",
    "    a = x+1\n",
    "    b = x**2 + 4*x - 4\n",
    "    c = x**2 - 1\n",
    "    print(f'{(a*b+1)/c:.3f}')"
   ]
  },
  {
   "cell_type": "code",
   "execution_count": 254,
   "id": "69fef0c5",
   "metadata": {},
   "outputs": [],
   "source": [
    "def test(f):\n",
    "    for i in range(2,100):\n",
    "        print(f(i))\n",
    "    "
   ]
  },
  {
   "cell_type": "code",
   "execution_count": 255,
   "id": "a7a86e88",
   "metadata": {},
   "outputs": [
    {
     "name": "stdout",
     "output_type": "stream",
     "text": [
      "8.333\n",
      "None\n",
      "8.625\n",
      "None\n",
      "9.400\n",
      "None\n",
      "10.292\n",
      "None\n",
      "11.229\n",
      "None\n",
      "12.188\n",
      "None\n",
      "13.159\n",
      "None\n",
      "14.137\n",
      "None\n",
      "15.121\n",
      "None\n",
      "16.108\n",
      "None\n",
      "17.098\n",
      "None\n",
      "18.089\n",
      "None\n",
      "19.082\n",
      "None\n",
      "20.076\n",
      "None\n",
      "21.071\n",
      "None\n",
      "22.066\n",
      "None\n",
      "23.062\n",
      "None\n",
      "24.058\n",
      "None\n",
      "25.055\n",
      "None\n",
      "26.052\n",
      "None\n",
      "27.050\n",
      "None\n",
      "28.047\n",
      "None\n",
      "29.045\n",
      "None\n",
      "30.043\n",
      "None\n",
      "31.041\n",
      "None\n",
      "32.040\n",
      "None\n",
      "33.038\n",
      "None\n",
      "34.037\n",
      "None\n",
      "35.036\n",
      "None\n",
      "36.034\n",
      "None\n",
      "37.033\n",
      "None\n",
      "38.032\n",
      "None\n",
      "39.031\n",
      "None\n",
      "40.030\n",
      "None\n",
      "41.029\n",
      "None\n",
      "42.029\n",
      "None\n",
      "43.028\n",
      "None\n",
      "44.027\n",
      "None\n",
      "45.026\n",
      "None\n",
      "46.026\n",
      "None\n",
      "47.025\n",
      "None\n",
      "48.024\n",
      "None\n",
      "49.024\n",
      "None\n",
      "50.023\n",
      "None\n",
      "51.023\n",
      "None\n",
      "52.022\n",
      "None\n",
      "53.022\n",
      "None\n",
      "54.021\n",
      "None\n",
      "55.021\n",
      "None\n",
      "56.020\n",
      "None\n",
      "57.020\n",
      "None\n",
      "58.020\n",
      "None\n",
      "59.019\n",
      "None\n",
      "60.019\n",
      "None\n",
      "61.019\n",
      "None\n",
      "62.018\n",
      "None\n",
      "63.018\n",
      "None\n",
      "64.018\n",
      "None\n",
      "65.017\n",
      "None\n",
      "66.017\n",
      "None\n",
      "67.017\n",
      "None\n",
      "68.016\n",
      "None\n",
      "69.016\n",
      "None\n",
      "70.016\n",
      "None\n",
      "71.016\n",
      "None\n",
      "72.015\n",
      "None\n",
      "73.015\n",
      "None\n",
      "74.015\n",
      "None\n",
      "75.015\n",
      "None\n",
      "76.014\n",
      "None\n",
      "77.014\n",
      "None\n",
      "78.014\n",
      "None\n",
      "79.014\n",
      "None\n",
      "80.014\n",
      "None\n",
      "81.014\n",
      "None\n",
      "82.013\n",
      "None\n",
      "83.013\n",
      "None\n",
      "84.013\n",
      "None\n",
      "85.013\n",
      "None\n",
      "86.013\n",
      "None\n",
      "87.012\n",
      "None\n",
      "88.012\n",
      "None\n",
      "89.012\n",
      "None\n",
      "90.012\n",
      "None\n",
      "91.012\n",
      "None\n",
      "92.012\n",
      "None\n",
      "93.012\n",
      "None\n",
      "94.011\n",
      "None\n",
      "95.011\n",
      "None\n",
      "96.011\n",
      "None\n",
      "97.011\n",
      "None\n",
      "98.011\n",
      "None\n",
      "99.011\n",
      "None\n",
      "100.011\n",
      "None\n",
      "101.011\n",
      "None\n",
      "102.011\n",
      "None\n",
      "103.010\n",
      "None\n",
      "104.010\n",
      "None\n"
     ]
    }
   ],
   "source": [
    "test(funv)"
   ]
  },
  {
   "cell_type": "code",
   "execution_count": 262,
   "id": "54562840",
   "metadata": {},
   "outputs": [
    {
     "name": "stdout",
     "output_type": "stream",
     "text": [
      "21\n",
      "2\n"
     ]
    }
   ],
   "source": [
    "x = int(input())\n",
    "a = x %10\n",
    "b = x//10\n",
    "if a == 0:\n",
    "    print('No')\n",
    "else:\n",
    "    print(b//a)"
   ]
  },
  {
   "cell_type": "code",
   "execution_count": 265,
   "id": "fc333174",
   "metadata": {},
   "outputs": [
    {
     "name": "stdout",
     "output_type": "stream",
     "text": [
      "5 30 2 15\n",
      "5 30 15 "
     ]
    }
   ],
   "source": [
    "a,b,c,d = map(int, input().split())\n",
    "lst = []\n",
    "for item in a,b,c,d:\n",
    "    lst.append(item)\n",
    "for num in lst:\n",
    "    if num % 5 == 0:\n",
    "        print(num, end = ' ')"
   ]
  },
  {
   "cell_type": "code",
   "execution_count": 266,
   "id": "0aa6ebdc",
   "metadata": {},
   "outputs": [
    {
     "name": "stdout",
     "output_type": "stream",
     "text": [
      "3 1 1 2\n",
      "No\n"
     ]
    }
   ],
   "source": [
    "x1,y1,x2,y2 = map(int, input().split())\n",
    "if x1 == x2 or y1 == y2:\n",
    "    print('Yes')\n",
    "else:\n",
    "    print('No')"
   ]
  },
  {
   "cell_type": "code",
   "execution_count": 268,
   "id": "e35df0b0",
   "metadata": {},
   "outputs": [
    {
     "name": "stdout",
     "output_type": "stream",
     "text": [
      "2 5 1\n",
      "1 5\n"
     ]
    }
   ],
   "source": [
    "a,b,c = map(int, input().split())\n",
    "print(min(min(a,b),c), max(max(a,b),c))"
   ]
  },
  {
   "cell_type": "code",
   "execution_count": 270,
   "id": "2d66a845",
   "metadata": {},
   "outputs": [
    {
     "name": "stdout",
     "output_type": "stream",
     "text": [
      "1 2 3 4 5 6 7\n",
      "NO\n"
     ]
    }
   ],
   "source": [
    "a,b,c,d,e,f,g = map(int, input().split())\n",
    "if a>b>c>d>e>f>g:\n",
    "    print('YES')\n",
    "else:\n",
    "    print('NO')"
   ]
  },
  {
   "cell_type": "code",
   "execution_count": 278,
   "id": "fb67fa94",
   "metadata": {},
   "outputs": [
    {
     "data": {
      "text/plain": [
       "['abc']"
      ]
     },
     "execution_count": 278,
     "metadata": {},
     "output_type": "execute_result"
    }
   ],
   "source": [
    "'abc'.split()"
   ]
  },
  {
   "cell_type": "code",
   "execution_count": 279,
   "id": "54e2414d",
   "metadata": {},
   "outputs": [
    {
     "data": {
      "text/plain": [
       "'a'"
      ]
     },
     "execution_count": 279,
     "metadata": {},
     "output_type": "execute_result"
    }
   ],
   "source": [
    "'abc'[0]"
   ]
  },
  {
   "cell_type": "code",
   "execution_count": 282,
   "id": "6032127d",
   "metadata": {},
   "outputs": [],
   "source": [
    "lst = [1,2,3]\n",
    "l = ['a', 'b', 'c']"
   ]
  },
  {
   "cell_type": "code",
   "execution_count": null,
   "id": "df42e360",
   "metadata": {},
   "outputs": [],
   "source": [
    "n #количество людей\n",
    "k #количество остановок\n",
    "s #люди которые остались после катой остановки\n",
    "s = n\n",
    "for i in range(7):\n",
    "    s = s - n/2 - 1/2"
   ]
  },
  {
   "cell_type": "code",
   "execution_count": 300,
   "id": "fab58a3b",
   "metadata": {},
   "outputs": [
    {
     "name": "stdout",
     "output_type": "stream",
     "text": [
      "2\n",
      "1\n",
      "3\n",
      "1\n",
      "7\n"
     ]
    }
   ],
   "source": [
    "t = int(input())\n",
    "l = []\n",
    "for i in range(t):\n",
    "    k = int(input())\n",
    "    f = 0\n",
    "    for j in range(k):\n",
    "        n = 2*f + 1\n",
    "        f = n\n",
    "    l.append(f)\n",
    "for g in l:\n",
    "    print(g)\n",
    "        "
   ]
  },
  {
   "cell_type": "code",
   "execution_count": 309,
   "id": "5a3b9cf9",
   "metadata": {},
   "outputs": [
    {
     "name": "stdout",
     "output_type": "stream",
     "text": [
      "5\n",
      "1\n",
      "2\n",
      "3\n",
      "4\n",
      "5\n"
     ]
    }
   ],
   "source": [
    "n = int(input())\n",
    "lst = []\n",
    "for s in range(n-1):\n",
    "    k = int(input())\n",
    "    lst.append(k)\n",
    "lst.sort()\n",
    "lst2 = list(range(1,n+1))\n",
    "for i in lst2:\n",
    "    q = 0\n",
    "    for j in lst:\n",
    "        if i == j:\n",
    "            q+=1\n",
    "    if q == 0:\n",
    "        print(i)"
   ]
  },
  {
   "cell_type": "code",
   "execution_count": 347,
   "id": "a6cd9477",
   "metadata": {},
   "outputs": [],
   "source": [
    "def adding(l_i_s_t):\n",
    "    if len(l_i_s_t) == 1:\n",
    "        return l_i_s_t[0]\n",
    "    return l_i_s_t[0] + adding(l_i_s_t[1:])"
   ]
  },
  {
   "cell_type": "code",
   "execution_count": 351,
   "id": "571d2ad3",
   "metadata": {},
   "outputs": [
    {
     "data": {
      "text/plain": [
       "69"
      ]
     },
     "execution_count": 351,
     "metadata": {},
     "output_type": "execute_result"
    }
   ],
   "source": [
    "adding([1,2,3,4,6,7,8,32,5,1])"
   ]
  },
  {
   "cell_type": "code",
   "execution_count": 3,
   "id": "f548f0a7",
   "metadata": {},
   "outputs": [],
   "source": [
    "lst = [1, 2, [3,4], [5,6]]"
   ]
  },
  {
   "cell_type": "code",
   "execution_count": 1,
   "id": "cfc5066c",
   "metadata": {},
   "outputs": [],
   "source": [
    "def factorial(n):\n",
    "    \n",
    "    if n == 1:\n",
    "        return 1\n",
    "    return (n * factorial(n-1))\n",
    "        \n",
    "        "
   ]
  },
  {
   "cell_type": "code",
   "execution_count": 5,
   "id": "3770af4f",
   "metadata": {},
   "outputs": [
    {
     "data": {
      "text/plain": [
       "720"
      ]
     },
     "execution_count": 5,
     "metadata": {},
     "output_type": "execute_result"
    }
   ],
   "source": [
    "factorial(6)"
   ]
  },
  {
   "cell_type": "code",
   "execution_count": 10,
   "id": "f056a3e5",
   "metadata": {},
   "outputs": [],
   "source": [
    "def fibon(number_of_last):\n",
    "    \n",
    "    very_first = 1\n",
    "    second = 1\n",
    "    if number_of_last == 0:\n",
    "        return 1\n",
    "    very_first,second = second, second+very_first\n",
    "    fibon(number_of_last-1)\n",
    "    return second"
   ]
  },
  {
   "cell_type": "code",
   "execution_count": 12,
   "id": "6681f59f",
   "metadata": {},
   "outputs": [
    {
     "data": {
      "text/plain": [
       "2"
      ]
     },
     "execution_count": 12,
     "metadata": {},
     "output_type": "execute_result"
    }
   ],
   "source": [
    "fibon()"
   ]
  },
  {
   "cell_type": "code",
   "execution_count": 13,
   "id": "5e81aeda",
   "metadata": {},
   "outputs": [],
   "source": [
    "def sum_of_int(n):\n",
    "    \n",
    "    if n == 0:\n",
    "        return 0\n",
    "    return n%10 + sum_of_int(n//10)"
   ]
  },
  {
   "cell_type": "code",
   "execution_count": 15,
   "id": "dedf6378",
   "metadata": {},
   "outputs": [
    {
     "data": {
      "text/plain": [
       "9"
      ]
     },
     "execution_count": 15,
     "metadata": {},
     "output_type": "execute_result"
    }
   ],
   "source": [
    "sum_of_int(45)"
   ]
  },
  {
   "cell_type": "code",
   "execution_count": 16,
   "id": "9d21b8d8",
   "metadata": {},
   "outputs": [],
   "source": [
    "def another_sum(n):\n",
    "    \n",
    "    if n == 0:\n",
    "        return 0\n",
    "    return n + another_sum(n-2)"
   ]
  },
  {
   "cell_type": "code",
   "execution_count": 17,
   "id": "188c1b5f",
   "metadata": {},
   "outputs": [
    {
     "data": {
      "text/plain": [
       "12"
      ]
     },
     "execution_count": 17,
     "metadata": {},
     "output_type": "execute_result"
    }
   ],
   "source": [
    "another_sum(6)"
   ]
  },
  {
   "cell_type": "code",
   "execution_count": 18,
   "id": "034cd22b",
   "metadata": {},
   "outputs": [],
   "source": [
    "def power(n,m):\n",
    "    \n",
    "    if m == 0:\n",
    "        return 1\n",
    "    return n*power(n,m-1)"
   ]
  },
  {
   "cell_type": "code",
   "execution_count": 19,
   "id": "fda21db9",
   "metadata": {},
   "outputs": [
    {
     "data": {
      "text/plain": [
       "81"
      ]
     },
     "execution_count": 19,
     "metadata": {},
     "output_type": "execute_result"
    }
   ],
   "source": [
    "power(3,4)"
   ]
  },
  {
   "cell_type": "code",
   "execution_count": 66,
   "id": "0f53d359",
   "metadata": {},
   "outputs": [],
   "source": [
    "def gcd(n,m):\n",
    "    \n",
    "    if m == 0:\n",
    "        return n\n",
    "    return gcd(m,n%m)"
   ]
  },
  {
   "cell_type": "code",
   "execution_count": 67,
   "id": "1f72b59b",
   "metadata": {},
   "outputs": [
    {
     "data": {
      "text/plain": [
       "5"
      ]
     },
     "execution_count": 67,
     "metadata": {},
     "output_type": "execute_result"
    }
   ],
   "source": [
    "gcd(175,10)"
   ]
  },
  {
   "cell_type": "code",
   "execution_count": 34,
   "id": "a6c579e4",
   "metadata": {},
   "outputs": [],
   "source": [
    "from collections import Counter"
   ]
  },
  {
   "cell_type": "code",
   "execution_count": 40,
   "id": "c5d19749",
   "metadata": {},
   "outputs": [
    {
     "data": {
      "text/plain": [
       "Counter({'s': 2, 'd': 3, 'a': 2, 'g': 1, 'f': 1, 'v': 1})"
      ]
     },
     "execution_count": 40,
     "metadata": {},
     "output_type": "execute_result"
    }
   ],
   "source": [
    "Counter('sdasdgadfv')"
   ]
  },
  {
   "cell_type": "code",
   "execution_count": 56,
   "id": "f595d3ff",
   "metadata": {},
   "outputs": [
    {
     "name": "stdout",
     "output_type": "stream",
     "text": [
      "axax\n"
     ]
    }
   ],
   "source": [
    "s = 'axaaxaxaxaxax'\n",
    "if len(s) > 1:\n",
    "    r = s[0:2] + s[-2]+s[-1]\n",
    "    print(r)\n",
    "else:\n",
    "    print(\"Empty str\")"
   ]
  },
  {
   "cell_type": "code",
   "execution_count": 49,
   "id": "5a7efe0c",
   "metadata": {},
   "outputs": [
    {
     "data": {
      "text/plain": [
       "'l'"
      ]
     },
     "execution_count": 49,
     "metadata": {},
     "output_type": "execute_result"
    }
   ],
   "source": [
    "s[-2]"
   ]
  },
  {
   "cell_type": "code",
   "execution_count": 59,
   "id": "dd894b1e",
   "metadata": {},
   "outputs": [
    {
     "name": "stdout",
     "output_type": "stream",
     "text": [
      "e\n"
     ]
    }
   ],
   "source": [
    "s = 'sasple'\n",
    "for i in range(len(s)):\n",
    "    f = ''\n",
    "    if s[i] not in f:\n",
    "        f = f + s[i]\n",
    "    else:\n",
    "        f = f + '$'\n",
    "print(f)"
   ]
  },
  {
   "cell_type": "code",
   "execution_count": 15,
   "id": "e12a85d0",
   "metadata": {},
   "outputs": [],
   "source": [
    "def generate_nums(N:int, M:int, prefix = None):\n",
    "    \n",
    "    prefix = prefix or []\n",
    "    \n",
    "    if M == 0:\n",
    "        print(*prefix)\n",
    "        return\n",
    "    for digit in range(N):\n",
    "        prefix.append(digit)\n",
    "        generate_nums(N, M-1, prefix)\n",
    "        prefix.pop()"
   ]
  },
  {
   "cell_type": "code",
   "execution_count": 18,
   "id": "8bf3e97a",
   "metadata": {},
   "outputs": [
    {
     "name": "stdout",
     "output_type": "stream",
     "text": [
      "0 0\n",
      "0 1\n",
      "0 2\n",
      "0 3\n",
      "0 4\n",
      "0 5\n",
      "0 6\n",
      "0 7\n",
      "0 8\n",
      "0 9\n",
      "1 0\n",
      "1 1\n",
      "1 2\n",
      "1 3\n",
      "1 4\n",
      "1 5\n",
      "1 6\n",
      "1 7\n",
      "1 8\n",
      "1 9\n",
      "2 0\n",
      "2 1\n",
      "2 2\n",
      "2 3\n",
      "2 4\n",
      "2 5\n",
      "2 6\n",
      "2 7\n",
      "2 8\n",
      "2 9\n",
      "3 0\n",
      "3 1\n",
      "3 2\n",
      "3 3\n",
      "3 4\n",
      "3 5\n",
      "3 6\n",
      "3 7\n",
      "3 8\n",
      "3 9\n",
      "4 0\n",
      "4 1\n",
      "4 2\n",
      "4 3\n",
      "4 4\n",
      "4 5\n",
      "4 6\n",
      "4 7\n",
      "4 8\n",
      "4 9\n",
      "5 0\n",
      "5 1\n",
      "5 2\n",
      "5 3\n",
      "5 4\n",
      "5 5\n",
      "5 6\n",
      "5 7\n",
      "5 8\n",
      "5 9\n",
      "6 0\n",
      "6 1\n",
      "6 2\n",
      "6 3\n",
      "6 4\n",
      "6 5\n",
      "6 6\n",
      "6 7\n",
      "6 8\n",
      "6 9\n",
      "7 0\n",
      "7 1\n",
      "7 2\n",
      "7 3\n",
      "7 4\n",
      "7 5\n",
      "7 6\n",
      "7 7\n",
      "7 8\n",
      "7 9\n",
      "8 0\n",
      "8 1\n",
      "8 2\n",
      "8 3\n",
      "8 4\n",
      "8 5\n",
      "8 6\n",
      "8 7\n",
      "8 8\n",
      "8 9\n",
      "9 0\n",
      "9 1\n",
      "9 2\n",
      "9 3\n",
      "9 4\n",
      "9 5\n",
      "9 6\n",
      "9 7\n",
      "9 8\n",
      "9 9\n"
     ]
    }
   ],
   "source": [
    "generate_nums(10,2)"
   ]
  },
  {
   "cell_type": "code",
   "execution_count": 19,
   "id": "133016b5",
   "metadata": {},
   "outputs": [],
   "source": [
    "def generate_permutations(N:int, M:int, prefix = None):\n",
    "    pass"
   ]
  },
  {
   "cell_type": "code",
   "execution_count": null,
   "id": "834fe417",
   "metadata": {},
   "outputs": [],
   "source": []
  },
  {
   "cell_type": "markdown",
   "id": "13ac2689",
   "metadata": {},
   "source": [
    "Камень, ножницы, бумага"
   ]
  },
  {
   "cell_type": "code",
   "execution_count": 97,
   "id": "a5f25440",
   "metadata": {},
   "outputs": [],
   "source": [
    "import getpass"
   ]
  },
  {
   "cell_type": "code",
   "execution_count": 98,
   "id": "22bcead7",
   "metadata": {},
   "outputs": [],
   "source": [
    "def first_player():\n",
    "    \n",
    "    symbols = ['STONE','SCISSORS','PAPER']\n",
    "    answer1 = ''\n",
    "    \n",
    "    while answer1 not in symbols:\n",
    "        \n",
    "        answer1 = getpass.getpass(\"First Player please choose among: Stone, Scissors, Paper \").upper()\n",
    "        \n",
    "        if answer1 in symbols:\n",
    "            print('You successfully chose the symbol!')\n",
    "            \n",
    "    return answer1"
   ]
  },
  {
   "cell_type": "code",
   "execution_count": 99,
   "id": "d233538a",
   "metadata": {},
   "outputs": [],
   "source": [
    "def second_player():\n",
    "    \n",
    "    symbols = ['STONE','SCISSORS','PAPER']\n",
    "    answer2 = ''\n",
    "    \n",
    "    while answer2 not in symbols:\n",
    "        \n",
    "        answer2 = getpass.getpass(\"Second Player please choose among: Stone, Scissors, Paper \").upper()\n",
    "        \n",
    "        if answer2 in symbols:\n",
    "            print('You successfully chose the symbol!')\n",
    "    \n",
    "    return answer2\n",
    "    "
   ]
  },
  {
   "cell_type": "code",
   "execution_count": 100,
   "id": "c5381fe9",
   "metadata": {},
   "outputs": [],
   "source": [
    "def comparison(first_player, answer2):\n",
    "    \n",
    "    if answer1 == 'PAPER' and answer2 == 'STONE':\n",
    "        print('First Player Won!!!')\n",
    "    elif answer1 == 'STONE' and answer2 == 'SCISSORS':\n",
    "        print('First Player Won!!!')\n",
    "    elif answer1 == 'SCISSORS' and answer2 == 'PAPER':\n",
    "        print('First Player Won!!!')\n",
    "    elif answer1 == answer2:\n",
    "        print('Nobody won!')\n",
    "    else:\n",
    "        print('Second Player Won!!!')"
   ]
  },
  {
   "cell_type": "code",
   "execution_count": 101,
   "id": "f8589441",
   "metadata": {},
   "outputs": [
    {
     "name": "stdout",
     "output_type": "stream",
     "text": [
      "First Player please choose among: Stone, Scissors, Paper ········\n",
      "You successfully chose the symbol!\n",
      "Second Player please choose among: Stone, Scissors, Paper ········\n",
      "You successfully chose the symbol!\n",
      "First Player Won!!!\n"
     ]
    }
   ],
   "source": [
    "answer1 = first_player()\n",
    "\n",
    "answer2 = second_player()\n",
    "\n",
    "comparison(answer1, answer2)"
   ]
  },
  {
   "cell_type": "markdown",
   "id": "83c4539a",
   "metadata": {},
   "source": [
    "Крестики нолики"
   ]
  },
  {
   "cell_type": "code",
   "execution_count": 11,
   "id": "a98a56e8",
   "metadata": {},
   "outputs": [],
   "source": [
    "list_of_values = [0,1,2,3,4,5,6,7,8]\n",
    "board = ['0','1','2','3','4','5','6','7','8']"
   ]
  },
  {
   "cell_type": "code",
   "execution_count": 12,
   "id": "c810f85f",
   "metadata": {},
   "outputs": [],
   "source": [
    "board = [' ',' ',' ',' ',' ',' ',' ',' ',' ']\n",
    "\n",
    "def board_displaying(board):\n",
    "    \n",
    "    print(\"       |       |        \")\n",
    "    print(\"   \"+board[0]+\"   |   \"+board[1]+\"   |   \"+board[2]+\"   \")\n",
    "    print(\"       |       |        \")\n",
    "    print(\"-------------------------\")\n",
    "    print(\"       |       |        \")\n",
    "    print(\"   \"+board[3]+\"   |   \"+board[4]+\"   |   \"+board[5]+\"   \")\n",
    "    print(\"       |       |        \")\n",
    "    print(\"-------------------------\")\n",
    "    print(\"       |       |        \")\n",
    "    print(\"   \"+board[6]+\"   |   \"+board[7]+\"   |   \"+board[8]+\"   \")\n",
    "    print(\"       |       |        \")"
   ]
  },
  {
   "cell_type": "code",
   "execution_count": 13,
   "id": "2fb9fc21",
   "metadata": {},
   "outputs": [],
   "source": [
    "def player1_choise():\n",
    "    \n",
    "    flag = True\n",
    "    \n",
    "    while flag:\n",
    "        \n",
    "        chosen_position = input(f\"Player1, please enter the number in {list_of_values}: \")\n",
    "        true_or_false = chosen_position.isdigit()\n",
    "        \n",
    "        if true_or_false == True: \n",
    "            \n",
    "            if int(chosen_position) not in list_of_values:\n",
    "                flag = True\n",
    "            else:\n",
    "                flag = False\n",
    "        else:\n",
    "            flag = True\n",
    "                \n",
    "    result = int(chosen_position)\n",
    "    return result"
   ]
  },
  {
   "cell_type": "code",
   "execution_count": 14,
   "id": "0fada6a2",
   "metadata": {},
   "outputs": [],
   "source": [
    "def X_or_O():\n",
    "    \n",
    "    flag = True\n",
    "    lst = ['X', 'O']\n",
    "    while flag:\n",
    "        \n",
    "        answer = input(\"Player1, enter X or O: \").upper()\n",
    "            \n",
    "        if answer in lst:\n",
    "            flag = False\n",
    "            break\n",
    "        else:\n",
    "            flag = True\n",
    "        \n",
    "    player1 = answer\n",
    "    lst.remove(answer)\n",
    "    player2 = lst[0]\n",
    "    \n",
    "    print(f\"First player is {player1}\")\n",
    "    print(f\"Second player is {player2}\")\n",
    "    \n",
    "    return player1,player2\n",
    "    "
   ]
  },
  {
   "cell_type": "code",
   "execution_count": 15,
   "id": "327da730",
   "metadata": {},
   "outputs": [],
   "source": [
    "def player2_choise():\n",
    "    \n",
    "    flag = True\n",
    "    \n",
    "    while flag:\n",
    "        \n",
    "        chosen_position = input(f\"Player2, please enter the number in {list_of_values}: \")\n",
    "        true_or_false = chosen_position.isdigit()\n",
    "        \n",
    "        if true_or_false == True: \n",
    "            \n",
    "            if int(chosen_position) not in list_of_values:\n",
    "                flag = True\n",
    "            else:\n",
    "                flag = False\n",
    "        else:\n",
    "            flag = True\n",
    "                \n",
    "    result = int(chosen_position)\n",
    "    return result"
   ]
  },
  {
   "cell_type": "code",
   "execution_count": 16,
   "id": "e7cacf0a",
   "metadata": {},
   "outputs": [],
   "source": [
    "def free_cells(tpl:tuple):\n",
    "    \n",
    "    board[tpl[0]] = tpl[1]\n",
    "    list_of_values.remove(tpl[0])\n",
    "    \n",
    "    board_displaying(board)"
   ]
  },
  {
   "cell_type": "code",
   "execution_count": 17,
   "id": "8da1367c",
   "metadata": {},
   "outputs": [],
   "source": [
    "def check_winner():\n",
    "    \n",
    "    if (board[0] == board[1] == board[2] or board[3] == board[4] == board[5] or\n",
    "            board[6] == board[7] == board[8] or board[0] == board[4] == board[8] or\n",
    "            board[2] == board[4] == board[6] or board[0] == board[3] == board[6] or\n",
    "            board[1] == board[4] == board[7] or board[2] == board[5] == board[8]):\n",
    "        print('CONGRETULATIONs')\n",
    "        return False\n",
    "    else:\n",
    "        return True"
   ]
  },
  {
   "cell_type": "code",
   "execution_count": 18,
   "id": "2230ae9d",
   "metadata": {},
   "outputs": [
    {
     "name": "stdout",
     "output_type": "stream",
     "text": [
      "       |       |        \n",
      "   0   |   1   |   2   \n",
      "       |       |        \n",
      "-------------------------\n",
      "       |       |        \n",
      "   3   |   4   |   5   \n",
      "       |       |        \n",
      "-------------------------\n",
      "       |       |        \n",
      "   6   |   7   |   8   \n",
      "       |       |        \n",
      "Player1, enter X or O: x\n",
      "First player is X\n",
      "Second player is O\n",
      "Player1, please enter the number in [0, 1, 2, 3, 4, 5, 6, 7, 8]: 1\n",
      "       |       |        \n",
      "   0   |   X   |   2   \n",
      "       |       |        \n",
      "-------------------------\n",
      "       |       |        \n",
      "   3   |   4   |   5   \n",
      "       |       |        \n",
      "-------------------------\n",
      "       |       |        \n",
      "   6   |   7   |   8   \n",
      "       |       |        \n",
      "Player2, please enter the number in [0, 2, 3, 4, 5, 6, 7, 8]: 0\n",
      "       |       |        \n",
      "   O   |   X   |   2   \n",
      "       |       |        \n",
      "-------------------------\n",
      "       |       |        \n",
      "   3   |   4   |   5   \n",
      "       |       |        \n",
      "-------------------------\n",
      "       |       |        \n",
      "   6   |   7   |   8   \n",
      "       |       |        \n",
      "Player1, please enter the number in [2, 3, 4, 5, 6, 7, 8]: 2\n",
      "       |       |        \n",
      "   O   |   X   |   X   \n",
      "       |       |        \n",
      "-------------------------\n",
      "       |       |        \n",
      "   3   |   4   |   5   \n",
      "       |       |        \n",
      "-------------------------\n",
      "       |       |        \n",
      "   6   |   7   |   8   \n",
      "       |       |        \n",
      "Player2, please enter the number in [3, 4, 5, 6, 7, 8]: 4\n",
      "       |       |        \n",
      "   O   |   X   |   X   \n",
      "       |       |        \n",
      "-------------------------\n",
      "       |       |        \n",
      "   3   |   O   |   5   \n",
      "       |       |        \n",
      "-------------------------\n",
      "       |       |        \n",
      "   6   |   7   |   8   \n",
      "       |       |        \n",
      "Player1, please enter the number in [3, 5, 6, 7, 8]: 8\n",
      "       |       |        \n",
      "   O   |   X   |   X   \n",
      "       |       |        \n",
      "-------------------------\n",
      "       |       |        \n",
      "   3   |   O   |   5   \n",
      "       |       |        \n",
      "-------------------------\n",
      "       |       |        \n",
      "   6   |   7   |   X   \n",
      "       |       |        \n",
      "Player2, please enter the number in [3, 5, 6, 7]: 5\n",
      "       |       |        \n",
      "   O   |   X   |   X   \n",
      "       |       |        \n",
      "-------------------------\n",
      "       |       |        \n",
      "   3   |   O   |   O   \n",
      "       |       |        \n",
      "-------------------------\n",
      "       |       |        \n",
      "   6   |   7   |   X   \n",
      "       |       |        \n",
      "Player1, please enter the number in [3, 6, 7]: 6\n",
      "       |       |        \n",
      "   O   |   X   |   X   \n",
      "       |       |        \n",
      "-------------------------\n",
      "       |       |        \n",
      "   3   |   O   |   O   \n",
      "       |       |        \n",
      "-------------------------\n",
      "       |       |        \n",
      "   X   |   7   |   X   \n",
      "       |       |        \n",
      "Player2, please enter the number in [3, 7]: 7\n",
      "       |       |        \n",
      "   O   |   X   |   X   \n",
      "       |       |        \n",
      "-------------------------\n",
      "       |       |        \n",
      "   3   |   O   |   O   \n",
      "       |       |        \n",
      "-------------------------\n",
      "       |       |        \n",
      "   X   |   O   |   X   \n",
      "       |       |        \n",
      "Player1, please enter the number in [3]: 3\n",
      "       |       |        \n",
      "   O   |   X   |   X   \n",
      "       |       |        \n",
      "-------------------------\n",
      "       |       |        \n",
      "   X   |   O   |   O   \n",
      "       |       |        \n",
      "-------------------------\n",
      "       |       |        \n",
      "   X   |   O   |   X   \n",
      "       |       |        \n",
      "Nobody wins!\n"
     ]
    }
   ],
   "source": [
    "list_of_values = [0,1,2,3,4,5,6,7,8]\n",
    "board = ['0','1','2','3','4','5','6','7','8']\n",
    "\n",
    "board_displaying(board)\n",
    "\n",
    "tpl = X_or_O()\n",
    "_st = tpl[0]\n",
    "_nd = tpl[1]\n",
    "\n",
    "while check_winner():\n",
    "    _ = player1_choise()\n",
    "    choise = (_, _st)\n",
    "    free_cells(choise)\n",
    "    if list_of_values == []:\n",
    "        print('Nobody wins!')\n",
    "        break\n",
    "\n",
    "    if check_winner():\n",
    "        _2 = player2_choise()\n",
    "        choise2 = (_2, _nd)\n",
    "        free_cells(choise2)\n",
    "    else:\n",
    "        break"
   ]
  },
  {
   "cell_type": "code",
   "execution_count": 1,
   "id": "86d887b4",
   "metadata": {},
   "outputs": [],
   "source": [
    "from tkinter import ttk\n",
    "from tkinter import *"
   ]
  },
  {
   "cell_type": "code",
   "execution_count": 2,
   "id": "29cae2f3",
   "metadata": {},
   "outputs": [],
   "source": [
    "root = Tk()\n",
    "content = ttk.Frame(root)\n",
    "button = ttk.Button(content)\n"
   ]
  },
  {
   "cell_type": "code",
   "execution_count": 2,
   "id": "fc048072",
   "metadata": {},
   "outputs": [],
   "source": [
    "import requests"
   ]
  },
  {
   "cell_type": "code",
   "execution_count": 15,
   "id": "7e29036f",
   "metadata": {},
   "outputs": [],
   "source": [
    "class AnotherError(ValueError):\n",
    "    pass\n",
    "\n",
    "\n",
    "class Name():\n",
    "\n",
    "    url = \"https://api.binance.com\"\n",
    "\n",
    "    def __init__(self):\n",
    "        pass\n",
    "\n",
    "    def doggy(self, endpoint: str, params=None):\n",
    "\n",
    "        response = requests.get(self.url + endpoint, params)\n",
    "\n",
    "        if response.status_code == 200:\n",
    "            return response\n",
    "        raise AnotherError(\n",
    "            f\"The Status code is {response.status_code}\"\n",
    "        )\n",
    "\n",
    "    def check_time(self):\n",
    "\n",
    "        answer = self.doggy(endpoint=\"/api/v3/time\").json()[\"serverTime\"] // 1000\n",
    "\n",
    "        return answer\n",
    "\n",
    "    def another_func(self, symbol, interval):\n",
    "        data = dict()\n",
    "        data[\"symbol\"] = symbol\n",
    "        data[\"interval\"] = interval\n",
    "        data[\"limit\"] = 1000\n",
    "\n",
    "        res = self.doggy(endpoint= \"/api/v3/klines\", params=data).json()\n",
    "        lst = []\n",
    "        for i in res:\n",
    "            lst.append([i[0], i[1], i[2]])\n",
    "        return lst"
   ]
  },
  {
   "cell_type": "code",
   "execution_count": 16,
   "id": "11626a26",
   "metadata": {},
   "outputs": [
    {
     "name": "stdout",
     "output_type": "stream",
     "text": [
      "[[1621396800000, '40591.99000000', '40846.97000000'], [1621411200000, '40354.98000000', '40888.00000000'], [1621425600000, '38700.00000000', '39295.51000000'], [1621440000000, '37310.14000000', '40442.00000000'], [1621454400000, '39337.45000000', '40200.00000000'], [1621468800000, '36671.23000000', '38599.00000000'], [1621483200000, '38340.01000000', '40780.87000000'], [1621497600000, '39959.67000000', '40690.56000000'], [1621512000000, '40476.68000000', '42451.67000000'], [1621526400000, '41432.88000000', '41450.00000000'], [1621540800000, '40116.04000000', '41900.00000000'], [1621555200000, '40525.39000000', '42200.00000000'], [1621569600000, '40662.00000000', '40800.00000000'], [1621584000000, '39842.58000000', '41230.67000000'], [1621598400000, '41124.30000000', '41789.40000000'], [1621612800000, '36803.28000000', '37825.75000000'], [1621627200000, '36062.13000000', '37447.00000000'], [1621641600000, '37263.35000000', '38100.00000000'], [1621656000000, '36947.31000000', '37219.45000000'], [1621670400000, '36266.36000000', '38827.52000000'], [1621684800000, '38157.75000000', '38829.00000000'], [1621699200000, '38161.92000000', '38600.00000000'], [1621713600000, '37286.65000000', '38400.00000000'], [1621728000000, '37458.51000000', '38270.64000000'], [1621742400000, '37421.59000000', '37421.59000000'], [1621756800000, '35927.70000000', '35930.89000000'], [1621771200000, '35386.80000000', '35800.00000000'], [1621785600000, '33316.42000000', '33900.00000000'], [1621800000000, '33047.33000000', '35000.00000000'], [1621814400000, '34681.44000000', '35889.00000000'], [1621828800000, '35250.56000000', '36887.00000000'], [1621843200000, '36645.79000000', '37922.18000000'], [1621857600000, '37600.01000000', '38637.70000000'], [1621872000000, '37539.64000000', '39787.96000000'], [1621886400000, '39606.11000000', '39920.00000000'], [1621900800000, '38810.99000000', '39791.77000000'], [1621915200000, '38306.43000000', '39200.00000000'], [1621929600000, '38993.91000000', '39110.00000000'], [1621944000000, '36537.17000000', '38481.18000000'], [1621958400000, '38277.55000000', '38299.88000000'], [1621972800000, '37292.69000000', '38753.98000000'], [1621987200000, '38324.72000000', '39693.66000000'], [1622001600000, '39503.98000000', '40755.00000000'], [1622016000000, '40445.79000000', '40841.00000000'], [1622030400000, '39850.66000000', '40289.75000000'], [1622044800000, '38758.62000000', '39350.00000000'], [1622059200000, '38476.74000000', '39450.69000000'], [1622073600000, '39241.92000000', '39243.10000000'], [1622088000000, '37623.64000000', '38407.42000000'], [1622102400000, '38275.47000000', '39888.02000000'], [1622116800000, '39690.00000000', '40411.14000000'], [1622131200000, '39666.99000000', '39721.28000000'], [1622145600000, '38768.36000000', '39187.35000000'], [1622160000000, '38529.99000000', '38877.83000000'], [1622174400000, '38237.10000000', '38237.10000000'], [1622188800000, '36975.65000000', '37250.00000000'], [1622203200000, '35351.65000000', '37279.98000000'], [1622217600000, '36751.59000000', '36845.93000000'], [1622232000000, '35789.31000000', '36240.00000000'], [1622246400000, '35661.79000000', '36774.44000000'], [1622260800000, '36458.77000000', '37338.58000000'], [1622275200000, '36145.00000000', '36350.00000000'], [1622289600000, '35375.00000000', '35402.34000000'], [1622304000000, '34416.26000000', '35049.00000000'], [1622318400000, '34025.44000000', '35100.00000000'], [1622332800000, '34605.15000000', '34974.99000000'], [1622347200000, '34770.13000000', '36232.09000000'], [1622361600000, '35996.12000000', '36420.00000000'], [1622376000000, '36359.44000000', '36488.00000000'], [1622390400000, '35477.00000000', '36284.44000000'], [1622404800000, '36077.59000000', '36350.00000000'], [1622419200000, '35641.26000000', '36000.00000000'], [1622433600000, '34489.58000000', '35975.00000000'], [1622448000000, '35850.17000000', '37195.00000000'], [1622462400000, '36836.46000000', '37278.03000000'], [1622476800000, '36961.16000000', '37457.07000000'], [1622491200000, '36865.75000000', '37499.00000000'], [1622505600000, '37253.82000000', '37894.81000000'], [1622520000000, '36706.80000000', '37443.72000000'], [1622534400000, '36831.58000000', '36939.81000000'], [1622548800000, '36596.63000000', '37440.00000000'], [1622563200000, '36235.28000000', '36492.89000000'], [1622577600000, '35973.86000000', '36800.00000000'], [1622592000000, '36694.85000000', '36900.00000000'], [1622606400000, '36472.38000000', '37400.00000000'], [1622620800000, '37219.99000000', '37538.07000000'], [1622635200000, '37203.08000000', '38225.00000000'], [1622649600000, '38040.69000000', '38200.00000000'], [1622664000000, '37884.58000000', '37929.97000000'], [1622678400000, '37568.68000000', '37903.14000000'], [1622692800000, '37635.24000000', '39039.19000000'], [1622707200000, '38634.77000000', '39476.00000000'], [1622721600000, '38781.75000000', '39265.25000000'], [1622736000000, '38535.60000000', '38997.00000000'], [1622750400000, '38596.65000000', '39450.00000000'], [1622764800000, '39246.78000000', '39289.07000000'], [1622779200000, '37933.73000000', '37939.25000000'], [1622793600000, '36606.80000000', '37028.65000000'], [1622808000000, '36585.67000000', '37139.00000000'], [1622822400000, '36948.86000000', '37248.94000000'], [1622836800000, '36801.00000000', '37246.99000000'], [1622851200000, '36829.15000000', '37846.60000000'], [1622865600000, '37410.04000000', '37925.00000000'], [1622880000000, '37582.13000000', '37850.00000000'], [1622894400000, '35869.42000000', '36435.00000000'], [1622908800000, '36321.42000000', '36324.20000000'], [1622923200000, '35777.61000000', '36016.10000000'], [1622937600000, '35516.07000000', '36257.34000000'], [1622952000000, '35988.56000000', '36480.00000000'], [1622966400000, '36132.52000000', '36414.55000000'], [1622980800000, '35868.12000000', '36429.28000000'], [1622995200000, '36157.47000000', '36317.81000000'], [1623009600000, '35747.14000000', '35995.28000000'], [1623024000000, '35796.31000000', '36900.00000000'], [1623038400000, '36392.94000000', '36545.01000000'], [1623052800000, '36139.99000000', '36591.72000000'], [1623067200000, '36376.47000000', '36777.47000000'], [1623081600000, '36035.35000000', '36079.63000000'], [1623096000000, '35634.45000000', '35744.52000000'], [1623110400000, '33556.96000000', '34068.01000000'], [1623124800000, '32817.09000000', '33246.09000000'], [1623139200000, '32966.70000000', '33373.01000000'], [1623153600000, '33084.43000000', '33179.23000000'], [1623168000000, '31705.25000000', '32999.35000000'], [1623182400000, '32864.19000000', '33841.98000000'], [1623196800000, '33380.80000000', '33540.47000000'], [1623211200000, '32862.25000000', '34512.95000000'], [1623225600000, '34168.11000000', '35045.55000000'], [1623240000000, '34972.42000000', '36736.00000000'], [1623254400000, '36356.42000000', '37000.00000000'], [1623268800000, '36260.45000000', '37534.79000000'], [1623283200000, '37388.05000000', '37666.11000000'], [1623297600000, '36959.70000000', '37220.99000000'], [1623312000000, '36962.12000000', '38491.00000000'], [1623326400000, '37819.27000000', '38198.23000000'], [1623340800000, '36896.65000000', '37150.00000000'], [1623355200000, '36675.10000000', '37088.00000000'], [1623369600000, '36677.83000000', '37300.00000000'], [1623384000000, '36754.41000000', '37435.00000000'], [1623398400000, '37147.56000000', '37680.40000000'], [1623412800000, '37378.82000000', '37589.00000000'], [1623427200000, '36818.42000000', '37419.01000000'], [1623441600000, '37246.76000000', '37498.58000000'], [1623456000000, '37331.98000000', '37463.63000000'], [1623470400000, '35572.84000000', '35726.68000000'], [1623484800000, '35289.06000000', '35900.00000000'], [1623499200000, '35597.50000000', '36238.00000000'], [1623513600000, '35384.96000000', '35997.67000000'], [1623528000000, '35730.01000000', '36143.93000000'], [1623542400000, '35546.12000000', '35926.96000000'], [1623556800000, '34867.81000000', '35499.86000000'], [1623571200000, '35282.02000000', '36099.00000000'], [1623585600000, '35904.02000000', '36150.00000000'], [1623600000000, '36034.96000000', '37750.14000000'], [1623614400000, '37650.00000000', '39380.00000000'], [1623628800000, '39020.56000000', '39800.00000000'], [1623643200000, '38975.14000000', '39700.00000000'], [1623657600000, '39555.25000000', '39629.01000000'], [1623672000000, '39166.33000000', '41064.05000000'], [1623686400000, '40685.37000000', '40740.03000000'], [1623700800000, '39716.06000000', '40605.87000000'], [1623715200000, '40516.28000000', '40900.00000000'], [1623729600000, '40403.13000000', '40580.00000000'], [1623744000000, '40367.41000000', '40400.00000000'], [1623758400000, '39839.90000000', '40450.00000000'], [1623772800000, '40065.01000000', '41330.00000000'], [1623787200000, '39957.76000000', '40365.27000000'], [1623801600000, '40143.80000000', '40181.95000000'], [1623816000000, '40013.64000000', '40527.14000000'], [1623830400000, '40126.87000000', '40260.14000000'], [1623844800000, '39080.01000000', '39504.99000000'], [1623859200000, '38775.66000000', '39735.52000000'], [1623873600000, '38680.10000000', '38925.00000000'], [1623888000000, '38349.00000000', '38978.75000000'], [1623902400000, '38865.05000000', '39400.00000000'], [1623916800000, '39208.67000000', '39559.88000000'], [1623931200000, '39148.26000000', '39195.90000000'], [1623945600000, '39008.01000000', '39111.56000000'], [1623960000000, '37702.53000000', '38258.00000000'], [1623974400000, '38092.97000000', '38202.84000000'], [1623988800000, '37926.78000000', '38148.11000000'], [1624003200000, '37715.04000000', '38029.99000000'], [1624017600000, '37818.57000000', '37948.55000000'], [1624032000000, '36355.97000000', '36818.44000000'], [1624046400000, '35323.65000000', '35928.39000000'], [1624060800000, '35820.48000000', '36297.30000000'], [1624075200000, '35103.44000000', '35873.90000000'], [1624089600000, '35785.95000000', '35995.00000000'], [1624104000000, '35940.22000000', '36457.00000000'], [1624118400000, '36114.85000000', '36210.00000000'], [1624132800000, '35943.65000000', '36200.00000000'], [1624147200000, '35483.72000000', '35800.00000000'], [1624161600000, '35527.25000000', '35922.00000000'], [1624176000000, '35637.72000000', '35693.88000000'], [1624190400000, '33870.56000000', '34666.00000000'], [1624204800000, '34422.11000000', '35700.92000000'], [1624219200000, '35502.83000000', '36137.72000000'], [1624233600000, '35600.17000000', '35750.00000000'], [1624248000000, '34651.86000000', '34725.82000000'], [1624262400000, '33025.50000000', '33577.12000000'], [1624276800000, '32530.68000000', '33222.22000000'], [1624291200000, '32685.84000000', '33000.00000000'], [1624305600000, '32563.89000000', '32800.00000000'], [1624320000000, '31614.12000000', '33260.00000000'], [1624334400000, '33018.21000000', '33109.81000000'], [1624348800000, '32647.96000000', '32658.63000000'], [1624363200000, '31236.53000000', '31980.00000000'], [1624377600000, '31707.56000000', '33298.78000000'], [1624392000000, '32404.06000000', '32987.00000000'], [1624406400000, '32509.56000000', '34444.00000000'], [1624420800000, '33969.69000000', '34392.10000000'], [1624435200000, '33982.26000000', '34500.00000000'], [1624449600000, '33911.40000000', '34881.00000000'], [1624464000000, '33490.14000000', '33947.17000000'], [1624478400000, '32882.50000000', '33785.26000000'], [1624492800000, '33675.07000000', '33879.99000000'], [1624507200000, '32589.20000000', '33280.55000000'], [1624521600000, '32853.74000000', '33930.23000000'], [1624536000000, '33850.78000000', '34583.58000000'], [1624550400000, '33888.81000000', '35298.00000000'], [1624564800000, '34854.63000000', '34999.09000000'], [1624579200000, '34663.08000000', '35500.00000000'], [1624593600000, '35057.70000000', '35100.00000000'], [1624608000000, '34281.37000000', '34480.00000000'], [1624622400000, '33311.96000000', '33600.77000000'], [1624636800000, '32607.07000000', '32910.64000000'], [1624651200000, '32222.91000000', '32369.00000000'], [1624665600000, '31576.09000000', '32268.91000000'], [1624680000000, '31979.71000000', '32730.00000000'], [1624694400000, '30713.54000000', '31883.60000000'], [1624708800000, '31777.90000000', '31985.00000000'], [1624723200000, '31526.88000000', '31910.00000000'], [1624737600000, '31573.97000000', '32300.24000000'], [1624752000000, '32283.65000000', '33200.00000000'], [1624766400000, '33146.91000000', '33499.00000000'], [1624780800000, '33291.81000000', '33451.00000000'], [1624795200000, '33246.56000000', '33574.32000000'], [1624809600000, '33200.06000000', '33400.00000000'], [1624824000000, '32815.18000000', '34749.00000000'], [1624838400000, '34702.49000000', '34972.28000000'], [1624852800000, '34395.03000000', '35297.71000000'], [1624867200000, '35028.69000000', '35172.21000000'], [1624881600000, '34107.20000000', '35000.00000000'], [1624896000000, '34969.98000000', '35030.92000000'], [1624910400000, '34441.77000000', '34819.00000000'], [1624924800000, '34494.89000000', '35169.56000000'], [1624939200000, '34577.09000000', '35448.00000000'], [1624953600000, '34849.20000000', '35768.90000000'], [1624968000000, '35555.64000000', '36428.00000000'], [1624982400000, '36248.99000000', '36600.00000000'], [1624996800000, '36382.39000000', '36488.70000000'], [1625011200000, '35911.72000000', '36100.00000000'], [1625025600000, '35119.99000000', '35290.97000000'], [1625040000000, '35250.54000000', '35333.33000000'], [1625054400000, '34849.99000000', '35010.85000000'], [1625068800000, '34193.44000000', '34899.00000000'], [1625083200000, '34743.56000000', '35194.04000000'], [1625097600000, '35045.00000000', '35057.57000000'], [1625112000000, '34120.01000000', '34467.09000000'], [1625126400000, '33350.00000000', '33749.00000000'], [1625140800000, '33717.52000000', '33917.93000000'], [1625155200000, '33432.54000000', '33654.49000000'], [1625169600000, '33091.48000000', '33649.00000000'], [1625184000000, '33502.33000000', '33977.04000000'], [1625198400000, '32907.22000000', '33500.36000000'], [1625212800000, '33358.32000000', '33620.00000000'], [1625227200000, '33023.35000000', '33724.34000000'], [1625241600000, '33704.90000000', '33795.16000000'], [1625256000000, '33327.71000000', '33898.95000000'], [1625270400000, '33786.54000000', '33914.60000000'], [1625284800000, '33524.48000000', '34663.48000000'], [1625299200000, '34499.53000000', '34780.00000000'], [1625313600000, '34608.04000000', '34816.50000000'], [1625328000000, '34608.48000000', '34945.61000000'], [1625342400000, '34745.99000000', '34914.76000000'], [1625356800000, '34669.12000000', '34771.64000000'], [1625371200000, '34641.62000000', '35727.00000000'], [1625385600000, '35603.02000000', '35687.18000000'], [1625400000000, '35512.34000000', '35572.72000000'], [1625414400000, '35513.28000000', '35687.54000000'], [1625428800000, '35575.01000000', '35967.85000000'], [1625443200000, '35288.13000000', '35293.78000000'], [1625457600000, '34351.25000000', '34415.64000000'], [1625472000000, '34257.37000000', '34558.99000000'], [1625486400000, '33379.96000000', '33777.00000000'], [1625500800000, '33585.89000000', '34274.33000000'], [1625515200000, '34117.98000000', '34210.00000000'], [1625529600000, '33690.15000000', '34169.10000000'], [1625544000000, '33920.69000000', '34959.73000000'], [1625558400000, '34874.85000000', '35118.88000000'], [1625572800000, '34067.31000000', '34516.38000000'], [1625587200000, '34042.44000000', '34190.00000000'], [1625601600000, '34019.99000000', '34323.77000000'], [1625616000000, '34220.02000000', '34530.00000000'], [1625630400000, '34445.55000000', '34919.28000000'], [1625644800000, '34710.40000000', '34989.00000000'], [1625659200000, '34827.97000000', '35059.09000000'], [1625673600000, '34528.60000000', '34784.00000000'], [1625688000000, '34628.71000000', '34628.71000000'], [1625702400000, '33862.11000000', '33929.64000000'], [1625716800000, '33305.66000000', '33512.53000000'], [1625731200000, '32487.56000000', '32748.88000000'], [1625745600000, '32696.43000000', '32988.87000000'], [1625760000000, '32900.05000000', '33177.06000000'], [1625774400000, '33002.45000000', '33067.09000000'], [1625788800000, '32875.71000000', '33100.00000000'], [1625803200000, '32941.81000000', '33310.00000000'], [1625817600000, '32902.13000000', '33065.00000000'], [1625832000000, '32774.99000000', '33682.43000000'], [1625846400000, '33558.81000000', '33696.40000000'], [1625860800000, '33445.31000000', '34100.00000000'], [1625875200000, '33815.81000000', '34262.00000000'], [1625889600000, '33800.04000000', '33909.67000000'], [1625904000000, '33766.01000000', '33950.00000000'], [1625918400000, '33793.95000000', '33943.40000000'], [1625932800000, '33862.55000000', '34192.00000000'], [1625947200000, '33411.41000000', '33698.99000000'], [1625961600000, '33502.87000000', '33817.83000000'], [1625976000000, '33448.97000000', '33642.74000000'], [1625990400000, '33508.82000000', '33870.00000000'], [1626004800000, '33814.82000000', '33994.69000000'], [1626019200000, '33948.68000000', '34123.08000000'], [1626033600000, '33894.57000000', '34666.00000000'], [1626048000000, '34259.00000000', '34537.39000000'], [1626062400000, '34447.92000000', '34678.43000000'], [1626076800000, '34281.74000000', '34488.27000000'], [1626091200000, '33530.00000000', '33636.92000000'], [1626105600000, '33337.49000000', '33441.00000000'], [1626120000000, '32822.85000000', '33284.99000000'], [1626134400000, '33086.94000000', '33229.00000000'], [1626148800000, '33071.13000000', '33333.33000000'], [1626163200000, '33180.11000000', '33340.00000000'], [1626177600000, '33042.61000000', '33049.00000000'], [1626192000000, '32791.71000000', '32956.26000000'], [1626206400000, '32309.69000000', '32750.00000000'], [1626220800000, '32729.12000000', '32807.41000000'], [1626235200000, '31830.01000000', '32015.98000000'], [1626249600000, '31920.01000000', '32707.27000000'], [1626264000000, '32450.95000000', '32959.21000000'], [1626278400000, '32786.01000000', '33114.03000000'], [1626292800000, '32729.77000000', '33063.82000000'], [1626307200000, '32820.03000000', '33185.25000000'], [1626321600000, '32641.66000000', '32691.42000000'], [1626336000000, '32468.30000000', '32620.31000000'], [1626350400000, '31880.50000000', '32152.97000000'], [1626364800000, '31678.50000000', '31800.00000000'], [1626379200000, '31538.92000000', '31898.00000000'], [1626393600000, '31874.49000000', '32049.45000000'], [1626408000000, '31914.90000000', '32020.00000000'], [1626422400000, '31779.98000000', '31779.99000000'], [1626436800000, '31086.52000000', '32212.52000000'], [1626451200000, '32127.40000000', '32249.18000000'], [1626465600000, '31911.34000000', '31987.00000000'], [1626480000000, '31383.86000000', '31642.64000000'], [1626494400000, '31306.57000000', '31590.94000000'], [1626508800000, '31513.64000000', '31955.92000000'], [1626523200000, '31391.34000000', '31772.02000000'], [1626537600000, '31763.98000000', '31920.00000000'], [1626552000000, '31834.33000000', '31898.50000000'], [1626566400000, '31520.07000000', '32435.00000000'], [1626580800000, '32166.00000000', '32190.45000000'], [1626595200000, '31712.10000000', '31868.53000000'], [1626609600000, '31801.79000000', '31849.54000000'], [1626624000000, '31365.60000000', '31763.11000000'], [1626638400000, '31642.91000000', '31943.00000000'], [1626652800000, '31778.57000000', '31861.79000000'], [1626667200000, '31541.58000000', '31899.00000000'], [1626681600000, '31604.32000000', '31669.73000000'], [1626696000000, '31267.84000000', '31375.00000000'], [1626710400000, '30687.84000000', '30857.61000000'], [1626724800000, '30744.84000000', '30984.40000000'], [1626739200000, '30839.65000000', '31063.07000000'], [1626753600000, '29600.46000000', '29938.71000000'], [1626768000000, '29821.72000000', '29888.18000000'], [1626782400000, '29693.63000000', '29988.00000000'], [1626796800000, '29890.80000000', '29984.82000000'], [1626811200000, '29780.87000000', '29994.41000000'], [1626825600000, '29790.34000000', '29910.00000000'], [1626840000000, '29845.11000000', '30942.42000000'], [1626854400000, '30817.84000000', '31655.00000000'], [1626868800000, '31534.12000000', '31969.99000000'], [1626883200000, '31934.54000000', '32858.00000000'], [1626897600000, '31627.58000000', '32247.63000000'], [1626912000000, '32144.51000000', '32376.78000000'], [1626926400000, '31929.64000000', '32344.90000000'], [1626940800000, '32129.74000000', '32259.00000000'], [1626955200000, '31913.64000000', '32584.06000000'], [1626969600000, '32504.83000000', '32591.35000000'], [1626984000000, '32376.93000000', '32487.19000000'], [1626998400000, '32287.58000000', '32799.00000000'], [1627012800000, '32592.21000000', '32915.00000000'], [1627027200000, '32489.99000000', '32540.20000000'], [1627041600000, '32296.51000000', '32599.86000000'], [1627056000000, '32314.99000000', '32334.68000000'], [1627070400000, '32248.64000000', '33650.00000000'], [1627084800000, '33634.10000000', '33780.23000000'], [1627099200000, '33669.98000000', '33934.25000000'], [1627113600000, '33806.49000000', '34065.71000000'], [1627128000000, '33867.00000000', '34047.86000000'], [1627142400000, '33847.51000000', '34500.00000000'], [1627156800000, '33846.16000000', '34283.42000000'], [1627171200000, '34261.51000000', '34436.44000000'], [1627185600000, '34160.85000000', '34785.33000000'], [1627200000000, '34695.51000000', '34800.00000000'], [1627214400000, '34399.04000000', '34434.06000000'], [1627228800000, '34174.08000000', '34600.00000000'], [1627243200000, '34353.24000000', '35398.00000000'], [1627257600000, '35381.02000000', '39799.97000000'], [1627272000000, '38283.97000000', '39265.17000000'], [1627286400000, '38149.99000000', '38738.51000000'], [1627300800000, '38473.61000000', '38880.00000000'], [1627315200000, '38562.21000000', '40550.00000000'], [1627329600000, '39361.36000000', '39510.96000000'], [1627344000000, '37241.33000000', '37523.75000000'], [1627358400000, '36823.81000000', '37325.71000000'], [1627372800000, '37115.10000000', '38069.32000000'], [1627387200000, '38064.87000000', '38771.91000000'], [1627401600000, '38209.58000000', '38315.81000000'], [1627416000000, '37800.49000000', '39542.61000000'], [1627430400000, '39456.61000000', '40350.00000000'], [1627444800000, '39817.56000000', '40183.67000000'], [1627459200000, '39897.97000000', '40900.00000000'], [1627473600000, '40750.84000000', '40871.59000000'], [1627488000000, '39689.04000000', '40680.07000000'], [1627502400000, '40388.61000000', '40388.61000000'], [1627516800000, '40019.57000000', '40278.48000000'], [1627531200000, '39609.78000000', '40270.53000000'], [1627545600000, '39935.00000000', '40640.00000000'], [1627560000000, '39769.99000000', '40143.74000000'], [1627574400000, '39939.32000000', '40177.00000000'], [1627588800000, '39659.84000000', '40419.30000000'], [1627603200000, '40018.49000000', '40250.00000000'], [1627617600000, '39969.99000000', '40030.00000000'], [1627632000000, '39726.00000000', '39763.14000000'], [1627646400000, '38650.00000000', '39161.97000000'], [1627660800000, '39072.65000000', '39871.45000000'], [1627675200000, '39860.64000000', '42316.71000000'], [1627689600000, '42206.36000000', '42448.00000000'], [1627704000000, '41810.00000000', '41876.34000000'], [1627718400000, '41540.31000000', '41980.00000000'], [1627732800000, '41592.14000000', '41746.64000000'], [1627747200000, '41535.71000000', '41625.71000000'], [1627761600000, '41303.64000000', '41984.73000000'], [1627776000000, '41461.84000000', '42599.00000000'], [1627790400000, '42430.41000000', '42441.26000000'], [1627804800000, '41701.25000000', '41948.00000000'], [1627819200000, '41587.00000000', '41810.00000000'], [1627833600000, '41286.99000000', '41489.07000000'], [1627848000000, '41263.34000000', '41500.00000000'], [1627862400000, '39850.27000000', '40099.36000000'], [1627876800000, '39785.60000000', '40480.01000000'], [1627891200000, '40104.45000000', '40171.87000000'], [1627905600000, '39542.43000000', '39818.18000000'], [1627920000000, '39705.12000000', '39975.96000000'], [1627934400000, '39177.85000000', '39545.24000000'], [1627948800000, '39146.86000000', '39780.00000000'], [1627963200000, '38658.48000000', '38828.59000000'], [1627977600000, '38593.43000000', '38809.00000000'], [1627992000000, '38490.02000000', '38703.00000000'], [1628006400000, '38169.45000000', '38550.24000000'], [1628020800000, '38008.80000000', '38643.00000000'], [1628035200000, '38207.04000000', '38566.82000000'], [1628049600000, '37976.82000000', '38213.99000000'], [1628064000000, '37828.84000000', '38260.00000000'], [1628078400000, '38160.06000000', '39472.47000000'], [1628092800000, '39302.00000000', '39850.00000000'], [1628107200000, '39752.17000000', '39969.66000000'], [1628121600000, '39723.17000000', '39849.61000000'], [1628136000000, '39438.06000000', '39530.60000000'], [1628150400000, '38870.58000000', '38958.64000000'], [1628164800000, '38008.45000000', '39370.00000000'], [1628179200000, '38750.00000000', '41350.00000000'], [1628193600000, '40692.24000000', '41290.01000000'], [1628208000000, '40862.46000000', '41015.99000000'], [1628222400000, '40219.47000000', '41199.99000000'], [1628236800000, '40731.00000000', '41120.00000000'], [1628251200000, '40507.56000000', '42455.73000000'], [1628265600000, '42199.97000000', '43392.43000000'], [1628280000000, '42901.18000000', '42967.68000000'], [1628294400000, '42836.87000000', '43770.03000000'], [1628308800000, '43691.95000000', '43930.40000000'], [1628323200000, '43207.89000000', '43989.49000000'], [1628337600000, '43800.03000000', '44555.00000000'], [1628352000000, '43370.23000000', '44059.21000000'], [1628366400000, '43931.41000000', '44700.00000000'], [1628380800000, '44572.54000000', '44776.00000000'], [1628395200000, '44322.42000000', '45310.00000000'], [1628409600000, '44804.51000000', '45014.45000000'], [1628424000000, '44452.05000000', '45198.27000000'], [1628438400000, '43988.88000000', '44391.35000000'], [1628452800000, '43715.10000000', '44581.00000000'], [1628467200000, '43794.36000000', '43960.84000000'], [1628481600000, '43496.09000000', '43845.39000000'], [1628496000000, '43800.74000000', '46048.50000000'], [1628510400000, '45930.01000000', '46250.00000000'], [1628524800000, '45870.76000000', '46454.15000000'], [1628539200000, '45981.05000000', '46412.99000000'], [1628553600000, '46248.87000000', '46700.00000000'], [1628568000000, '45707.12000000', '46023.92000000'], [1628582400000, '45948.00000000', '46171.42000000'], [1628596800000, '45345.05000000', '46097.99000000'], [1628611200000, '45161.75000000', '45565.18000000'], [1628625600000, '45495.73000000', '45906.54000000'], [1628640000000, '45585.00000000', '45996.77000000'], [1628654400000, '45585.66000000', '46433.67000000'], [1628668800000, '46349.26000000', '46571.42000000'], [1628683200000, '45922.33000000', '46743.47000000'], [1628697600000, '46456.91000000', '46607.94000000'], [1628712000000, '46448.01000000', '46680.00000000'], [1628726400000, '45510.67000000', '46218.12000000'], [1628740800000, '45927.00000000', '46016.57000000'], [1628755200000, '45243.61000000', '45662.74000000'], [1628769600000, '44752.56000000', '44968.29000000'], [1628784000000, '44196.19000000', '44512.20000000'], [1628798400000, '44371.80000000', '44549.99000000'], [1628812800000, '44400.06000000', '44922.00000000'], [1628827200000, '44847.27000000', '46336.00000000'], [1628841600000, '46103.50000000', '46537.15000000'], [1628856000000, '46138.46000000', '46666.00000000'], [1628870400000, '46357.15000000', '46630.00000000'], [1628884800000, '46459.86000000', '47886.00000000'], [1628899200000, '47799.99000000', '47834.12000000'], [1628913600000, '47540.00000000', '47722.98000000'], [1628928000000, '47616.12000000', '48144.00000000'], [1628942400000, '46570.54000000', '46950.00000000'], [1628956800000, '46944.47000000', '47374.67000000'], [1628971200000, '47033.77000000', '47213.88000000'], [1628985600000, '47068.50000000', '47372.27000000'], [1629000000000, '46877.72000000', '46888.00000000'], [1629014400000, '45738.34000000', '46167.26000000'], [1629028800000, '45923.57000000', '46498.89000000'], [1629043200000, '46173.49000000', '46428.21000000'], [1629057600000, '46337.77000000', '47299.15000000'], [1629072000000, '46973.82000000', '48053.83000000'], [1629086400000, '47357.62000000', '47719.30000000'], [1629100800000, '47309.85000000', '47661.38000000'], [1629115200000, '47516.95000000', '47709.12000000'], [1629129600000, '46344.03000000', '46666.00000000'], [1629144000000, '46092.98000000', '46337.62000000'], [1629158400000, '45901.30000000', '46620.00000000'], [1629172800000, '46417.00000000', '46600.00000000'], [1629187200000, '45947.49000000', '47160.00000000'], [1629201600000, '46845.15000000', '47082.60000000'], [1629216000000, '45730.00000000', '46222.40000000'], [1629230400000, '45465.01000000', '45543.44000000'], [1629244800000, '44695.95000000', '45135.40000000'], [1629259200000, '45055.78000000', '45500.00000000'], [1629273600000, '44951.31000000', '45560.00000000'], [1629288000000, '44746.60000000', '45833.00000000'], [1629302400000, '45820.00000000', '46000.00000000'], [1629316800000, '44901.11000000', '45192.89000000'], [1629331200000, '44699.37000000', '45234.56000000'], [1629345600000, '44046.97000000', '44660.90000000'], [1629360000000, '44660.01000000', '45000.00000000'], [1629374400000, '44215.24000000', '45800.00000000'], [1629388800000, '45779.59000000', '46757.01000000'], [1629403200000, '46710.00000000', '47033.00000000'], [1629417600000, '46760.62000000', '47390.00000000'], [1629432000000, '47054.75000000', '47246.39000000'], [1629446400000, '46833.48000000', '47357.67000000'], [1629460800000, '46922.34000000', '48720.29000000'], [1629475200000, '48718.38000000', '49096.34000000'], [1629489600000, '48684.16000000', '49382.99000000'], [1629504000000, '49322.47000000', '49357.62000000'], [1629518400000, '48828.17000000', '48990.00000000'], [1629532800000, '48944.22000000', '49400.00000000'], [1629547200000, '48501.88000000', '49405.52000000'], [1629561600000, '49180.98000000', '49757.04000000'], [1629576000000, '48978.68000000', '49390.00000000'], [1629590400000, '48821.88000000', '49162.51000000'], [1629604800000, '48790.00000000', '49272.70000000'], [1629619200000, '49195.01000000', '49500.00000000'], [1629633600000, '49132.04000000', '49210.93000000'], [1629648000000, '48526.62000000', '48835.83000000'], [1629662400000, '48647.84000000', '49489.73000000'], [1629676800000, '49239.22000000', '50350.00000000'], [1629691200000, '50260.00000000', '50399.00000000'], [1629705600000, '50130.05000000', '50500.00000000'], [1629720000000, '50394.85000000', '50459.93000000'], [1629734400000, '49536.85000000', '49799.55000000'], [1629748800000, '49240.01000000', '49739.37000000'], [1629763200000, '49488.85000000', '49687.49000000'], [1629777600000, '49331.17000000', '49860.00000000'], [1629792000000, '49770.13000000', '49846.00000000'], [1629806400000, '49430.00000000', '49455.92000000'], [1629820800000, '48310.73000000', '48422.12000000'], [1629835200000, '48243.20000000', '48404.19000000'], [1629849600000, '47674.01000000', '48290.20000000'], [1629864000000, '47975.93000000', '48603.84000000'], [1629878400000, '48144.58000000', '48169.43000000'], [1629892800000, '47570.01000000', '48900.00000000'], [1629907200000, '48817.41000000', '49172.58000000'], [1629921600000, '48652.13000000', '49264.30000000'], [1629936000000, '48973.32000000', '49352.84000000'], [1629950400000, '47911.80000000', '48055.55000000'], [1629964800000, '46891.75000000', '47206.46000000'], [1629979200000, '46835.90000000', '47431.17000000'], [1629993600000, '46800.00000000', '47123.65000000'], [1630008000000, '46934.22000000', '47439.00000000'], [1630022400000, '46843.86000000', '47665.48000000'], [1630036800000, '46822.24000000', '47546.18000000'], [1630051200000, '47479.77000000', '47794.96000000'], [1630065600000, '47453.82000000', '48451.51000000'], [1630080000000, '48184.66000000', '48546.42000000'], [1630094400000, '48293.68000000', '49149.93000000'], [1630108800000, '49069.90000000', '49299.00000000'], [1630123200000, '48853.00000000', '49079.84000000'], [1630137600000, '48949.03000000', '49072.07000000'], [1630152000000, '48670.48000000', '49200.00000000'], [1630166400000, '48811.12000000', '49172.31000000'], [1630180800000, '48651.94000000', '48975.16000000'], [1630195200000, '48895.35000000', '49632.27000000'], [1630209600000, '48223.59000000', '48600.00000000'], [1630224000000, '48480.11000000', '48650.84000000'], [1630238400000, '48159.98000000', '48561.46000000'], [1630252800000, '48474.96000000', '48877.88000000'], [1630267200000, '48799.28000000', '49385.42000000'], [1630281600000, '48767.84000000', '48888.61000000'], [1630296000000, '47964.02000000', '48139.63000000'], [1630310400000, '47933.16000000', '48200.00000000'], [1630324800000, '47902.76000000', '48089.30000000'], [1630339200000, '48012.78000000', '48620.00000000'], [1630353600000, '48619.99000000', '48696.87000000'], [1630368000000, '46982.91000000', '47220.97000000'], [1630382400000, '47150.68000000', '47900.00000000'], [1630396800000, '47761.26000000', '48072.92000000'], [1630411200000, '47969.51000000', '48246.11000000'], [1630425600000, '47397.13000000', '47568.85000000'], [1630440000000, '47300.00000000', '47345.00000000'], [1630454400000, '47100.89000000', '47321.42000000'], [1630468800000, '47043.65000000', '47473.28000000'], [1630483200000, '47171.00000000', '47770.00000000'], [1630497600000, '47713.30000000', '47836.69000000'], [1630512000000, '47488.50000000', '49156.00000000'], [1630526400000, '48147.25000000', '48873.89000000'], [1630540800000, '48810.51000000', '49870.00000000'], [1630555200000, '49557.88000000', '50450.00000000'], [1630569600000, '49846.27000000', '50199.00000000'], [1630584000000, '50072.61000000', '50450.13000000'], [1630598400000, '49540.70000000', '49744.83000000'], [1630612800000, '49340.06000000', '49841.41000000'], [1630627200000, '49246.63000000', '49500.00000000'], [1630641600000, '49476.83000000', '49755.00000000'], [1630656000000, '49305.10000000', '50485.00000000'], [1630670400000, '50168.55000000', '51000.00000000'], [1630684800000, '50550.45000000', '50720.00000000'], [1630699200000, '50528.50000000', '50534.32000000'], [1630713600000, '49998.00000000', '50350.47000000'], [1630728000000, '50282.19000000', '50463.08000000'], [1630742400000, '50187.30000000', '50535.69000000'], [1630756800000, '49902.94000000', '50317.05000000'], [1630771200000, '49873.52000000', '50043.49000000'], [1630785600000, '49974.83000000', '50262.95000000'], [1630800000000, '49917.54000000', '50299.31000000'], [1630814400000, '49663.22000000', '50040.01000000'], [1630828800000, '49857.14000000', '50390.01000000'], [1630843200000, '50198.78000000', '50494.11000000'], [1630857600000, '50214.95000000', '50875.08000000'], [1630872000000, '50684.56000000', '51900.00000000'], [1630886400000, '51756.88000000', '51943.28000000'], [1630900800000, '51595.29000000', '51994.37000000'], [1630915200000, '51796.18000000', '52188.80000000'], [1630929600000, '51400.68000000', '51721.94000000'], [1630944000000, '51604.45000000', '52032.74000000'], [1630958400000, '51715.40000000', '52780.00000000'], [1630972800000, '52666.20000000', '52920.00000000'], [1630987200000, '52654.16000000', '52731.00000000'], [1631001600000, '52344.08000000', '52366.46000000'], [1631016000000, '50943.75000000', '51124.91000000'], [1631030400000, '46656.07000000', '47544.93000000'], [1631044800000, '46691.58000000', '47186.30000000'], [1631059200000, '46868.57000000', '47340.99000000'], [1631073600000, '46450.40000000', '46825.50000000'], [1631088000000, '45075.72000000', '46780.00000000'], [1631102400000, '46394.82000000', '46900.00000000'], [1631116800000, '46082.90000000', '46530.00000000'], [1631131200000, '46436.31000000', '46779.00000000'], [1631145600000, '46048.31000000', '46374.23000000'], [1631160000000, '46001.16000000', '46358.40000000'], [1631174400000, '46275.01000000', '46560.00000000'], [1631188800000, '46293.15000000', '47240.68000000'], [1631203200000, '47001.65000000', '47399.97000000'], [1631217600000, '46567.20000000', '46646.56000000'], [1631232000000, '46395.14000000', '47033.00000000'], [1631246400000, '46719.71000000', '46817.99000000'], [1631260800000, '46160.55000000', '46390.00000000'], [1631275200000, '46331.85000000', '46494.99000000'], [1631289600000, '45420.86000000', '45819.93000000'], [1631304000000, '45649.78000000', '45831.00000000'], [1631318400000, '44842.20000000', '45498.27000000'], [1631332800000, '45191.89000000', '45469.85000000'], [1631347200000, '45043.97000000', '45727.49000000'], [1631361600000, '45555.68000000', '45796.93000000'], [1631376000000, '45573.99000000', '45987.93000000'], [1631390400000, '45360.57000000', '45450.00000000'], [1631404800000, '45173.68000000', '45343.60000000'], [1631419200000, '45316.27000000', '45500.00000000'], [1631433600000, '45357.03000000', '46200.00000000'], [1631448000000, '46085.91000000', '46270.56000000'], [1631462400000, '45890.61000000', '46146.89000000'], [1631476800000, '45902.87000000', '46460.00000000'], [1631491200000, '46025.23000000', '46285.71000000'], [1631505600000, '44614.68000000', '44974.19000000'], [1631520000000, '44470.62000000', '44915.00000000'], [1631534400000, '44859.24000000', '46880.00000000'], [1631548800000, '44361.97000000', '44813.55000000'], [1631563200000, '44741.66000000', '45500.00000000'], [1631577600000, '44940.72000000', '45363.93000000'], [1631592000000, '45186.85000000', '45881.60000000'], [1631606400000, '45720.03000000', '46178.43000000'], [1631620800000, '45973.79000000', '46950.00000000'], [1631635200000, '46754.43000000', '46888.88000000'], [1631649600000, '46474.89000000', '47250.00000000'], [1631664000000, '47103.28000000', '47470.00000000'], [1631678400000, '47075.47000000', '47221.54000000'], [1631692800000, '47172.84000000', '47699.00000000'], [1631707200000, '47560.74000000', '48370.31000000'], [1631721600000, '48287.99000000', '48429.87000000'], [1631736000000, '48075.44000000', '48500.00000000'], [1631750400000, '48121.40000000', '48192.06000000'], [1631764800000, '47615.07000000', '48557.00000000'], [1631779200000, '48343.52000000', '48356.01000000'], [1631793600000, '47895.01000000', '48226.38000000'], [1631808000000, '48020.24000000', '48166.66000000'], [1631822400000, '47430.00000000', '47942.41000000'], [1631836800000, '47737.81000000', '48094.26000000'], [1631851200000, '47899.83000000', '48150.00000000'], [1631865600000, '47719.73000000', '47989.20000000'], [1631880000000, '47403.56000000', '47656.35000000'], [1631894400000, '47527.52000000', '47730.00000000'], [1631908800000, '47501.68000000', '47578.94000000'], [1631923200000, '47299.98000000', '47987.49000000'], [1631937600000, '47924.57000000', '48843.20000000'], [1631952000000, '48622.01000000', '48824.54000000'], [1631966400000, '48367.16000000', '48680.00000000'], [1631980800000, '48414.99000000', '48518.99000000'], [1631995200000, '48266.00000000', '48369.37000000'], [1632009600000, '48292.75000000', '48372.83000000'], [1632024000000, '47844.88000000', '48218.97000000'], [1632038400000, '48157.70000000', '48333.00000000'], [1632052800000, '47327.73000000', '47770.00000000'], [1632067200000, '47646.71000000', '47785.00000000'], [1632081600000, '47376.72000000', '47666.01000000'], [1632096000000, '47241.75000000', '47347.25000000'], [1632110400000, '45542.75000000', '45836.85000000'], [1632124800000, '44830.01000000', '45295.00000000'], [1632139200000, '43734.00000000', '44135.00000000'], [1632153600000, '43844.88000000', '44250.00000000'], [1632168000000, '43850.26000000', '43968.67000000'], [1632182400000, '43016.64000000', '43111.00000000'], [1632196800000, '42683.02000000', '43340.00000000'], [1632211200000, '43301.08000000', '43639.00000000'], [1632225600000, '43288.97000000', '43550.00000000'], [1632240000000, '43072.81000000', '43295.66000000'], [1632254400000, '42010.81000000', '42331.87000000'], [1632268800000, '40734.09000000', '42420.75000000'], [1632283200000, '42055.55000000', '42749.40000000'], [1632297600000, '42541.23000000', '42618.55000000'], [1632312000000, '41928.31000000', '43296.00000000'], [1632326400000, '43222.96000000', '44000.55000000'], [1632340800000, '43384.93000000', '43673.42000000'], [1632355200000, '43546.37000000', '44191.42000000'], [1632369600000, '44074.58000000', '44386.60000000'], [1632384000000, '44229.99000000', '44297.25000000'], [1632398400000, '43648.15000000', '44258.11000000'], [1632412800000, '43747.63000000', '44936.77000000'], [1632427200000, '44767.56000000', '44978.00000000'], [1632441600000, '44865.26000000', '44978.53000000'], [1632456000000, '44283.04000000', '45200.00000000'], [1632470400000, '44818.46000000', '45075.00000000'], [1632484800000, '41527.50000000', '42679.93000000'], [1632499200000, '41944.00000000', '42533.47000000'], [1632513600000, '42371.43000000', '43200.00000000'], [1632528000000, '42810.58000000', '42950.00000000'], [1632542400000, '42608.11000000', '42860.94000000'], [1632556800000, '42369.52000000', '42966.84000000'], [1632571200000, '42485.03000000', '42765.54000000'], [1632585600000, '42669.97000000', '42813.34000000'], [1632600000000, '42665.95000000', '42808.29000000'], [1632614400000, '42670.63000000', '42735.05000000'], [1632628800000, '42212.41000000', '42302.79000000'], [1632643200000, '41227.07000000', '43746.90000000'], [1632657600000, '43063.57000000', '43467.22000000'], [1632672000000, '43343.73000000', '43543.99000000'], [1632686400000, '43255.32000000', '43950.00000000'], [1632700800000, '43160.90000000', '44350.00000000'], [1632715200000, '44038.74000000', '44250.00000000'], [1632729600000, '43685.34000000', '44129.28000000'], [1632744000000, '43747.68000000', '44089.75000000'], [1632758400000, '43293.27000000', '43416.42000000'], [1632772800000, '43011.82000000', '43400.00000000'], [1632787200000, '42147.35000000', '42703.65000000'], [1632801600000, '42558.41000000', '42787.38000000'], [1632816000000, '41777.79000000', '42174.26000000'], [1632830400000, '42105.61000000', '42593.69000000'], [1632844800000, '41447.18000000', '41763.97000000'], [1632859200000, '41601.80000000', '42017.33000000'], [1632873600000, '41025.01000000', '42274.76000000'], [1632888000000, '42199.99000000', '42476.26000000'], [1632902400000, '42442.00000000', '42500.00000000'], [1632916800000, '42399.98000000', '42590.00000000'], [1632931200000, '41698.97000000', '41824.01000000'], [1632945600000, '41207.87000000', '41580.67000000'], [1632960000000, '41524.29000000', '43729.68000000'], [1632974400000, '43591.24000000', '43830.00000000'], [1632988800000, '43286.88000000', '43446.77000000'], [1633003200000, '43072.29000000', '43777.00000000'], [1633017600000, '43149.02000000', '44141.37000000'], [1633032000000, '43532.32000000', '43915.89000000'], [1633046400000, '43820.01000000', '44059.00000000'], [1633060800000, '43635.79000000', '44836.00000000'], [1633075200000, '44788.42000000', '47786.70000000'], [1633089600000, '47488.07000000', '47886.11000000'], [1633104000000, '47363.69000000', '48190.00000000'], [1633118400000, '48029.99000000', '48495.00000000'], [1633132800000, '48141.60000000', '48224.01000000'], [1633147200000, '47520.84000000', '47900.00000000'], [1633161600000, '47725.00000000', '47899.01000000'], [1633176000000, '47683.46000000', '48336.59000000'], [1633190400000, '47831.94000000', '48267.00000000'], [1633204800000, '48240.00000000', '48300.00000000'], [1633219200000, '47634.89000000', '47963.00000000'], [1633233600000, '47894.44000000', '48100.00000000'], [1633248000000, '47896.00000000', '48048.00000000'], [1633262400000, '47974.86000000', '48150.00000000'], [1633276800000, '47879.81000000', '49228.08000000'], [1633291200000, '48774.76000000', '48837.88000000'], [1633305600000, '48200.01000000', '48280.71000000'], [1633320000000, '47468.79000000', '47865.51000000'], [1633334400000, '47838.54000000', '47962.51000000'], [1633348800000, '47585.84000000', '48500.00000000'], [1633363200000, '47758.22000000', '49536.12000000'], [1633377600000, '49380.00000000', '49498.78000000'], [1633392000000, '49224.93000000', '49799.00000000'], [1633406400000, '49306.68000000', '49664.14000000'], [1633420800000, '49476.52000000', '50350.00000000'], [1633435200000, '49877.06000000', '50388.00000000'], [1633449600000, '49793.57000000', '51388.00000000'], [1633464000000, '51190.11000000', '51886.30000000'], [1633478400000, '51471.99000000', '51600.00000000'], [1633492800000, '51512.13000000', '51828.00000000'], [1633507200000, '51450.00000000', '51500.00000000'], [1633521600000, '51306.57000000', '55555.00000000'], [1633536000000, '54984.20000000', '55109.67000000'], [1633550400000, '55049.99000000', '55750.00000000'], [1633564800000, '55315.00000000', '55332.31000000'], [1633579200000, '54810.93000000', '55237.04000000'], [1633593600000, '54755.91000000', '54778.91000000'], [1633608000000, '54305.53000000', '54700.00000000'], [1633622400000, '53902.39000000', '54330.00000000'], [1633636800000, '53962.75000000', '54640.30000000'], [1633651200000, '53785.22000000', '54429.99000000'], [1633665600000, '53815.21000000', '54967.97000000'], [1633680000000, '54829.38000000', '56100.00000000'], [1633694400000, '55242.71000000', '55300.00000000'], [1633708800000, '54324.83000000', '54700.00000000'], [1633723200000, '54686.48000000', '54774.35000000'], [1633737600000, '53955.67000000', '54699.00000000'], [1633752000000, '54562.58000000', '55100.00000000'], [1633766400000, '54917.56000000', '55340.30000000'], [1633780800000, '54792.68000000', '55489.00000000'], [1633795200000, '54977.29000000', '55149.96000000'], [1633809600000, '54656.81000000', '55165.00000000'], [1633824000000, '54949.72000000', '55199.00000000'], [1633838400000, '55049.16000000', '56074.43000000'], [1633852800000, '55668.81000000', '55928.00000000'], [1633867200000, '55145.00000000', '55551.38000000'], [1633881600000, '55370.28000000', '55523.36000000'], [1633896000000, '55450.25000000', '56561.31000000'], [1633910400000, '54659.01000000', '56750.00000000'], [1633924800000, '56505.05000000', '57049.00000000'], [1633939200000, '56789.76000000', '56879.95000000'], [1633953600000, '56406.68000000', '57678.00000000'], [1633968000000, '57490.17000000', '57839.04000000'], [1633982400000, '57488.33000000', '57506.84000000'], [1633996800000, '57471.35000000', '57471.35000000'], [1634011200000, '56711.36000000', '57680.00000000'], [1634025600000, '57342.79000000', '57618.99000000'], [1634040000000, '57240.14000000', '57450.00000000'], [1634054400000, '56300.66000000', '56376.74000000'], [1634068800000, '55329.78000000', '56548.99000000'], [1634083200000, '55996.91000000', '56599.99000000'], [1634097600000, '56277.79000000', '56365.00000000'], [1634112000000, '54612.60000000', '55295.70000000'], [1634126400000, '55210.80000000', '56440.75000000'], [1634140800000, '56168.85000000', '57300.00000000'], [1634155200000, '57259.77000000', '57777.00000000'], [1634169600000, '57370.83000000', '58532.54000000'], [1634184000000, '58065.99000000', '58169.99000000'], [1634198400000, '57367.30000000', '58150.00000000'], [1634212800000, '57622.42000000', '57986.20000000'], [1634227200000, '57331.30000000', '58086.98000000'], [1634241600000, '57833.11000000', '57867.11000000'], [1634256000000, '57347.94000000', '59453.75000000'], [1634270400000, '59431.70000000', '59998.00000000'], [1634284800000, '59231.50000000', '59537.61000000'], [1634299200000, '59527.99000000', '60361.50000000'], [1634313600000, '60038.36000000', '61880.00000000'], [1634328000000, '61446.33000000', '62933.00000000'], [1634342400000, '61672.42000000', '61771.65000000'], [1634356800000, '61655.99000000', '62378.42000000'], [1634371200000, '61733.96000000', '62062.55000000'], [1634385600000, '61597.26000000', '61605.81000000'], [1634400000000, '60941.04000000', '61215.64000000'], [1634414400000, '60834.34000000', '61300.00000000'], [1634428800000, '60875.57000000', '61405.94000000'], [1634443200000, '61115.86000000', '61249.93000000'], [1634457600000, '60329.54000000', '61465.90000000'], [1634472000000, '60939.90000000', '61326.64000000'], [1634486400000, '60764.13000000', '61080.00000000'], [1634500800000, '60519.48000000', '61718.39000000'], [1634515200000, '61528.32000000', '62578.91000000'], [1634529600000, '62123.87000000', '62695.78000000'], [1634544000000, '61885.43000000', '62464.01000000'], [1634558400000, '60933.04000000', '62213.73000000'], [1634572800000, '62003.04000000', '62377.73000000'], [1634587200000, '61434.64000000', '62104.72000000'], [1634601600000, '62005.60000000', '62998.00000000'], [1634616000000, '62588.86000000', '62820.20000000'], [1634630400000, '62297.06000000', '62574.42000000'], [1634644800000, '62128.39000000', '63278.61000000'], [1634659200000, '62395.99000000', '64299.00000000'], [1634673600000, '64170.58000000', '64486.00000000'], [1634688000000, '64280.59000000', '64375.34000000'], [1634702400000, '63844.67000000', '64200.69000000'], [1634716800000, '63999.98000000', '64250.00000000'], [1634731200000, '63788.00000000', '67000.00000000'], [1634745600000, '66875.84000000', '66940.73000000'], [1634760000000, '66397.60000000', '66444.47000000'], [1634774400000, '66001.40000000', '66033.64000000'], [1634788800000, '65069.03000000', '65272.86000000'], [1634803200000, '65100.70000000', '66639.74000000'], [1634817600000, '64836.51000000', '65599.98000000'], [1634832000000, '62971.20000000', '63645.10000000'], [1634846400000, '62801.57000000', '63186.94000000'], [1634860800000, '62193.15000000', '63351.02000000'], [1634875200000, '63237.90000000', '63408.85000000'], [1634889600000, '63371.33000000', '63732.39000000'], [1634904000000, '63376.81000000', '63709.50000000'], [1634918400000, '60690.94000000', '61390.07000000'], [1634932800000, '61032.71000000', '61240.00000000'], [1634947200000, '60688.23000000', '61258.43000000'], [1634961600000, '61236.52000000', '61567.11000000'], [1634976000000, '60879.99000000', '61688.00000000'], [1634990400000, '61552.24000000', '61747.64000000'], [1635004800000, '61449.99000000', '61632.29000000'], [1635019200000, '61008.02000000', '61455.27000000'], [1635033600000, '61286.75000000', '61500.00000000'], [1635048000000, '61227.77000000', '61250.00000000'], [1635062400000, '60687.82000000', '61273.69000000'], [1635076800000, '60281.00000000', '60848.18000000'], [1635091200000, '59859.98000000', '60745.12000000'], [1635105600000, '60643.09000000', '61400.00000000'], [1635120000000, '60852.22000000', '62250.00000000'], [1635134400000, '62084.68000000', '62900.00000000'], [1635148800000, '62660.65000000', '63200.00000000'], [1635163200000, '62759.19000000', '63638.00000000'], [1635177600000, '63606.86000000', '63710.63000000'], [1635192000000, '62688.00000000', '63329.48000000'], [1635206400000, '63078.78000000', '63293.48000000'], [1635220800000, '62758.01000000', '62815.98000000'], [1635235200000, '62432.54000000', '63110.00000000'], [1635249600000, '62739.99000000', '62882.99000000'], [1635264000000, '62514.59000000', '62743.86000000'], [1635278400000, '62000.01000000', '62300.27000000'], [1635292800000, '60328.81000000', '60840.00000000'], [1635307200000, '60714.33000000', '61496.00000000'], [1635321600000, '59949.99000000', '59953.94000000'], [1635336000000, '58564.00000000', '59449.00000000'], [1635350400000, '58819.15000000', '59170.00000000'], [1635364800000, '59062.31000000', '59587.35000000'], [1635379200000, '58413.44000000', '59162.02000000'], [1635393600000, '58839.80000000', '59248.60000000'], [1635408000000, '58993.71000000', '61257.82000000'], [1635422400000, '60960.62000000', '61800.00000000'], [1635436800000, '61138.61000000', '61478.42000000'], [1635451200000, '61288.87000000', '62499.00000000'], [1635465600000, '60575.90000000', '62100.00000000'], [1635480000000, '61642.98000000', '61698.51000000'], [1635494400000, '60569.81000000', '61358.28000000'], [1635508800000, '60940.90000000', '62553.96000000'], [1635523200000, '62299.99000000', '62980.00000000'], [1635537600000, '62545.11000000', '62718.87000000'], [1635552000000, '62253.70000000', '62359.25000000'], [1635566400000, '61679.95000000', '61914.14000000'], [1635580800000, '61597.19000000', '61989.99000000'], [1635595200000, '61595.01000000', '62253.00000000'], [1635609600000, '61377.20000000', '61793.00000000'], [1635624000000, '61730.84000000', '61960.00000000'], [1635638400000, '61859.19000000', '62405.30000000'], [1635652800000, '61697.85000000', '61746.28000000'], [1635667200000, '61362.60000000', '61369.36000000'], [1635681600000, '60467.81000000', '60800.22000000'], [1635696000000, '60460.23000000', '60906.79000000'], [1635710400000, '60689.95000000', '61620.06000000'], [1635724800000, '61299.81000000', '61735.30000000'], [1635739200000, '59915.12000000', '62298.00000000'], [1635753600000, '62176.29000000', '62437.74000000'], [1635768000000, '61808.00000000', '62190.00000000'], [1635782400000, '61550.88000000', '61571.46000000']]\n"
     ]
    }
   ],
   "source": [
    "t = Name()\n",
    "print(t.another_func(symbol = 'BTCUSDT', interval=\"4h\"))"
   ]
  },
  {
   "cell_type": "code",
   "execution_count": 1,
   "id": "3d7ce07f",
   "metadata": {},
   "outputs": [
    {
     "data": {
      "text/plain": [
       "0.0"
      ]
     },
     "execution_count": 1,
     "metadata": {},
     "output_type": "execute_result"
    }
   ],
   "source": []
  },
  {
   "cell_type": "code",
   "execution_count": null,
   "id": "07be5c12",
   "metadata": {},
   "outputs": [],
   "source": []
  }
 ],
 "metadata": {
  "kernelspec": {
   "display_name": "Python 3",
   "language": "python",
   "name": "python3"
  },
  "language_info": {
   "codemirror_mode": {
    "name": "ipython",
    "version": 3
   },
   "file_extension": ".py",
   "mimetype": "text/x-python",
   "name": "python",
   "nbconvert_exporter": "python",
   "pygments_lexer": "ipython3",
   "version": "3.8.8"
  }
 },
 "nbformat": 4,
 "nbformat_minor": 5
}
