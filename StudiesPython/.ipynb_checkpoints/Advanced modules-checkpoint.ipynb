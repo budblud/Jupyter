{
 "cells": [
  {
   "cell_type": "markdown",
   "id": "9f1a782e",
   "metadata": {},
   "source": [
    "Numbers"
   ]
  },
  {
   "cell_type": "code",
   "execution_count": 2,
   "id": "6f55539f",
   "metadata": {},
   "outputs": [
    {
     "data": {
      "text/plain": [
       "'0x7d1'"
      ]
     },
     "execution_count": 2,
     "metadata": {},
     "output_type": "execute_result"
    }
   ],
   "source": [
    "hex(2001)\n",
    "#16-я система счисления"
   ]
  },
  {
   "cell_type": "code",
   "execution_count": 4,
   "id": "959d1b34",
   "metadata": {},
   "outputs": [
    {
     "data": {
      "text/plain": [
       "'0b11'"
      ]
     },
     "execution_count": 4,
     "metadata": {},
     "output_type": "execute_result"
    }
   ],
   "source": [
    "bin(3)\n",
    "#2-я система счисления (binary)"
   ]
  },
  {
   "cell_type": "code",
   "execution_count": 6,
   "id": "54c60e9d",
   "metadata": {},
   "outputs": [
    {
     "data": {
      "text/plain": [
       "1"
      ]
     },
     "execution_count": 6,
     "metadata": {},
     "output_type": "execute_result"
    }
   ],
   "source": [
    "abs(-1)\n",
    "#The absolute value of a number(module)"
   ]
  },
  {
   "cell_type": "code",
   "execution_count": 8,
   "id": "96e8c226",
   "metadata": {},
   "outputs": [
    {
     "data": {
      "text/plain": [
       "16"
      ]
     },
     "execution_count": 8,
     "metadata": {},
     "output_type": "execute_result"
    }
   ],
   "source": [
    "pow(2,4)\n",
    "#Works as 2 to the power of 4"
   ]
  },
  {
   "cell_type": "code",
   "execution_count": 10,
   "id": "81935396",
   "metadata": {},
   "outputs": [
    {
     "data": {
      "text/plain": [
       "1"
      ]
     },
     "execution_count": 10,
     "metadata": {},
     "output_type": "execute_result"
    }
   ],
   "source": [
    "pow(2,4,3)\n",
    "#Works as (2**4)%3"
   ]
  },
  {
   "cell_type": "code",
   "execution_count": 16,
   "id": "07de8bb2",
   "metadata": {},
   "outputs": [
    {
     "data": {
      "text/plain": [
       "4"
      ]
     },
     "execution_count": 16,
     "metadata": {},
     "output_type": "execute_result"
    }
   ],
   "source": [
    "round(4.5)"
   ]
  },
  {
   "cell_type": "code",
   "execution_count": 12,
   "id": "2ea40d48",
   "metadata": {},
   "outputs": [
    {
     "data": {
      "text/plain": [
       "6"
      ]
     },
     "execution_count": 12,
     "metadata": {},
     "output_type": "execute_result"
    }
   ],
   "source": [
    "round(5.5)"
   ]
  },
  {
   "cell_type": "markdown",
   "id": "d1e1362b",
   "metadata": {},
   "source": [
    "Strings"
   ]
  },
  {
   "cell_type": "code",
   "execution_count": 17,
   "id": "8d5c3149",
   "metadata": {},
   "outputs": [],
   "source": [
    "s = 'hello world'"
   ]
  },
  {
   "cell_type": "code",
   "execution_count": 19,
   "id": "a6cd9c24",
   "metadata": {},
   "outputs": [
    {
     "data": {
      "text/plain": [
       "'Hello world'"
      ]
     },
     "execution_count": 19,
     "metadata": {},
     "output_type": "execute_result"
    }
   ],
   "source": [
    "s.capitalize()\n",
    "#capitalizes the first letter in a string"
   ]
  },
  {
   "cell_type": "code",
   "execution_count": 21,
   "id": "f56c8e72",
   "metadata": {},
   "outputs": [
    {
     "data": {
      "text/plain": [
       "'HELLO WORLD'"
      ]
     },
     "execution_count": 21,
     "metadata": {},
     "output_type": "execute_result"
    }
   ],
   "source": [
    "s.upper()\n",
    "#capitalizes all letters in the string"
   ]
  },
  {
   "cell_type": "code",
   "execution_count": 22,
   "id": "d01b2e29",
   "metadata": {},
   "outputs": [
    {
     "data": {
      "text/plain": [
       "'hello world'"
      ]
     },
     "execution_count": 22,
     "metadata": {},
     "output_type": "execute_result"
    }
   ],
   "source": [
    "s.lower()\n",
    "#makes all letters lowercase"
   ]
  },
  {
   "cell_type": "code",
   "execution_count": 23,
   "id": "e4cac189",
   "metadata": {},
   "outputs": [
    {
     "data": {
      "text/plain": [
       "2"
      ]
     },
     "execution_count": 23,
     "metadata": {},
     "output_type": "execute_result"
    }
   ],
   "source": [
    "s.count('o')\n",
    "#count how many times that letter or a word was in the string"
   ]
  },
  {
   "cell_type": "code",
   "execution_count": 24,
   "id": "85cc52e1",
   "metadata": {},
   "outputs": [
    {
     "data": {
      "text/plain": [
       "4"
      ]
     },
     "execution_count": 24,
     "metadata": {},
     "output_type": "execute_result"
    }
   ],
   "source": [
    "s.find('o')\n",
    "#shows the index of first leter in that string"
   ]
  },
  {
   "cell_type": "code",
   "execution_count": 25,
   "id": "cbc45d4d",
   "metadata": {},
   "outputs": [
    {
     "data": {
      "text/plain": [
       "'zhello worldz'"
      ]
     },
     "execution_count": 25,
     "metadata": {},
     "output_type": "execute_result"
    }
   ],
   "source": [
    "s.center(13,'z')\n",
    "#put the string in the center of 'zzzz', so the length should be 13"
   ]
  },
  {
   "cell_type": "code",
   "execution_count": 30,
   "id": "6172406b",
   "metadata": {},
   "outputs": [
    {
     "data": {
      "text/plain": [
       "'hellot  hi'"
      ]
     },
     "execution_count": 30,
     "metadata": {},
     "output_type": "execute_result"
    }
   ],
   "source": [
    "'hellot\\thi'.expandtabs()"
   ]
  },
  {
   "cell_type": "code",
   "execution_count": 29,
   "id": "a5f8c24b",
   "metadata": {},
   "outputs": [
    {
     "name": "stdout",
     "output_type": "stream",
     "text": [
      "hello\thi\n"
     ]
    }
   ],
   "source": [
    "print ('hello\\thi')"
   ]
  },
  {
   "cell_type": "code",
   "execution_count": 44,
   "id": "d38c3d48",
   "metadata": {},
   "outputs": [],
   "source": [
    "s = 'hello'"
   ]
  },
  {
   "cell_type": "code",
   "execution_count": 32,
   "id": "bb69e79c",
   "metadata": {},
   "outputs": [
    {
     "data": {
      "text/plain": [
       "True"
      ]
     },
     "execution_count": 32,
     "metadata": {},
     "output_type": "execute_result"
    }
   ],
   "source": [
    "s.isalnum()"
   ]
  },
  {
   "cell_type": "code",
   "execution_count": 35,
   "id": "1ff0059e",
   "metadata": {},
   "outputs": [
    {
     "data": {
      "text/plain": [
       "True"
      ]
     },
     "execution_count": 35,
     "metadata": {},
     "output_type": "execute_result"
    }
   ],
   "source": [
    "s.isalpha()\n",
    "#checks if all letters in the string are from alphabet"
   ]
  },
  {
   "cell_type": "code",
   "execution_count": 36,
   "id": "4e544679",
   "metadata": {},
   "outputs": [
    {
     "data": {
      "text/plain": [
       "'hello'"
      ]
     },
     "execution_count": 36,
     "metadata": {},
     "output_type": "execute_result"
    }
   ],
   "source": [
    "s.lower()\n",
    "#checks if all letters in the string are lowercased"
   ]
  },
  {
   "cell_type": "code",
   "execution_count": 37,
   "id": "c7ec46da",
   "metadata": {},
   "outputs": [
    {
     "data": {
      "text/plain": [
       "False"
      ]
     },
     "execution_count": 37,
     "metadata": {},
     "output_type": "execute_result"
    }
   ],
   "source": [
    "s.isspace()"
   ]
  },
  {
   "cell_type": "code",
   "execution_count": 46,
   "id": "60405b4f",
   "metadata": {},
   "outputs": [
    {
     "data": {
      "text/plain": [
       "False"
      ]
     },
     "execution_count": 46,
     "metadata": {},
     "output_type": "execute_result"
    }
   ],
   "source": [
    "s.istitle()\n",
    "#checks if the first letter is upper"
   ]
  },
  {
   "cell_type": "code",
   "execution_count": 47,
   "id": "0d41c841",
   "metadata": {},
   "outputs": [
    {
     "data": {
      "text/plain": [
       "False"
      ]
     },
     "execution_count": 47,
     "metadata": {},
     "output_type": "execute_result"
    }
   ],
   "source": [
    "s.isupper()\n",
    "#checks if all letters in the string are uppercased"
   ]
  },
  {
   "cell_type": "code",
   "execution_count": 49,
   "id": "f6e0b5c4",
   "metadata": {},
   "outputs": [
    {
     "data": {
      "text/plain": [
       "True"
      ]
     },
     "execution_count": 49,
     "metadata": {},
     "output_type": "execute_result"
    }
   ],
   "source": [
    "s.endswith('o')\n",
    "#checks if the string ends with some symbol"
   ]
  },
  {
   "cell_type": "code",
   "execution_count": 51,
   "id": "5b34d2d4",
   "metadata": {},
   "outputs": [
    {
     "data": {
      "text/plain": [
       "['h', 'llo']"
      ]
     },
     "execution_count": 51,
     "metadata": {},
     "output_type": "execute_result"
    }
   ],
   "source": [
    "s.split('e')\n",
    "#separates the string with the letter 'e', returns string before and after 'e'"
   ]
  },
  {
   "cell_type": "code",
   "execution_count": 52,
   "id": "e4a21949",
   "metadata": {},
   "outputs": [
    {
     "data": {
      "text/plain": [
       "['h', 'h', 'hh', 'h', 'hh', '', 'h', 'h', 'h']"
      ]
     },
     "execution_count": 52,
     "metadata": {},
     "output_type": "execute_result"
    }
   ],
   "source": [
    "'hihihhihihhiihihih'.split('i')"
   ]
  },
  {
   "cell_type": "code",
   "execution_count": 57,
   "id": "60502318",
   "metadata": {},
   "outputs": [
    {
     "data": {
      "text/plain": [
       "('h', 'e', 'llo')"
      ]
     },
     "execution_count": 57,
     "metadata": {},
     "output_type": "execute_result"
    }
   ],
   "source": [
    "s.partition('e')\n",
    "#works as split but returns the first part, separator and second part"
   ]
  },
  {
   "cell_type": "markdown",
   "id": "4c89725f",
   "metadata": {},
   "source": [
    "Sets"
   ]
  },
  {
   "cell_type": "code",
   "execution_count": 58,
   "id": "ee56f132",
   "metadata": {},
   "outputs": [],
   "source": [
    "s = set()"
   ]
  },
  {
   "cell_type": "code",
   "execution_count": 66,
   "id": "5c4b19d0",
   "metadata": {},
   "outputs": [],
   "source": [
    "s.add(1)\n",
    "# .add() is used for adding unique items to a set"
   ]
  },
  {
   "cell_type": "code",
   "execution_count": 67,
   "id": "94b31f4d",
   "metadata": {},
   "outputs": [],
   "source": [
    "s.add(3)"
   ]
  },
  {
   "cell_type": "code",
   "execution_count": 68,
   "id": "6b6d3c21",
   "metadata": {},
   "outputs": [],
   "source": [
    "s.add(3)"
   ]
  },
  {
   "cell_type": "code",
   "execution_count": 69,
   "id": "30e93e5b",
   "metadata": {},
   "outputs": [
    {
     "data": {
      "text/plain": [
       "{1, 3}"
      ]
     },
     "execution_count": 69,
     "metadata": {},
     "output_type": "execute_result"
    }
   ],
   "source": [
    "s"
   ]
  },
  {
   "cell_type": "code",
   "execution_count": 89,
   "id": "b1e2de47",
   "metadata": {},
   "outputs": [],
   "source": [
    "s.clear()\n",
    "#empties the set"
   ]
  },
  {
   "cell_type": "code",
   "execution_count": 90,
   "id": "492224c5",
   "metadata": {},
   "outputs": [
    {
     "data": {
      "text/plain": [
       "set()"
      ]
     },
     "execution_count": 90,
     "metadata": {},
     "output_type": "execute_result"
    }
   ],
   "source": [
    "s"
   ]
  },
  {
   "cell_type": "code",
   "execution_count": 91,
   "id": "44d205f7",
   "metadata": {},
   "outputs": [],
   "source": [
    "s = {1,2,3}"
   ]
  },
  {
   "cell_type": "code",
   "execution_count": 92,
   "id": "f51f55f9",
   "metadata": {},
   "outputs": [],
   "source": [
    "sc = s.copy()\n",
    "#creates a copy of an existing set\n",
    "#if we change the original set, the copy doesnt change"
   ]
  },
  {
   "cell_type": "code",
   "execution_count": 93,
   "id": "ea096151",
   "metadata": {},
   "outputs": [
    {
     "data": {
      "text/plain": [
       "{1, 2, 3}"
      ]
     },
     "execution_count": 93,
     "metadata": {},
     "output_type": "execute_result"
    }
   ],
   "source": [
    "sc"
   ]
  },
  {
   "cell_type": "code",
   "execution_count": 94,
   "id": "b9b22428",
   "metadata": {},
   "outputs": [],
   "source": [
    "s.add(5)\n"
   ]
  },
  {
   "cell_type": "code",
   "execution_count": 95,
   "id": "c50d4e5b",
   "metadata": {},
   "outputs": [
    {
     "data": {
      "text/plain": [
       "({1, 2, 3}, {1, 2, 3, 5})"
      ]
     },
     "execution_count": 95,
     "metadata": {},
     "output_type": "execute_result"
    }
   ],
   "source": [
    "sc, s"
   ]
  },
  {
   "cell_type": "code",
   "execution_count": 96,
   "id": "4e735ae9",
   "metadata": {},
   "outputs": [
    {
     "data": {
      "text/plain": [
       "{5}"
      ]
     },
     "execution_count": 96,
     "metadata": {},
     "output_type": "execute_result"
    }
   ],
   "source": [
    "s.difference(sc)\n",
    "#returns the difference between two sets: (s,sc)"
   ]
  },
  {
   "cell_type": "code",
   "execution_count": 97,
   "id": "b3bdee82",
   "metadata": {},
   "outputs": [],
   "source": [
    "s1 = {1,2,3}\n",
    "s2 = {1,4,5}"
   ]
  },
  {
   "cell_type": "code",
   "execution_count": 101,
   "id": "ecbaa58d",
   "metadata": {},
   "outputs": [],
   "source": [
    "s1.difference_update(s2)\n",
    "# assigns the difference between s1 and s2 to s1"
   ]
  },
  {
   "cell_type": "code",
   "execution_count": 102,
   "id": "6015390d",
   "metadata": {},
   "outputs": [
    {
     "data": {
      "text/plain": [
       "{2, 3}"
      ]
     },
     "execution_count": 102,
     "metadata": {},
     "output_type": "execute_result"
    }
   ],
   "source": [
    "s1"
   ]
  },
  {
   "cell_type": "code",
   "execution_count": 103,
   "id": "3553c648",
   "metadata": {},
   "outputs": [
    {
     "data": {
      "text/plain": [
       "{1, 2, 3, 5}"
      ]
     },
     "execution_count": 103,
     "metadata": {},
     "output_type": "execute_result"
    }
   ],
   "source": [
    "s"
   ]
  },
  {
   "cell_type": "code",
   "execution_count": 106,
   "id": "a1109ffa",
   "metadata": {},
   "outputs": [],
   "source": [
    "s.discard(3)\n",
    "# removes the item from a set if it exists, if not nothing happens"
   ]
  },
  {
   "cell_type": "code",
   "execution_count": 107,
   "id": "d54251b3",
   "metadata": {},
   "outputs": [
    {
     "data": {
      "text/plain": [
       "{1, 2, 5}"
      ]
     },
     "execution_count": 107,
     "metadata": {},
     "output_type": "execute_result"
    }
   ],
   "source": [
    "s"
   ]
  },
  {
   "cell_type": "code",
   "execution_count": 108,
   "id": "83b59d28",
   "metadata": {},
   "outputs": [],
   "source": [
    "s1 = {1,2,3}"
   ]
  },
  {
   "cell_type": "code",
   "execution_count": 109,
   "id": "53c359f2",
   "metadata": {},
   "outputs": [],
   "source": [
    "s2 = {1,2,4}"
   ]
  },
  {
   "cell_type": "code",
   "execution_count": 111,
   "id": "c045aed5",
   "metadata": {},
   "outputs": [
    {
     "data": {
      "text/plain": [
       "{1, 2}"
      ]
     },
     "execution_count": 111,
     "metadata": {},
     "output_type": "execute_result"
    }
   ],
   "source": [
    "s1.intersection(s2)\n",
    "# returns similar items in both sets, named INTERSECTION"
   ]
  },
  {
   "cell_type": "code",
   "execution_count": 112,
   "id": "95be8e56",
   "metadata": {},
   "outputs": [
    {
     "data": {
      "text/plain": [
       "{1, 2, 3}"
      ]
     },
     "execution_count": 112,
     "metadata": {},
     "output_type": "execute_result"
    }
   ],
   "source": [
    "s1"
   ]
  },
  {
   "cell_type": "code",
   "execution_count": null,
   "id": "80ba449a",
   "metadata": {},
   "outputs": [],
   "source": [
    "s1.intersection_update(s2)\n",
    "# asign the result of |s1.intersection(s2)|"
   ]
  }
 ],
 "metadata": {
  "kernelspec": {
   "display_name": "Python 3 (ipykernel)",
   "language": "python",
   "name": "python3"
  },
  "language_info": {
   "codemirror_mode": {
    "name": "ipython",
    "version": 3
   },
   "file_extension": ".py",
   "mimetype": "text/x-python",
   "name": "python",
   "nbconvert_exporter": "python",
   "pygments_lexer": "ipython3",
   "version": "3.8.8"
  }
 },
 "nbformat": 4,
 "nbformat_minor": 5
}
