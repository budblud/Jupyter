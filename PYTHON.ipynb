{
 "cells": [
  {
   "cell_type": "code",
   "execution_count": 2,
   "id": "f71f2773",
   "metadata": {},
   "outputs": [],
   "source": [
    "from binance.client import Client\n",
    "from binance import BinanceSocketManager\n",
    "import pandas as pd\n",
    "import sqlalchemy"
   ]
  },
  {
   "cell_type": "code",
   "execution_count": 7,
   "id": "d4f76113",
   "metadata": {},
   "outputs": [],
   "source": [
    "api_key = 'LTJiHrOqRfBXfds1kdzw0FAwJWL959Pg5jzMucFC6EkjSIOAEGi5ughDSDb1R0N3'\n",
    "api_secret = 'd7EDX0oIKTrp1ilqwzgkMbWRrWlidEC1hC1zhrqyHpfiOOCCnFnvhdyJxQ46CXSe'"
   ]
  },
  {
   "cell_type": "code",
   "execution_count": 25,
   "id": "fd97251e",
   "metadata": {},
   "outputs": [
    {
     "name": "stdout",
     "output_type": "stream",
     "text": [
      "46296.64000000\n"
     ]
    }
   ],
   "source": [
    "client = Client(api_key, api_secret)\n",
    "bsm = BinanceSocketManager(client)\n",
    "socket = bsm.trade_socket('BTCUSDT')\n",
    "\n",
    "await socket.__aenter__()\n",
    "msg = await socket.recv()\n",
    "print(msg['p'])"
   ]
  },
  {
   "cell_type": "code",
   "execution_count": 26,
   "id": "8945286c",
   "metadata": {},
   "outputs": [
    {
     "data": {
      "text/plain": [
       "<bound method Client.withdraw of <binance.client.Client object at 0x7f8f6bfe0850>>"
      ]
     },
     "execution_count": 26,
     "metadata": {},
     "output_type": "execute_result"
    }
   ],
   "source": [
    "pd.api"
   ]
  },
  {
   "cell_type": "code",
   "execution_count": null,
   "id": "12133e77",
   "metadata": {},
   "outputs": [],
   "source": []
  },
  {
   "cell_type": "code",
   "execution_count": null,
   "id": "e99117f4",
   "metadata": {},
   "outputs": [],
   "source": []
  },
  {
   "cell_type": "code",
   "execution_count": null,
   "id": "6f4f0923",
   "metadata": {},
   "outputs": [],
   "source": []
  },
  {
   "cell_type": "code",
   "execution_count": null,
   "id": "1d47b55f",
   "metadata": {},
   "outputs": [],
   "source": []
  }
 ],
 "metadata": {
  "kernelspec": {
   "display_name": "Python 3",
   "language": "python",
   "name": "python3"
  },
  "language_info": {
   "codemirror_mode": {
    "name": "ipython",
    "version": 3
   },
   "file_extension": ".py",
   "mimetype": "text/x-python",
   "name": "python",
   "nbconvert_exporter": "python",
   "pygments_lexer": "ipython3",
   "version": "3.8.8"
  }
 },
 "nbformat": 4,
 "nbformat_minor": 5
}
