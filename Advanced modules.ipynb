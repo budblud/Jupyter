{
 "cells": [
  {
   "cell_type": "markdown",
   "id": "9eeb8d89",
   "metadata": {},
   "source": [
    "Numbers"
   ]
  },
  {
   "cell_type": "code",
   "execution_count": 2,
   "id": "7a7e84b7",
   "metadata": {},
   "outputs": [
    {
     "data": {
      "text/plain": [
       "'0x7d1'"
      ]
     },
     "execution_count": 2,
     "metadata": {},
     "output_type": "execute_result"
    }
   ],
   "source": [
    "hex(2001)\n",
    "#16-я система счисления"
   ]
  },
  {
   "cell_type": "code",
   "execution_count": 4,
   "id": "6e0d5cad",
   "metadata": {},
   "outputs": [
    {
     "data": {
      "text/plain": [
       "'0b11'"
      ]
     },
     "execution_count": 4,
     "metadata": {},
     "output_type": "execute_result"
    }
   ],
   "source": [
    "bin(3)\n",
    "#2-я система счисления (binary)"
   ]
  },
  {
   "cell_type": "code",
   "execution_count": 6,
   "id": "d0582969",
   "metadata": {},
   "outputs": [
    {
     "data": {
      "text/plain": [
       "1"
      ]
     },
     "execution_count": 6,
     "metadata": {},
     "output_type": "execute_result"
    }
   ],
   "source": [
    "abs(-1)\n",
    "#The absolute value of a number(module)"
   ]
  },
  {
   "cell_type": "code",
   "execution_count": 8,
   "id": "5560b675",
   "metadata": {},
   "outputs": [
    {
     "data": {
      "text/plain": [
       "16"
      ]
     },
     "execution_count": 8,
     "metadata": {},
     "output_type": "execute_result"
    }
   ],
   "source": [
    "pow(2,4)\n",
    "#Works as 2 to the power of 4"
   ]
  },
  {
   "cell_type": "code",
   "execution_count": 10,
   "id": "a6f854cb",
   "metadata": {},
   "outputs": [
    {
     "data": {
      "text/plain": [
       "1"
      ]
     },
     "execution_count": 10,
     "metadata": {},
     "output_type": "execute_result"
    }
   ],
   "source": [
    "pow(2,4,3)\n",
    "#Works as (2**4)%3"
   ]
  },
  {
   "cell_type": "code",
   "execution_count": 16,
   "id": "b571cd8c",
   "metadata": {},
   "outputs": [
    {
     "data": {
      "text/plain": [
       "4"
      ]
     },
     "execution_count": 16,
     "metadata": {},
     "output_type": "execute_result"
    }
   ],
   "source": [
    "round(4.5)"
   ]
  },
  {
   "cell_type": "code",
   "execution_count": 12,
   "id": "d9ae7c84",
   "metadata": {},
   "outputs": [
    {
     "data": {
      "text/plain": [
       "6"
      ]
     },
     "execution_count": 12,
     "metadata": {},
     "output_type": "execute_result"
    }
   ],
   "source": [
    "round(5.5)"
   ]
  },
  {
   "cell_type": "markdown",
   "id": "0f6f013d",
   "metadata": {},
   "source": [
    "Strings"
   ]
  },
  {
   "cell_type": "code",
   "execution_count": 17,
   "id": "df1d6472",
   "metadata": {},
   "outputs": [],
   "source": [
    "s = 'hello world'"
   ]
  },
  {
   "cell_type": "code",
   "execution_count": 19,
   "id": "23c7d552",
   "metadata": {},
   "outputs": [
    {
     "data": {
      "text/plain": [
       "'Hello world'"
      ]
     },
     "execution_count": 19,
     "metadata": {},
     "output_type": "execute_result"
    }
   ],
   "source": [
    "s.capitalize()\n",
    "#capitalizes the first letter in a string"
   ]
  },
  {
   "cell_type": "code",
   "execution_count": 21,
   "id": "0925b6a2",
   "metadata": {},
   "outputs": [
    {
     "data": {
      "text/plain": [
       "'HELLO WORLD'"
      ]
     },
     "execution_count": 21,
     "metadata": {},
     "output_type": "execute_result"
    }
   ],
   "source": [
    "s.upper()\n",
    "#capitalizes all letters in the string"
   ]
  },
  {
   "cell_type": "code",
   "execution_count": 22,
   "id": "b23b86fe",
   "metadata": {},
   "outputs": [
    {
     "data": {
      "text/plain": [
       "'hello world'"
      ]
     },
     "execution_count": 22,
     "metadata": {},
     "output_type": "execute_result"
    }
   ],
   "source": [
    "s.lower()\n",
    "#makes all letters lowercase"
   ]
  },
  {
   "cell_type": "code",
   "execution_count": 23,
   "id": "06d8c087",
   "metadata": {},
   "outputs": [
    {
     "data": {
      "text/plain": [
       "2"
      ]
     },
     "execution_count": 23,
     "metadata": {},
     "output_type": "execute_result"
    }
   ],
   "source": [
    "s.count('o')\n",
    "#count how many times that letter or a word was in the string"
   ]
  },
  {
   "cell_type": "code",
   "execution_count": 24,
   "id": "12a010c2",
   "metadata": {},
   "outputs": [
    {
     "data": {
      "text/plain": [
       "4"
      ]
     },
     "execution_count": 24,
     "metadata": {},
     "output_type": "execute_result"
    }
   ],
   "source": [
    "s.find('o')\n",
    "#shows the index of first leter in that string"
   ]
  },
  {
   "cell_type": "code",
   "execution_count": 25,
   "id": "a914f08a",
   "metadata": {},
   "outputs": [
    {
     "data": {
      "text/plain": [
       "'zhello worldz'"
      ]
     },
     "execution_count": 25,
     "metadata": {},
     "output_type": "execute_result"
    }
   ],
   "source": [
    "s.center(13,'z')\n",
    "#put the string in the center of 'zzzz', so the length should be 13"
   ]
  },
  {
   "cell_type": "code",
   "execution_count": 30,
   "id": "62f0aca6",
   "metadata": {},
   "outputs": [
    {
     "data": {
      "text/plain": [
       "'hellot  hi'"
      ]
     },
     "execution_count": 30,
     "metadata": {},
     "output_type": "execute_result"
    }
   ],
   "source": [
    "'hellot\\thi'.expandtabs()"
   ]
  },
  {
   "cell_type": "code",
   "execution_count": 29,
   "id": "95f5868a",
   "metadata": {},
   "outputs": [
    {
     "name": "stdout",
     "output_type": "stream",
     "text": [
      "hello\thi\n"
     ]
    }
   ],
   "source": [
    "print ('hello\\thi')"
   ]
  },
  {
   "cell_type": "code",
   "execution_count": 44,
   "id": "516d8bd3",
   "metadata": {},
   "outputs": [],
   "source": [
    "s = 'hello'"
   ]
  },
  {
   "cell_type": "code",
   "execution_count": 32,
   "id": "60eca177",
   "metadata": {},
   "outputs": [
    {
     "data": {
      "text/plain": [
       "True"
      ]
     },
     "execution_count": 32,
     "metadata": {},
     "output_type": "execute_result"
    }
   ],
   "source": [
    "s.isalnum()"
   ]
  },
  {
   "cell_type": "code",
   "execution_count": 35,
   "id": "6e064fe3",
   "metadata": {},
   "outputs": [
    {
     "data": {
      "text/plain": [
       "True"
      ]
     },
     "execution_count": 35,
     "metadata": {},
     "output_type": "execute_result"
    }
   ],
   "source": [
    "s.isalpha()\n",
    "#checks if all letters in the string are from alphabet"
   ]
  },
  {
   "cell_type": "code",
   "execution_count": 36,
   "id": "5427a57a",
   "metadata": {},
   "outputs": [
    {
     "data": {
      "text/plain": [
       "'hello'"
      ]
     },
     "execution_count": 36,
     "metadata": {},
     "output_type": "execute_result"
    }
   ],
   "source": [
    "s.lower()\n",
    "#checks if all letters in the string are lowercased"
   ]
  },
  {
   "cell_type": "code",
   "execution_count": 37,
   "id": "6fde1ca8",
   "metadata": {},
   "outputs": [
    {
     "data": {
      "text/plain": [
       "False"
      ]
     },
     "execution_count": 37,
     "metadata": {},
     "output_type": "execute_result"
    }
   ],
   "source": [
    "s.isspace()"
   ]
  },
  {
   "cell_type": "code",
   "execution_count": 46,
   "id": "dee397d8",
   "metadata": {},
   "outputs": [
    {
     "data": {
      "text/plain": [
       "False"
      ]
     },
     "execution_count": 46,
     "metadata": {},
     "output_type": "execute_result"
    }
   ],
   "source": [
    "s.istitle()\n",
    "#checks if the first letter is upper"
   ]
  },
  {
   "cell_type": "code",
   "execution_count": 47,
   "id": "0af93d5b",
   "metadata": {},
   "outputs": [
    {
     "data": {
      "text/plain": [
       "False"
      ]
     },
     "execution_count": 47,
     "metadata": {},
     "output_type": "execute_result"
    }
   ],
   "source": [
    "s.isupper()\n",
    "#checks if all letters in the string are uppercased"
   ]
  },
  {
   "cell_type": "code",
   "execution_count": 49,
   "id": "edc21847",
   "metadata": {},
   "outputs": [
    {
     "data": {
      "text/plain": [
       "True"
      ]
     },
     "execution_count": 49,
     "metadata": {},
     "output_type": "execute_result"
    }
   ],
   "source": [
    "s.endswith('o')\n",
    "#checks if the string ends with some symbol"
   ]
  },
  {
   "cell_type": "code",
   "execution_count": 51,
   "id": "b8d87708",
   "metadata": {},
   "outputs": [
    {
     "data": {
      "text/plain": [
       "['h', 'llo']"
      ]
     },
     "execution_count": 51,
     "metadata": {},
     "output_type": "execute_result"
    }
   ],
   "source": [
    "s.split('e')\n",
    "#separates the string with the letter 'e', returns string before and after 'e'"
   ]
  },
  {
   "cell_type": "code",
   "execution_count": 52,
   "id": "cf3cb700",
   "metadata": {},
   "outputs": [
    {
     "data": {
      "text/plain": [
       "['h', 'h', 'hh', 'h', 'hh', '', 'h', 'h', 'h']"
      ]
     },
     "execution_count": 52,
     "metadata": {},
     "output_type": "execute_result"
    }
   ],
   "source": [
    "'hihihhihihhiihihih'.split('i')"
   ]
  },
  {
   "cell_type": "code",
   "execution_count": 57,
   "id": "019b6177",
   "metadata": {},
   "outputs": [
    {
     "data": {
      "text/plain": [
       "('h', 'e', 'llo')"
      ]
     },
     "execution_count": 57,
     "metadata": {},
     "output_type": "execute_result"
    }
   ],
   "source": [
    "s.partition('e')\n",
    "#works as split but returns the first part, separator and second part"
   ]
  },
  {
   "cell_type": "markdown",
   "id": "1e942a13",
   "metadata": {},
   "source": [
    "Sets"
   ]
  },
  {
   "cell_type": "code",
   "execution_count": 58,
   "id": "dc944204",
   "metadata": {},
   "outputs": [],
   "source": [
    "s = set()"
   ]
  },
  {
   "cell_type": "code",
   "execution_count": 66,
   "id": "af8058b5",
   "metadata": {},
   "outputs": [],
   "source": [
    "s.add(1)\n",
    "# .add() is used for adding unique items to a set"
   ]
  },
  {
   "cell_type": "code",
   "execution_count": 67,
   "id": "73b4be2b",
   "metadata": {},
   "outputs": [],
   "source": [
    "s.add(3)"
   ]
  },
  {
   "cell_type": "code",
   "execution_count": 68,
   "id": "e25adc1b",
   "metadata": {},
   "outputs": [],
   "source": [
    "s.add(3)"
   ]
  },
  {
   "cell_type": "code",
   "execution_count": 69,
   "id": "1c9304de",
   "metadata": {},
   "outputs": [
    {
     "data": {
      "text/plain": [
       "{1, 3}"
      ]
     },
     "execution_count": 69,
     "metadata": {},
     "output_type": "execute_result"
    }
   ],
   "source": [
    "s"
   ]
  },
  {
   "cell_type": "code",
   "execution_count": 89,
   "id": "ffd5f3a5",
   "metadata": {},
   "outputs": [],
   "source": [
    "s.clear()\n",
    "#empties the set"
   ]
  },
  {
   "cell_type": "code",
   "execution_count": 90,
   "id": "38fb85b8",
   "metadata": {},
   "outputs": [
    {
     "data": {
      "text/plain": [
       "set()"
      ]
     },
     "execution_count": 90,
     "metadata": {},
     "output_type": "execute_result"
    }
   ],
   "source": [
    "s"
   ]
  },
  {
   "cell_type": "code",
   "execution_count": 91,
   "id": "71c9f189",
   "metadata": {},
   "outputs": [],
   "source": [
    "s = {1,2,3}"
   ]
  },
  {
   "cell_type": "code",
   "execution_count": 92,
   "id": "5ca882c5",
   "metadata": {},
   "outputs": [],
   "source": [
    "sc = s.copy()\n",
    "#creates a copy of an existing set\n",
    "#if we change the original set, the copy doesnt change"
   ]
  },
  {
   "cell_type": "code",
   "execution_count": 93,
   "id": "2f40f361",
   "metadata": {},
   "outputs": [
    {
     "data": {
      "text/plain": [
       "{1, 2, 3}"
      ]
     },
     "execution_count": 93,
     "metadata": {},
     "output_type": "execute_result"
    }
   ],
   "source": [
    "sc"
   ]
  },
  {
   "cell_type": "code",
   "execution_count": 94,
   "id": "629deba9",
   "metadata": {},
   "outputs": [],
   "source": [
    "s.add(5)\n"
   ]
  },
  {
   "cell_type": "code",
   "execution_count": 95,
   "id": "1c8360ea",
   "metadata": {},
   "outputs": [
    {
     "data": {
      "text/plain": [
       "({1, 2, 3}, {1, 2, 3, 5})"
      ]
     },
     "execution_count": 95,
     "metadata": {},
     "output_type": "execute_result"
    }
   ],
   "source": [
    "sc, s"
   ]
  },
  {
   "cell_type": "code",
   "execution_count": 96,
   "id": "2740abbf",
   "metadata": {},
   "outputs": [
    {
     "data": {
      "text/plain": [
       "{5}"
      ]
     },
     "execution_count": 96,
     "metadata": {},
     "output_type": "execute_result"
    }
   ],
   "source": [
    "s.difference(sc)\n",
    "#returns the difference between two sets: (s,sc)"
   ]
  },
  {
   "cell_type": "code",
   "execution_count": 97,
   "id": "43e005f8",
   "metadata": {},
   "outputs": [],
   "source": [
    "s1 = {1,2,3}\n",
    "s2 = {1,4,5}"
   ]
  },
  {
   "cell_type": "code",
   "execution_count": 101,
   "id": "262c74b0",
   "metadata": {},
   "outputs": [],
   "source": [
    "s1.difference_update(s2)\n",
    "# assigns the difference between s1 and s2 to s1"
   ]
  },
  {
   "cell_type": "code",
   "execution_count": 102,
   "id": "874e8657",
   "metadata": {},
   "outputs": [
    {
     "data": {
      "text/plain": [
       "{2, 3}"
      ]
     },
     "execution_count": 102,
     "metadata": {},
     "output_type": "execute_result"
    }
   ],
   "source": [
    "s1"
   ]
  },
  {
   "cell_type": "code",
   "execution_count": 103,
   "id": "53e5b9c8",
   "metadata": {},
   "outputs": [
    {
     "data": {
      "text/plain": [
       "{1, 2, 3, 5}"
      ]
     },
     "execution_count": 103,
     "metadata": {},
     "output_type": "execute_result"
    }
   ],
   "source": [
    "s"
   ]
  },
  {
   "cell_type": "code",
   "execution_count": 106,
   "id": "f4a7c4f2",
   "metadata": {},
   "outputs": [],
   "source": [
    "s.discard(3)\n",
    "# removes the item from a set if it exists, if not nothing happens"
   ]
  },
  {
   "cell_type": "code",
   "execution_count": 107,
   "id": "a77384cd",
   "metadata": {},
   "outputs": [
    {
     "data": {
      "text/plain": [
       "{1, 2, 5}"
      ]
     },
     "execution_count": 107,
     "metadata": {},
     "output_type": "execute_result"
    }
   ],
   "source": [
    "s"
   ]
  },
  {
   "cell_type": "code",
   "execution_count": 108,
   "id": "70629c54",
   "metadata": {},
   "outputs": [],
   "source": [
    "s1 = {1,2,3}"
   ]
  },
  {
   "cell_type": "code",
   "execution_count": 109,
   "id": "0cd56603",
   "metadata": {},
   "outputs": [],
   "source": [
    "s2 = {1,2,4}"
   ]
  },
  {
   "cell_type": "code",
   "execution_count": 111,
   "id": "f8baabfe",
   "metadata": {},
   "outputs": [
    {
     "data": {
      "text/plain": [
       "{1, 2}"
      ]
     },
     "execution_count": 111,
     "metadata": {},
     "output_type": "execute_result"
    }
   ],
   "source": [
    "s1.intersection(s2)\n",
    "# returns similar items in both sets, named INTERSECTION"
   ]
  },
  {
   "cell_type": "code",
   "execution_count": 112,
   "id": "d5deec6f",
   "metadata": {},
   "outputs": [
    {
     "data": {
      "text/plain": [
       "{1, 2, 3}"
      ]
     },
     "execution_count": 112,
     "metadata": {},
     "output_type": "execute_result"
    }
   ],
   "source": [
    "s1"
   ]
  },
  {
   "cell_type": "code",
   "execution_count": 113,
   "id": "d6fb587f",
   "metadata": {},
   "outputs": [],
   "source": [
    "s1.intersection_update(s2)\n",
    "# assign the result of |s1.intersection(s2)| to s1"
   ]
  },
  {
   "cell_type": "code",
   "execution_count": 114,
   "id": "eb40ac95",
   "metadata": {},
   "outputs": [
    {
     "data": {
      "text/plain": [
       "{1, 2}"
      ]
     },
     "execution_count": 114,
     "metadata": {},
     "output_type": "execute_result"
    }
   ],
   "source": [
    "s1"
   ]
  },
  {
   "cell_type": "code",
   "execution_count": 115,
   "id": "cda24cfe",
   "metadata": {},
   "outputs": [],
   "source": [
    "s1 = {1,2}\n",
    "s2 = {1,2,3}\n",
    "s3 = {5}"
   ]
  },
  {
   "cell_type": "code",
   "execution_count": 117,
   "id": "9957b4b9",
   "metadata": {},
   "outputs": [
    {
     "data": {
      "text/plain": [
       "False"
      ]
     },
     "execution_count": 117,
     "metadata": {},
     "output_type": "execute_result"
    }
   ],
   "source": [
    "s1.isdisjoint(s2)\n",
    "# returns True if there are not similar elements in both sets, in other words: if .intersection == {} returns True"
   ]
  },
  {
   "cell_type": "code",
   "execution_count": 118,
   "id": "aa44f502",
   "metadata": {},
   "outputs": [
    {
     "data": {
      "text/plain": [
       "True"
      ]
     },
     "execution_count": 118,
     "metadata": {},
     "output_type": "execute_result"
    }
   ],
   "source": [
    "s1.isdisjoint(s3)\n"
   ]
  },
  {
   "cell_type": "code",
   "execution_count": 119,
   "id": "1a64d679",
   "metadata": {},
   "outputs": [
    {
     "data": {
      "text/plain": [
       "True"
      ]
     },
     "execution_count": 119,
     "metadata": {},
     "output_type": "execute_result"
    }
   ],
   "source": [
    "s1.issubset(s2)\n",
    "# if s1 is a subset of s2\n",
    "# если s1 является подмножеством s2"
   ]
  },
  {
   "cell_type": "code",
   "execution_count": 120,
   "id": "c87e6966",
   "metadata": {},
   "outputs": [
    {
     "data": {
      "text/plain": [
       "{3}"
      ]
     },
     "execution_count": 120,
     "metadata": {},
     "output_type": "execute_result"
    }
   ],
   "source": [
    "s1.symmetric_difference(s2)"
   ]
  },
  {
   "cell_type": "code",
   "execution_count": 121,
   "id": "ddfa640d",
   "metadata": {},
   "outputs": [],
   "source": [
    "s1 = {1,2,3}\n",
    "s2 = {4,2,5}"
   ]
  },
  {
   "cell_type": "code",
   "execution_count": 124,
   "id": "5b9191d9",
   "metadata": {},
   "outputs": [
    {
     "data": {
      "text/plain": [
       "{1, 2, 3, 4, 5}"
      ]
     },
     "execution_count": 124,
     "metadata": {},
     "output_type": "execute_result"
    }
   ],
   "source": [
    "s1.union(s2)\n",
    "# creates an union from two different sets"
   ]
  },
  {
   "cell_type": "code",
   "execution_count": 125,
   "id": "22543066",
   "metadata": {},
   "outputs": [],
   "source": [
    "s1.update(s2)\n",
    "# assign the result of s1.union(s2) to s1"
   ]
  },
  {
   "cell_type": "markdown",
   "id": "311bf1e3",
   "metadata": {},
   "source": [
    "Dictionaries"
   ]
  },
  {
   "cell_type": "code",
   "execution_count": 126,
   "id": "e7e3c5d4",
   "metadata": {},
   "outputs": [],
   "source": [
    "d = {'k1':1, 'k2':2}"
   ]
  },
  {
   "cell_type": "code",
   "execution_count": 127,
   "id": "bd6be14f",
   "metadata": {},
   "outputs": [
    {
     "data": {
      "text/plain": [
       "{0: 0, 1: 1, 2: 4, 3: 9, 4: 16, 5: 25, 6: 36, 7: 49, 8: 64, 9: 81}"
      ]
     },
     "execution_count": 127,
     "metadata": {},
     "output_type": "execute_result"
    }
   ],
   "source": [
    "{x:x**2 for x in range(10)}"
   ]
  },
  {
   "cell_type": "markdown",
   "id": "9c441746",
   "metadata": {},
   "source": [
    "Lists"
   ]
  },
  {
   "cell_type": "code",
   "execution_count": 129,
   "id": "8746d5c8",
   "metadata": {},
   "outputs": [],
   "source": [
    "lst = [1,2,3,4]"
   ]
  },
  {
   "cell_type": "code",
   "execution_count": 130,
   "id": "1f093e40",
   "metadata": {},
   "outputs": [],
   "source": [
    "lst.append([9,4])"
   ]
  },
  {
   "cell_type": "code",
   "execution_count": 131,
   "id": "df845dce",
   "metadata": {},
   "outputs": [
    {
     "data": {
      "text/plain": [
       "[1, 2, 3, 4, [9, 4]]"
      ]
     },
     "execution_count": 131,
     "metadata": {},
     "output_type": "execute_result"
    }
   ],
   "source": [
    "lst"
   ]
  },
  {
   "cell_type": "code",
   "execution_count": 132,
   "id": "83d51b88",
   "metadata": {},
   "outputs": [],
   "source": [
    "lst.extend([9,4])"
   ]
  },
  {
   "cell_type": "code",
   "execution_count": 133,
   "id": "c5990e5f",
   "metadata": {},
   "outputs": [
    {
     "data": {
      "text/plain": [
       "[1, 2, 3, 4, [9, 4], 9, 4]"
      ]
     },
     "execution_count": 133,
     "metadata": {},
     "output_type": "execute_result"
    }
   ],
   "source": [
    "lst"
   ]
  },
  {
   "cell_type": "code",
   "execution_count": 134,
   "id": "d1a569fc",
   "metadata": {},
   "outputs": [],
   "source": [
    "l = [1,2,3,4]"
   ]
  },
  {
   "cell_type": "code",
   "execution_count": 135,
   "id": "127b47f3",
   "metadata": {},
   "outputs": [
    {
     "data": {
      "text/plain": [
       "[1, 2, 3, 4]"
      ]
     },
     "execution_count": 135,
     "metadata": {},
     "output_type": "execute_result"
    }
   ],
   "source": [
    "l"
   ]
  },
  {
   "cell_type": "code",
   "execution_count": 138,
   "id": "2176108a",
   "metadata": {},
   "outputs": [],
   "source": [
    "l.insert(2,'ppk')\n",
    "# insert the 'ppk' on index 2"
   ]
  },
  {
   "cell_type": "code",
   "execution_count": 140,
   "id": "4eb9af9a",
   "metadata": {},
   "outputs": [],
   "source": [
    "l = [1,2,5,6,2,4,52]"
   ]
  },
  {
   "cell_type": "code",
   "execution_count": 141,
   "id": "602db994",
   "metadata": {},
   "outputs": [],
   "source": [
    "l.sort()"
   ]
  },
  {
   "cell_type": "code",
   "execution_count": 142,
   "id": "3a6200f6",
   "metadata": {},
   "outputs": [
    {
     "data": {
      "text/plain": [
       "[1, 2, 2, 4, 5, 6, 52]"
      ]
     },
     "execution_count": 142,
     "metadata": {},
     "output_type": "execute_result"
    }
   ],
   "source": [
    "l"
   ]
  },
  {
   "cell_type": "code",
   "execution_count": null,
   "id": "45c2194b",
   "metadata": {},
   "outputs": [],
   "source": []
  }
 ],
 "metadata": {
  "kernelspec": {
   "display_name": "Python 3",
   "language": "python",
   "name": "python3"
  },
  "language_info": {
   "codemirror_mode": {
    "name": "ipython",
    "version": 3
   },
   "file_extension": ".py",
   "mimetype": "text/x-python",
   "name": "python",
   "nbconvert_exporter": "python",
   "pygments_lexer": "ipython3",
   "version": "3.8.8"
  }
 },
 "nbformat": 4,
 "nbformat_minor": 5
}
