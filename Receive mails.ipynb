{
 "cells": [
  {
   "cell_type": "code",
   "execution_count": 1,
   "id": "18fcb455",
   "metadata": {},
   "outputs": [],
   "source": [
    "import imaplib"
   ]
  },
  {
   "cell_type": "code",
   "execution_count": 2,
   "id": "cc2e2f39",
   "metadata": {},
   "outputs": [],
   "source": [
    "M = imaplib.IMAP4_SSL('imap.gmail.com')"
   ]
  },
  {
   "cell_type": "code",
   "execution_count": 3,
   "id": "f867049a",
   "metadata": {},
   "outputs": [],
   "source": [
    "import getpass"
   ]
  },
  {
   "cell_type": "code",
   "execution_count": 6,
   "id": "18217ee9",
   "metadata": {},
   "outputs": [
    {
     "name": "stdout",
     "output_type": "stream",
     "text": [
      "Email: illiagp2xl@gmail.com\n",
      "Pass: ········\n"
     ]
    }
   ],
   "source": [
    "email = input('Email: ')\n",
    "password = getpass.getpass('Pass: ')\n"
   ]
  },
  {
   "cell_type": "code",
   "execution_count": 7,
   "id": "c0ad410c",
   "metadata": {},
   "outputs": [
    {
     "data": {
      "text/plain": [
       "('OK', [b'illiagp2xl@gmail.com authenticated (Success)'])"
      ]
     },
     "execution_count": 7,
     "metadata": {},
     "output_type": "execute_result"
    }
   ],
   "source": [
    "M.login(email,password)"
   ]
  },
  {
   "cell_type": "code",
   "execution_count": 8,
   "id": "3dba8073",
   "metadata": {},
   "outputs": [
    {
     "data": {
      "text/plain": [
       "('OK',\n",
       " [b'(\\\\HasNoChildren) \"/\" \"INBOX\"',\n",
       "  b'(\\\\HasChildren \\\\Noselect) \"/\" \"[Gmail]\"',\n",
       "  b'(\\\\All \\\\HasNoChildren) \"/\" \"[Gmail]/All Mail\"',\n",
       "  b'(\\\\Drafts \\\\HasNoChildren) \"/\" \"[Gmail]/Drafts\"',\n",
       "  b'(\\\\HasNoChildren \\\\Important) \"/\" \"[Gmail]/Important\"',\n",
       "  b'(\\\\HasNoChildren \\\\Sent) \"/\" \"[Gmail]/Sent Mail\"',\n",
       "  b'(\\\\HasNoChildren \\\\Junk) \"/\" \"[Gmail]/Spam\"',\n",
       "  b'(\\\\Flagged \\\\HasNoChildren) \"/\" \"[Gmail]/Starred\"',\n",
       "  b'(\\\\HasNoChildren \\\\Trash) \"/\" \"[Gmail]/Trash\"'])"
      ]
     },
     "execution_count": 8,
     "metadata": {},
     "output_type": "execute_result"
    }
   ],
   "source": [
    "M.list()"
   ]
  },
  {
   "cell_type": "code",
   "execution_count": 10,
   "id": "77946605",
   "metadata": {},
   "outputs": [
    {
     "data": {
      "text/plain": [
       "('OK', [b'402'])"
      ]
     },
     "execution_count": 10,
     "metadata": {},
     "output_type": "execute_result"
    }
   ],
   "source": [
    "M.select('inbox')"
   ]
  },
  {
   "cell_type": "markdown",
   "id": "c3a13818",
   "metadata": {},
   "source": [
    "<tr>\n",
    "    <td>'BEFORE date'</td>\n",
    "    <td>\n",
    "    Returns all messages before the date. Date must be formatted as 01-Nov-2000.\n",
    "    </td>\n",
    "</tr>\n",
    "\n",
    " <tr>\n",
    "    <td>'ON date'</td>\n",
    "    <td>\n",
    "    Returns all messages on the date. Date must be formatted as 01-Nov-2000.\n",
    "    </td>\n",
    "</tr>\n",
    "\n",
    " <tr>\n",
    "    <td>'SINCE date'</td>\n",
    "    <td>\n",
    "    Returns all messages after the date. Date must be formatted as 01-Nov-2000.\n",
    "    </td>\n",
    "</tr>\n",
    "\n",
    "<tr>\n",
    "    <td>'FROM some_string '</td>\n",
    "    <td>\n",
    "    Returns all from the sender in the string. String can be an email, for example 'FROM               user@example.com' or just a string that may appear in the email, \"FROM example\"\n",
    "    </td>\n",
    "</tr>\n",
    "\n",
    "<tr>\n",
    "    <td>'TO some_string'</td>\n",
    "    <td>\n",
    "    Returns all outgoing email to the email in the string. String can be an email, for example 'FROM user@example.com' or just a string that may appear in the email, \"FROM example\"\n",
    "    </td>\n",
    "</tr>\n",
    "\n",
    "<tr>\n",
    "    <td>'CC some_string' and/or 'BCC some_string'</td>\n",
    "    <td>\n",
    "    Returns all messages in your email folder. Often there are size limits from imaplib.\n",
    "    To change these use imaplib._MAXLINE = 100 , where 100 is whatever you want the limit to be.\n",
    "    </td>\n",
    "</tr>\n",
    "\n",
    "<tr>\n",
    "    <td>'SUBJECT string','BODY string','TEXT \"string with spaces\"'</td>\n",
    "    <td>\n",
    "    Returns all messages with the subject string or the string in the body of the email. If the string you are searching for has spaces in it, wrap it in double quotes.\n",
    "    </td>\n",
    "</tr>\n",
    "\n",
    "<tr>\n",
    "    <td>'SEEN', 'UNSEEN'</td>\n",
    "    <td>\n",
    "    Returns all messages that have been seen or unseen. (Also known as read or unread)\n",
    "    </td>\n",
    "</tr>\n",
    "\n",
    "\n",
    "    <tr>\n",
    "    <td>'ANSWERED', 'UNANSWERED'</td>\n",
    "    <td>\n",
    "    Returns all messages that have been replied to or unreplied to. \n",
    "    </td>\n",
    "</tr>\n",
    "\n",
    "\n",
    "    <tr>\n",
    "    <td>'DELETED', 'UNDELETED'</td>\n",
    "    <td>\n",
    "    Returns all messages that have been deleted or that have not been deleted.\n",
    "    </td>\n",
    "</tr>"
   ]
  },
  {
   "cell_type": "code",
   "execution_count": 12,
   "id": "e26fc12f",
   "metadata": {},
   "outputs": [],
   "source": [
    "typ, data = M.search(None, \"FROM illiagp2xl@gmail.com\")"
   ]
  },
  {
   "cell_type": "code",
   "execution_count": 13,
   "id": "60e61beb",
   "metadata": {},
   "outputs": [
    {
     "data": {
      "text/plain": [
       "'OK'"
      ]
     },
     "execution_count": 13,
     "metadata": {},
     "output_type": "execute_result"
    }
   ],
   "source": [
    "typ"
   ]
  },
  {
   "cell_type": "code",
   "execution_count": 35,
   "id": "0a221fb7",
   "metadata": {},
   "outputs": [],
   "source": [
    "email_id = data[0].split()[1]"
   ]
  },
  {
   "cell_type": "code",
   "execution_count": 36,
   "id": "0f665b31",
   "metadata": {},
   "outputs": [],
   "source": [
    "result, email_data = M.fetch(email_id, '(RFC822)')"
   ]
  },
  {
   "cell_type": "code",
   "execution_count": 37,
   "id": "4fe49a28",
   "metadata": {},
   "outputs": [
    {
     "data": {
      "text/plain": [
       "'OK'"
      ]
     },
     "execution_count": 37,
     "metadata": {},
     "output_type": "execute_result"
    }
   ],
   "source": [
    "result"
   ]
  },
  {
   "cell_type": "code",
   "execution_count": 41,
   "id": "ade39cb0",
   "metadata": {},
   "outputs": [],
   "source": [
    "raw_mail = email_data[0][1].decode('utf-8')"
   ]
  },
  {
   "cell_type": "code",
   "execution_count": 42,
   "id": "c26dd360",
   "metadata": {},
   "outputs": [
    {
     "data": {
      "text/plain": [
       "'MIME-Version: 1.0\\r\\nDate: Fri, 9 Jul 2021 10:25:52 +0300\\r\\nReferences: <31gMX000000000000000000000000000000000000000000000QVYQPG009RMa6rJLSr-wYEM-LD7rqA@sfdc.net>\\r\\nIn-Reply-To: <31gMX000000000000000000000000000000000000000000000QVYQPG009RMa6rJLSr-wYEM-LD7rqA@sfdc.net>\\r\\nMessage-ID: <CAACD2eXmrX-Lgtkbbtt8+NOXovt6nSM4Ta2FtJcQ2NLs_4E6bA@mail.gmail.com>\\r\\nSubject: =?UTF-8?Q?Re=3A_International_University_of_Applied_Sciences_=E2=80=93?=\\r\\n\\t=?UTF-8?Q?_your_visa_prep_session?=\\r\\nFrom: =?UTF-8?B?0L/Qv9C6INC30LDQs9C+0YDRg9C70YzQutC+?= <illiagp2xl@gmail.com>\\r\\nTo: Oloruntobi Amuda <oloruntobi-lois.amuda@iu.org>\\r\\nContent-Type: multipart/alternative; boundary=\"00000000000078361605c6abae85\"\\r\\n\\r\\n--00000000000078361605c6abae85\\r\\nContent-Type: text/plain; charset=\"UTF-8\"\\r\\n\\r\\nDear Oloruntobi,\\r\\n\\r\\nYes, it will be suitable for me.\\r\\n\\r\\n--00000000000078361605c6abae85\\r\\nContent-Type: text/html; charset=\"UTF-8\"\\r\\nContent-Transfer-Encoding: quoted-printable\\r\\n\\r\\n<div>Dear=C2=A0Oloruntobi,=C2=A0<div dir=3D\"auto\"><br></div><div dir=3D\"aut=\\r\\no\">Yes, it will be suitable for me.</div>\\r\\n</div>\\r\\n\\r\\n--00000000000078361605c6abae85--'"
      ]
     },
     "execution_count": 42,
     "metadata": {},
     "output_type": "execute_result"
    }
   ],
   "source": [
    "raw_mail"
   ]
  },
  {
   "cell_type": "code",
   "execution_count": 46,
   "id": "baea9a3b",
   "metadata": {},
   "outputs": [
    {
     "ename": "AttributeError",
     "evalue": "'str' object has no attribute 'walk'",
     "output_type": "error",
     "traceback": [
      "\u001b[1;31m---------------------------------------------------------------------------\u001b[0m",
      "\u001b[1;31mAttributeError\u001b[0m                            Traceback (most recent call last)",
      "\u001b[1;32m~\\AppData\\Local\\Temp/ipykernel_7736/4095242130.py\u001b[0m in \u001b[0;36m<module>\u001b[1;34m\u001b[0m\n\u001b[1;32m----> 1\u001b[1;33m \u001b[0mraw_mail\u001b[0m\u001b[1;33m.\u001b[0m\u001b[0mwalk\u001b[0m\u001b[1;33m(\u001b[0m\u001b[1;33m)\u001b[0m\u001b[1;33m\u001b[0m\u001b[1;33m\u001b[0m\u001b[0m\n\u001b[0m",
      "\u001b[1;31mAttributeError\u001b[0m: 'str' object has no attribute 'walk'"
     ]
    }
   ],
   "source": []
  },
  {
   "cell_type": "code",
   "execution_count": null,
   "id": "3eee1e7d",
   "metadata": {},
   "outputs": [],
   "source": []
  }
 ],
 "metadata": {
  "kernelspec": {
   "display_name": "Python 3 (ipykernel)",
   "language": "python",
   "name": "python3"
  },
  "language_info": {
   "codemirror_mode": {
    "name": "ipython",
    "version": 3
   },
   "file_extension": ".py",
   "mimetype": "text/x-python",
   "name": "python",
   "nbconvert_exporter": "python",
   "pygments_lexer": "ipython3",
   "version": "3.8.8"
  }
 },
 "nbformat": 4,
 "nbformat_minor": 5
}
